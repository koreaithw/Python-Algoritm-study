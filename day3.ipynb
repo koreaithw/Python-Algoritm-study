{
  "cells": [
    {
      "cell_type": "markdown",
      "metadata": {
        "id": "view-in-github",
        "colab_type": "text"
      },
      "source": [
        "<a href=\"https://colab.research.google.com/github/koreaithw/ai/blob/main/day3.ipynb\" target=\"_parent\"><img src=\"https://colab.research.google.com/assets/colab-badge.svg\" alt=\"Open In Colab\"/></a>"
      ]
    },
    {
      "cell_type": "code",
      "execution_count": null,
      "metadata": {
        "id": "C3h_ceGkzB8m"
      },
      "outputs": [],
      "source": [
        "# ###########\n",
        "# Review\n",
        "# ###########\n",
        "\n",
        "#****************************************************************************************\n",
        "# Collection : 많은 데이터(elements)를 저장\n",
        "# 리스트 list             튜플 tuple              딕셔너리  dict              셋 set\n",
        "# []                      ()                      {}                          {}\n",
        "# mutable                 immutable               mutable                     mutable\n",
        "# indexing/slicing        indexing/slicing        nope                        nope\n",
        "#                         (1,) or 1,              {key:value} \n",
        "#                                                 자바의 map,JS json\n",
        "#*****************************************************************************************\n",
        "\n",
        "\n"
      ]
    },
    {
      "cell_type": "code",
      "source": [
        "#List\n",
        "list1=[1,2,3,4,5]\n",
        "list2 = [6,7,8,\"superman\",True,False]\n",
        "\n",
        "print(list1[2]) #indexing\n",
        "print(list2[2:4])#slicing [시작:끝(미만):간격]\n",
        "\n",
        "list1[0]=9  #수정\n",
        "print(list1)  \n",
        "del list1[0] #삭제\n",
        "print(list1) \n",
        "print(list1*3) #연산가능(비파괴적)\n",
        "list1.append(8) #추가 append(value)는 마지막에 넣는다\n",
        "print(list1)\n",
        "list1.insert(1,100) #insert(index,value)\n",
        "print(list1)"
      ],
      "metadata": {
        "colab": {
          "base_uri": "https://localhost:8080/"
        },
        "id": "jpYXnxh88zMp",
        "outputId": "5b76c8cb-3e63-4eb9-d0b3-f2138cfc4af6"
      },
      "execution_count": null,
      "outputs": [
        {
          "output_type": "stream",
          "name": "stdout",
          "text": [
            "3\n",
            "[8, 'superman']\n",
            "[9, 2, 3, 4, 5]\n",
            "[2, 3, 4, 5]\n",
            "[2, 3, 4, 5, 2, 3, 4, 5, 2, 3, 4, 5]\n",
            "[2, 3, 4, 5, 8]\n",
            "[2, 100, 3, 4, 5, 8]\n"
          ]
        }
      ]
    },
    {
      "cell_type": "code",
      "execution_count": null,
      "metadata": {
        "colab": {
          "base_uri": "https://localhost:8080/"
        },
        "id": "Q-1sdPGO6YjT",
        "outputId": "a1973c0c-e257-4e8e-dcbc-c9864cf2f118"
      },
      "outputs": [
        {
          "output_type": "stream",
          "name": "stdout",
          "text": [
            "[2, 3, 4, 5, 8]\n",
            "[2, 4, 5, 8]\n",
            "[2, 4, 5, 8]\n",
            "140109568281808\n",
            "140109568281808\n",
            "140109445869968\n"
          ]
        }
      ],
      "source": [
        "list3 = list1\n",
        "print(list3)\n",
        "\n",
        "del list3[1]\n",
        "\n",
        "print(list1)\n",
        "print(list3)\n",
        "\n",
        "# list1  -----> [2, 100, 3, 4, 5, 8]  <------ list3\n",
        "\n",
        "print(id(list1))  #메모리의 위치를 나타냄 id()\n",
        "print(id(list3))\n",
        "\n",
        "#***********주소가 같지 않은 복사본을 만들고 싶을때************\n",
        "list4 = list1.copy()\n",
        "print(id(list4))"
      ]
    },
    {
      "cell_type": "code",
      "source": [
        "t1=(\"대한\",\"민국\")\n",
        "type(t1)\n",
        "t2 = (\"대한\",)\n",
        "print(t1,t2)"
      ],
      "metadata": {
        "colab": {
          "base_uri": "https://localhost:8080/"
        },
        "id": "awz0E7lV9RBT",
        "outputId": "ceedb5c4-74cb-4daa-e718-1d1e527dbeca"
      },
      "execution_count": null,
      "outputs": [
        {
          "output_type": "stream",
          "name": "stdout",
          "text": [
            "('대한', '민국') ('대한',)\n"
          ]
        }
      ]
    },
    {
      "cell_type": "code",
      "source": [
        "# t1[0] = \"만세\"  #수정불가능 (immutable)\n",
        "t1[0]      #indexting / slicing 가능\n",
        "# t1.pop() #삭제(뽑아 내는것) 불가능"
      ],
      "metadata": {
        "colab": {
          "base_uri": "https://localhost:8080/",
          "height": 35
        },
        "id": "IPMWGNev93QF",
        "outputId": "e3ad76c1-cc30-48f1-9b1a-535b72266d03"
      },
      "execution_count": null,
      "outputs": [
        {
          "output_type": "execute_result",
          "data": {
            "application/vnd.google.colaboratory.intrinsic+json": {
              "type": "string"
            },
            "text/plain": [
              "'대한'"
            ]
          },
          "metadata": {},
          "execution_count": 7
        }
      ]
    },
    {
      "cell_type": "code",
      "source": [
        "#Dict\n",
        "\n",
        "dict = {\n",
        "    \"key\":\"Value\"\n",
        "}\n",
        "print(dict)           #dict 전체호출\n",
        "print(dict[\"key\"])    #value값 호출\n",
        "\n",
        "dict[\"name\"] = \"tor\"  #추가\n",
        "print(dict)\n",
        "\n",
        "del dict[\"key\"]       #삭제\n",
        "print(dict)"
      ],
      "metadata": {
        "colab": {
          "base_uri": "https://localhost:8080/"
        },
        "id": "ldvQZ-wG-5g6",
        "outputId": "3162256d-d5b1-4930-8baa-e3cac09d086a"
      },
      "execution_count": null,
      "outputs": [
        {
          "output_type": "stream",
          "name": "stdout",
          "text": [
            "{'key': 'Value'}\n",
            "Value\n",
            "{'key': 'Value', 'name': 'tor'}\n",
            "{'name': 'tor'}\n"
          ]
        }
      ]
    },
    {
      "cell_type": "code",
      "source": [
        "# Set\n",
        "\n",
        "set={1,1,2,2,2,3}\n",
        "print(set)                 #중복이없다는 장점 -- list에 중복이있을때 set으로 바꿔서 중복 없엔 후 사용가능 다시 리스트로 바꿔서 사용가능\n",
        "\n",
        "# print(set[0])            #사용불가 순서가 없어서\n",
        "\n",
        "\n"
      ],
      "metadata": {
        "colab": {
          "base_uri": "https://localhost:8080/"
        },
        "id": "f5j1uYgGAAGX",
        "outputId": "b9cc4b3e-0521-45bb-b129-dc89d623c5e9"
      },
      "execution_count": null,
      "outputs": [
        {
          "output_type": "stream",
          "name": "stdout",
          "text": [
            "{1, 2, 3}\n"
          ]
        }
      ]
    },
    {
      "cell_type": "code",
      "source": [
        "# #########\n",
        "# if 조건문\n",
        "# #########\n",
        "\n",
        "# if 조건문:\n",
        "#   True 일 때 실행문\n",
        "# else:\n",
        "#   False 일 때 실행문\n",
        "\n",
        "if True:\n",
        "  print(True)\n",
        "else:\n",
        "  print(False)\n",
        "\n"
      ],
      "metadata": {
        "colab": {
          "base_uri": "https://localhost:8080/"
        },
        "id": "7ltr5h4NHbwB",
        "outputId": "161b6261-b101-45f6-fea0-25d2ea4e927e"
      },
      "execution_count": null,
      "outputs": [
        {
          "output_type": "stream",
          "name": "stdout",
          "text": [
            "True\n"
          ]
        }
      ]
    },
    {
      "cell_type": "code",
      "source": [
        "#Quiz 1\n",
        "strsc = input(\"당신의 점수를 입력하세요\")\n",
        "sc = int(strsc)\n",
        "\n",
        "if sc >=90:\n",
        "  gr=\"A\"\n",
        "elif sc >=80:\n",
        "  gr=\"B\"\n",
        "elif sc >=70:\n",
        "  gr=\"C\"\n",
        "elif sc >=60:\n",
        "  gr=\"D\"\n",
        "else:\n",
        "  gr=\"F\"\n",
        "\n",
        "if int(strsc[-1])>=7:\n",
        "  de =\"+\"\n",
        "elif int(strsc[-1])>=4:\n",
        "  de=\"0\"\n",
        "else:\n",
        "  de=\"-\"\n",
        "print(f\"당신의 점수는 {sc}이고 학점은 {gr}{de}학점입니다.\")"
      ],
      "metadata": {
        "colab": {
          "base_uri": "https://localhost:8080/"
        },
        "id": "hVzIQ2NIHdr8",
        "outputId": "7b0e2371-f6d1-43c6-83d1-7dc2bb99a204"
      },
      "execution_count": null,
      "outputs": [
        {
          "output_type": "stream",
          "name": "stdout",
          "text": [
            "당신의 점수를 입력하세요60\n",
            "당신의 점수는 60이고 학점은 D-학점입니다.\n"
          ]
        }
      ]
    },
    {
      "cell_type": "code",
      "source": [
        "##########################\n",
        "# while\n",
        "##########################\n",
        "\n",
        "# 반복문은 작업 수행을 한 번이 아니라 계속해서 수행해야 할 때 사용한다.\n",
        "# while 반복 작업을 몇번 수행할지 확실하지 않을 떄 주로 사용한다.\n",
        "# 운동장을 해가 질 떄까지 반복해서 돌자\n",
        "\n",
        "# while 조건구문:\n",
        "#   실행구문\n",
        "\n",
        "i=0\n",
        "while i<10:\n",
        "  print(\"운동장돌기\")\n",
        "  i=i+1"
      ],
      "metadata": {
        "colab": {
          "base_uri": "https://localhost:8080/"
        },
        "id": "EqsD_62UJWte",
        "outputId": "63e18790-5bdd-4018-e1d1-c2db51f26f65"
      },
      "execution_count": null,
      "outputs": [
        {
          "output_type": "stream",
          "name": "stdout",
          "text": [
            "운동장돌기\n",
            "운동장돌기\n",
            "운동장돌기\n",
            "운동장돌기\n",
            "운동장돌기\n",
            "운동장돌기\n",
            "운동장돌기\n",
            "운동장돌기\n",
            "운동장돌기\n",
            "운동장돌기\n"
          ]
        }
      ]
    },
    {
      "cell_type": "code",
      "source": [
        "n=1\n",
        "while n<=10:\n",
        " print(n)\n",
        " n += 1\n",
        "print(\"--------\") \n",
        "print(n)"
      ],
      "metadata": {
        "colab": {
          "base_uri": "https://localhost:8080/"
        },
        "id": "DVibjuaXTEhz",
        "outputId": "7fc6c8e0-502a-4d99-a463-992437f9dfe0"
      },
      "execution_count": null,
      "outputs": [
        {
          "output_type": "stream",
          "name": "stdout",
          "text": [
            "1\n",
            "2\n",
            "3\n",
            "4\n",
            "5\n",
            "6\n",
            "7\n",
            "8\n",
            "9\n",
            "10\n",
            "--------\n",
            "11\n"
          ]
        }
      ]
    },
    {
      "cell_type": "code",
      "source": [
        "n=10\n",
        "while n>=1:\n",
        "  print(n)\n",
        "  n -= 2"
      ],
      "metadata": {
        "colab": {
          "base_uri": "https://localhost:8080/"
        },
        "id": "bJVDGorfUX1R",
        "outputId": "8fc41711-df3c-4290-b8fd-8f9157c68437"
      },
      "execution_count": null,
      "outputs": [
        {
          "output_type": "stream",
          "name": "stdout",
          "text": [
            "10\n",
            "8\n",
            "6\n",
            "4\n",
            "2\n"
          ]
        }
      ]
    },
    {
      "cell_type": "code",
      "source": [
        "li = []\n",
        "n=1\n",
        "while n!=0:\n",
        "  n=int(input(\"임의의 정수\"))\n",
        "\n",
        "  if n!=0:\n",
        "    li.append(n)\n",
        "print(li) \n",
        "\n"
      ],
      "metadata": {
        "colab": {
          "base_uri": "https://localhost:8080/"
        },
        "id": "70RGY8KkVT5z",
        "outputId": "31019b7f-7f76-4858-fa94-1ea89a22e3cf"
      },
      "execution_count": null,
      "outputs": [
        {
          "output_type": "stream",
          "name": "stdout",
          "text": [
            "임의의 정수1\n",
            "임의의 정수2\n",
            "임의의 정수4\n",
            "임의의 정수6\n",
            "임의의 정수0\n",
            "[1, 2, 4, 6]\n"
          ]
        }
      ]
    },
    {
      "cell_type": "code",
      "source": [
        "# while 중첩\n",
        "# while 내부에 또 다른 while을 사용하는 것을 중첩이라고 한다.\n",
        "\n",
        "# 5일동안 1-3교시 수업.\n",
        "day=1\n",
        "c=1\n",
        "while day<=3:\n",
        "  c=1 \n",
        "  while  c<=3:\n",
        "    print(f\"{day}일차 {c}교시입니다\")\n",
        "    c +=1\n",
        "  day +=1  "
      ],
      "metadata": {
        "colab": {
          "base_uri": "https://localhost:8080/"
        },
        "id": "wMB87rXhYuOq",
        "outputId": "01adca51-1778-4848-a6ef-1b95aaaab559"
      },
      "execution_count": null,
      "outputs": [
        {
          "output_type": "stream",
          "name": "stdout",
          "text": [
            "1일차 1교시입니다\n",
            "1일차 2교시입니다\n",
            "1일차 3교시입니다\n",
            "2일차 1교시입니다\n",
            "2일차 2교시입니다\n",
            "2일차 3교시입니다\n",
            "3일차 1교시입니다\n",
            "3일차 2교시입니다\n",
            "3일차 3교시입니다\n"
          ]
        }
      ]
    },
    {
      "cell_type": "code",
      "source": [
        "# 구구단 2단터 9단\n",
        "i=2\n",
        "while i<=9:\n",
        "  j=1\n",
        "  while j<=9:\n",
        "    print(f\"{i} X {j} = {i*j}\")\n",
        "    j+=1\n",
        "  i+=1  "
      ],
      "metadata": {
        "colab": {
          "base_uri": "https://localhost:8080/"
        },
        "id": "GBF9wxi_syfv",
        "outputId": "a97cf26f-c3cd-45cc-fb67-d73b791ff866"
      },
      "execution_count": null,
      "outputs": [
        {
          "output_type": "stream",
          "name": "stdout",
          "text": [
            "2 X 1 = 2\n",
            "2 X 2 = 4\n",
            "2 X 3 = 6\n",
            "2 X 4 = 8\n",
            "2 X 5 = 10\n",
            "2 X 6 = 12\n",
            "2 X 7 = 14\n",
            "2 X 8 = 16\n",
            "2 X 9 = 18\n",
            "3 X 1 = 3\n",
            "3 X 2 = 6\n",
            "3 X 3 = 9\n",
            "3 X 4 = 12\n",
            "3 X 5 = 15\n",
            "3 X 6 = 18\n",
            "3 X 7 = 21\n",
            "3 X 8 = 24\n",
            "3 X 9 = 27\n",
            "4 X 1 = 4\n",
            "4 X 2 = 8\n",
            "4 X 3 = 12\n",
            "4 X 4 = 16\n",
            "4 X 5 = 20\n",
            "4 X 6 = 24\n",
            "4 X 7 = 28\n",
            "4 X 8 = 32\n",
            "4 X 9 = 36\n",
            "5 X 1 = 5\n",
            "5 X 2 = 10\n",
            "5 X 3 = 15\n",
            "5 X 4 = 20\n",
            "5 X 5 = 25\n",
            "5 X 6 = 30\n",
            "5 X 7 = 35\n",
            "5 X 8 = 40\n",
            "5 X 9 = 45\n",
            "6 X 1 = 6\n",
            "6 X 2 = 12\n",
            "6 X 3 = 18\n",
            "6 X 4 = 24\n",
            "6 X 5 = 30\n",
            "6 X 6 = 36\n",
            "6 X 7 = 42\n",
            "6 X 8 = 48\n",
            "6 X 9 = 54\n",
            "7 X 1 = 7\n",
            "7 X 2 = 14\n",
            "7 X 3 = 21\n",
            "7 X 4 = 28\n",
            "7 X 5 = 35\n",
            "7 X 6 = 42\n",
            "7 X 7 = 49\n",
            "7 X 8 = 56\n",
            "7 X 9 = 63\n",
            "8 X 1 = 8\n",
            "8 X 2 = 16\n",
            "8 X 3 = 24\n",
            "8 X 4 = 32\n",
            "8 X 5 = 40\n",
            "8 X 6 = 48\n",
            "8 X 7 = 56\n",
            "8 X 8 = 64\n",
            "8 X 9 = 72\n",
            "9 X 1 = 9\n",
            "9 X 2 = 18\n",
            "9 X 3 = 27\n",
            "9 X 4 = 36\n",
            "9 X 5 = 45\n",
            "9 X 6 = 54\n",
            "9 X 7 = 63\n",
            "9 X 8 = 72\n",
            "9 X 9 = 81\n"
          ]
        }
      ]
    },
    {
      "cell_type": "code",
      "source": [
        "#Quiz 1\n",
        "n = int(input(\"정수입력 : \"))\n",
        "no=1\n",
        "if n==0:\n",
        "  print(\"잘못된 입력입니다\") \n",
        "while n>0:\n",
        "  print(f\"{no}번째 hello\")\n",
        "  no +=1\n",
        "  n-=1\n",
        "\n",
        "   "
      ],
      "metadata": {
        "colab": {
          "base_uri": "https://localhost:8080/"
        },
        "id": "bKp1UQcHwP7-",
        "outputId": "6d90a6f4-043c-4d06-ec6b-080454662219"
      },
      "execution_count": null,
      "outputs": [
        {
          "output_type": "stream",
          "name": "stdout",
          "text": [
            "정수입력 : 2\n",
            "1번째 hello\n",
            "2번째 hello\n",
            "잘못된 입력입니다\n"
          ]
        }
      ]
    },
    {
      "cell_type": "code",
      "source": [
        "#Quiz 2\n",
        "\n",
        "n=1\n",
        "while n<=100:\n",
        "  n+=1\n",
        "  if n%7==0:\n",
        "     print(n)"
      ],
      "metadata": {
        "colab": {
          "base_uri": "https://localhost:8080/"
        },
        "id": "kwXcUj700tbt",
        "outputId": "468e8042-7813-413b-83f7-8c5407a74b3a"
      },
      "execution_count": null,
      "outputs": [
        {
          "output_type": "stream",
          "name": "stdout",
          "text": [
            "7\n",
            "14\n",
            "21\n",
            "28\n",
            "35\n",
            "42\n",
            "49\n",
            "56\n",
            "63\n",
            "70\n",
            "77\n",
            "84\n",
            "91\n",
            "98\n"
          ]
        }
      ]
    },
    {
      "cell_type": "code",
      "source": [
        "#Quiz 3\n",
        "\n",
        "put = int(input(\"자판기에 얼마 넣을까>>\"))\n",
        "m=300\n",
        "n=1\n",
        "while put>=m:\n",
        "  print(f\"커피{n}잔,잔돈{put-m}원\")\n",
        "  n+=1\n",
        "  put-=m\n",
        "\n",
        " \n",
        "\n"
      ],
      "metadata": {
        "colab": {
          "base_uri": "https://localhost:8080/"
        },
        "id": "CLaE4BZ91giS",
        "outputId": "429cc5a2-e8dd-49aa-910c-76d078cb37f6"
      },
      "execution_count": null,
      "outputs": [
        {
          "output_type": "stream",
          "name": "stdout",
          "text": [
            "자판기에 얼마 넣을까>>1500\n",
            "커피1잔,잔돈1200원\n",
            "커피2잔,잔돈900원\n",
            "커피3잔,잔돈600원\n",
            "커피4잔,잔돈300원\n",
            "커피5잔,잔돈0원\n"
          ]
        }
      ]
    },
    {
      "cell_type": "code",
      "source": [
        "## 공 셋 만드는법\n",
        "s = set([])   \n",
        "while len(s)<5:\n",
        "  no = int(input(\"0~9사이 정수 입력>>\"))\n",
        "  s.add(no)\n",
        "  \n",
        "print(s)"
      ],
      "metadata": {
        "colab": {
          "base_uri": "https://localhost:8080/"
        },
        "id": "k4TDS9s789O2",
        "outputId": "9e7536e3-12e9-44e2-f02c-1b96af5d0b50"
      },
      "execution_count": null,
      "outputs": [
        {
          "output_type": "stream",
          "name": "stdout",
          "text": [
            "0~9사이 정수 입력>>1\n",
            "0~9사이 정수 입력>>1\n",
            "0~9사이 정수 입력>>1\n",
            "0~9사이 정수 입력>>2\n",
            "0~9사이 정수 입력>>2\n",
            "0~9사이 정수 입력>>2\n",
            "0~9사이 정수 입력>>3\n",
            "0~9사이 정수 입력>>3\n",
            "0~9사이 정수 입력>>3\n",
            "0~9사이 정수 입력>>5\n",
            "0~9사이 정수 입력>>4\n",
            "{1, 2, 3, 4, 5}\n"
          ]
        }
      ]
    },
    {
      "cell_type": "code",
      "source": [
        "# 1부터 100까지 모든정수 한줄에 10개씩\n",
        "i=1\n",
        "while i<=100:\n",
        "  j=1\n",
        "  while j<=10:\n",
        "    print(i,end=\"\\t\")\n",
        "    j+=1\n",
        "    i+=1\n",
        "  print('')\n",
        "  \n",
        "# n=1\n",
        "# while n<=100:\n",
        "#   if n%10 !=0:\n",
        "#     print(n,end=\"\\t\")\n",
        "#   else:\n",
        "#     print(n)\n",
        "#   n+=1"
      ],
      "metadata": {
        "colab": {
          "base_uri": "https://localhost:8080/"
        },
        "id": "mlWUEAYIC-q-",
        "outputId": "005997de-d75d-47c9-81bf-52270dc3a266"
      },
      "execution_count": null,
      "outputs": [
        {
          "output_type": "stream",
          "name": "stdout",
          "text": [
            "1\t2\t3\t4\t5\t6\t7\t8\t9\t10\t\n",
            "11\t12\t13\t14\t15\t16\t17\t18\t19\t20\t\n",
            "21\t22\t23\t24\t25\t26\t27\t28\t29\t30\t\n",
            "31\t32\t33\t34\t35\t36\t37\t38\t39\t40\t\n",
            "41\t42\t43\t44\t45\t46\t47\t48\t49\t50\t\n",
            "51\t52\t53\t54\t55\t56\t57\t58\t59\t60\t\n",
            "61\t62\t63\t64\t65\t66\t67\t68\t69\t70\t\n",
            "71\t72\t73\t74\t75\t76\t77\t78\t79\t80\t\n",
            "81\t82\t83\t84\t85\t86\t87\t88\t89\t90\t\n",
            "91\t92\t93\t94\t95\t96\t97\t98\t99\t100\t\n"
          ]
        }
      ]
    },
    {
      "cell_type": "code",
      "source": [
        "# ##############\n",
        "# for문 \n",
        "# ##############\n",
        "\n",
        "# 몇 번 반복 시킬지 그 횟수가 명확할 때 주로 사용한다.\n",
        "\n",
        "# for 변수 in 반복시킬값들:\n",
        "#   반복실행문\n",
        "\n",
        "# for i in [1,2,3]:\n",
        "#   print(i)\n",
        "  \n",
        "# #문자열 \n",
        "# for i in \"hello\":\n",
        "#   print(i)\n",
        "\n",
        "# #튜플\n",
        "# for i in (1,2,3):\n",
        "#   print(i)\n",
        "\n",
        "#range()\n",
        "for i in range(3):   #0부터 3미만까지 #range(시작(생략가능),끝(미만),step)\n",
        "  print(i)\n",
        "\n",
        "#set,dict for문에서 순서와 상관없이는 사용가능\n",
        "\n"
      ],
      "metadata": {
        "colab": {
          "base_uri": "https://localhost:8080/"
        },
        "id": "Mqe2mCF-JmB0",
        "outputId": "bc84ee37-2b3b-483f-c162-d9c1c296ef32"
      },
      "execution_count": null,
      "outputs": [
        {
          "output_type": "stream",
          "name": "stdout",
          "text": [
            "0\n",
            "1\n",
            "2\n"
          ]
        }
      ]
    },
    {
      "cell_type": "code",
      "source": [
        "#비번 입력받아 숫자 문자 반드시 하나 이상\n",
        "# a.isalpha()- 알파벳이면 true\n",
        "# a.isnumeric()-숫자이면 true\n",
        "pw = input(\"비밀번호 입력 : \")\n",
        "ic=0\n",
        "nc=0\n",
        "for i in pw:\n",
        "  if i.isalpha():\n",
        "    ic +=1\n",
        "  elif i.isnumeric():\n",
        "    nc +=1\n",
        "if ic!=0 and nc!=0:\n",
        "  print(\"사용가능한 비번입니다\")    \n",
        "else:\n",
        "  print(\"사용불가능한 비번입니다\")\n",
        "\n"
      ],
      "metadata": {
        "colab": {
          "base_uri": "https://localhost:8080/"
        },
        "id": "8QR2awm_OG6m",
        "outputId": "c6ef394d-7576-4fb5-93bd-6860b1afa8a7"
      },
      "execution_count": null,
      "outputs": [
        {
          "output_type": "stream",
          "name": "stdout",
          "text": [
            "비밀번호 입력 : 321\n",
            "사용불가능한 비번입니다\n"
          ]
        }
      ]
    },
    {
      "cell_type": "code",
      "source": [
        "# range([start] , stop, [step])\n",
        "# 1. 숫자들을 컬렉션으로 만든다.\n",
        "# 2. start를 생략하면 0부터 시작\n",
        "# 3. stop는 생략 불가능하다.\n",
        "# 4. step를 생략하면 1씩 증가한다\n",
        "\n"
      ],
      "metadata": {
        "colab": {
          "base_uri": "https://localhost:8080/"
        },
        "id": "G08u7agSWNsI",
        "outputId": "8f61e216-9e8f-4e2e-be78-b8a057fd513c"
      },
      "execution_count": null,
      "outputs": [
        {
          "output_type": "stream",
          "name": "stdout",
          "text": [
            "range(0, 5)\n"
          ]
        }
      ]
    },
    {
      "cell_type": "code",
      "source": [
        "#quiz . range와 for 문을 사용하여 구구단 출력\n",
        "n=int(input(\"출력할 구구단 입력하세요\"))\n",
        "for i in range(1,10):       \n",
        "    print(f\"{n}x{i}={n*i}\", end=\"\\t\") \n",
        "    \n"
      ],
      "metadata": {
        "colab": {
          "base_uri": "https://localhost:8080/"
        },
        "id": "sUIvlAK_TAak",
        "outputId": "70813d66-8f17-4f9a-a2e6-723ce4d56cc5"
      },
      "execution_count": null,
      "outputs": [
        {
          "output_type": "stream",
          "name": "stdout",
          "text": [
            "출력할 구구단 입력하세요5\n",
            "5x1=5\t5x2=10\t5x3=15\t5x4=20\t5x5=25\t5x6=30\t5x7=35\t5x8=40\t5x9=45\t"
          ]
        }
      ]
    },
    {
      "cell_type": "code",
      "source": [
        "#set,dict도 for 문으로 사용은 가능하나 순서는 보장하지 않는다.\n",
        "for i in {\"가위\",\"바위\",\"보\"}:\n",
        "  print(i)"
      ],
      "metadata": {
        "colab": {
          "base_uri": "https://localhost:8080/"
        },
        "id": "DUnmmAWeX8CB",
        "outputId": "9c288902-8757-4b68-be1c-42eb3c51521d"
      },
      "execution_count": null,
      "outputs": [
        {
          "output_type": "stream",
          "name": "stdout",
          "text": [
            "가위\n",
            "보\n",
            "바위\n"
          ]
        }
      ]
    },
    {
      "cell_type": "code",
      "source": [
        "person ={\n",
        "    \"name\":\"에밀리\",\n",
        "    \"age\":\"20\"\n",
        "}\n",
        "for i in person:\n",
        "  print(i)\n",
        "  \n",
        "for i in person:\n",
        "  print(person[i])"
      ],
      "metadata": {
        "colab": {
          "base_uri": "https://localhost:8080/"
        },
        "id": "-NgiOuSXYfjQ",
        "outputId": "ee82b276-1e7d-4ad8-9d38-796bf06acecf"
      },
      "execution_count": null,
      "outputs": [
        {
          "output_type": "stream",
          "name": "stdout",
          "text": [
            "name\n",
            "age\n",
            "에밀리\n",
            "20\n"
          ]
        }
      ]
    },
    {
      "cell_type": "code",
      "source": [
        "#사용자로부터 양의 정수를 하나 입력받아서 1부터 입력받은 정수 까지의\n",
        "#모든 정수의 합계\n",
        "n=int(input(\"정수입력하세요\"))\n",
        "sum=0\n",
        "for i in range(1,n+1):\n",
        "   sum = sum+i\n",
        "print(sum)\n"
      ],
      "metadata": {
        "colab": {
          "base_uri": "https://localhost:8080/"
        },
        "id": "lBeMuygxZLkV",
        "outputId": "dbab0f7b-2932-438a-ba32-5ecc8f796e75"
      },
      "execution_count": null,
      "outputs": [
        {
          "output_type": "stream",
          "name": "stdout",
          "text": [
            "정수입력하세요5\n",
            "15\n"
          ]
        }
      ]
    },
    {
      "cell_type": "code",
      "source": [
        "# 사용자로부터 정수 입력 숫자만큼의 '과일이름'입력 받아 'basket'리스트에 저장\n",
        "n=int(input(\"몇 개의 과일 보관?>>\"))\n",
        "basket=[]\n",
        "for i in range(1,n+1):\n",
        "  f=input(f\"{i}번째 과일을 입력하세요\")\n",
        "  basket.append(f)\n",
        "print(f\"입력 받은 과일들은{basket}입니다\")"
      ],
      "metadata": {
        "colab": {
          "base_uri": "https://localhost:8080/"
        },
        "id": "Dl1hVO7narWG",
        "outputId": "6a1d318a-c225-4261-fa78-641e9e2f8a24"
      },
      "execution_count": null,
      "outputs": [
        {
          "output_type": "stream",
          "name": "stdout",
          "text": [
            "몇 개의 과일 보관?>>2\n",
            "1번째 과일을 입력하세요사과\n",
            "2번째 과일을 입력하세요나무\n",
            "입력 받은 과일들은['사과', '나무']입니다\n"
          ]
        }
      ]
    },
    {
      "cell_type": "code",
      "source": [
        "#369 게임\n",
        "\n",
        "for i in range(1,100):\n",
        "  count=0\n",
        "  s = str(i)\n",
        "  for c in s:\n",
        "      if (c==\"3\") or (c==\"6\") or (c==\"9\"):\n",
        "        count+=1\n",
        "      else:\n",
        "        count=count\n",
        "  \n",
        "  if count==0:\n",
        "      print(i,end=\"\\t\")\n",
        "      if i%10==0:\n",
        "        print(\"\")\n",
        "  else:\n",
        "      print(count*\"짝\",end=\"\\t\")\n",
        "      if i%10==0:\n",
        "        print(\"\")\n",
        "  \n",
        "     \n",
        "        \n",
        " \n",
        "  \n",
        "     \n",
        "  \n",
        "  "
      ],
      "metadata": {
        "colab": {
          "base_uri": "https://localhost:8080/"
        },
        "id": "e5N9C-t2cz51",
        "outputId": "ae5f682f-311e-4b47-d2f3-a735d6af55ad"
      },
      "execution_count": 17,
      "outputs": [
        {
          "output_type": "stream",
          "name": "stdout",
          "text": [
            "1\t2\t짝\t4\t5\t짝\t7\t8\t짝\t10\t\n",
            "11\t12\t짝\t14\t15\t짝\t17\t18\t짝\t20\t\n",
            "21\t22\t짝\t24\t25\t짝\t27\t28\t짝\t짝\t\n",
            "짝\t짝\t짝짝\t짝\t짝\t짝짝\t짝\t짝\t짝짝\t40\t\n",
            "41\t42\t짝\t44\t45\t짝\t47\t48\t짝\t50\t\n",
            "51\t52\t짝\t54\t55\t짝\t57\t58\t짝\t짝\t\n",
            "짝\t짝\t짝짝\t짝\t짝\t짝짝\t짝\t짝\t짝짝\t70\t\n",
            "71\t72\t짝\t74\t75\t짝\t77\t78\t짝\t80\t\n",
            "81\t82\t짝\t84\t85\t짝\t87\t88\t짝\t짝\t\n",
            "짝\t짝\t짝짝\t짝\t짝\t짝짝\t짝\t짝\t짝짝\t"
          ]
        }
      ]
    }
  ],
  "metadata": {
    "colab": {
      "name": "day3",
      "provenance": [],
      "collapsed_sections": [],
      "authorship_tag": "ABX9TyMvhC5wuKlFXZKYFWwzlE6I",
      "include_colab_link": true
    },
    "kernelspec": {
      "display_name": "Python 3",
      "name": "python3"
    },
    "language_info": {
      "name": "python"
    }
  },
  "nbformat": 4,
  "nbformat_minor": 0
}