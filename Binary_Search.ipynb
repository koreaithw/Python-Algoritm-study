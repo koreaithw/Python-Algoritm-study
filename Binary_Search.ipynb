{
 "cells": [
  {
   "cell_type": "code",
   "execution_count": null,
   "id": "eb73335e",
   "metadata": {},
   "outputs": [],
   "source": [
    "## Binary Search\n",
    "def binary_search(n,lists):       #binary_search 함수정의\n",
    "    head=0                        #리스트의 head\n",
    "    tail=len(lists)-1             #리스트의 tail\n",
    "    for i in range(len(lists)):  \n",
    "        if head<=tail:            #리스트의 head 가 tail보다 클때 까지 계속찾음\n",
    "            c=(head+tail)//2      #중앙값 설정\n",
    "            if lists[c]==n:       #중앙값이 원하는 값일 경우\n",
    "                print(f\"{c}번째 요소 일치\")\n",
    "                break\n",
    "            elif lists[c]<n:      #중앙값이 원하는 값보다 작을 경우 head값을 옮겨 중앙값보다 작은값 모두 없엠\n",
    "                head=c+1\n",
    "            else:                 #중앙값이 원하는 값보다 클 경우 tail값을 옮겨 중앙값보다 큰값 모두 없엠\n",
    "                tail=c-1\n",
    "        else:                      #원하는 값을 못 찾았을 경우\n",
    "            print(\"찾지못했습니다.\")\n",
    "            break\n",
    "    \n",
    "binary_search(19,[11,13,17,19,23,29,31])"
   ]
  }
 ],
 "metadata": {
  "kernelspec": {
   "display_name": "Python 3 (ipykernel)",
   "language": "python",
   "name": "python3"
  },
  "language_info": {
   "codemirror_mode": {
    "name": "ipython",
    "version": 3
   },
   "file_extension": ".py",
   "mimetype": "text/x-python",
   "name": "python",
   "nbconvert_exporter": "python",
   "pygments_lexer": "ipython3",
   "version": "3.9.7"
  }
 },
 "nbformat": 4,
 "nbformat_minor": 5
}
