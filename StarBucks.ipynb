{
 "cells": [
  {
   "cell_type": "code",
   "execution_count": 1,
   "id": "bd59adbe",
   "metadata": {},
   "outputs": [],
   "source": [
    "from selenium import webdriver   #파이썬으로 브라우저 컨트롤 모듈\n",
    "from bs4 import BeautifulSoup as bs #크롤링한 데이터 정제\n",
    "import pandas as pd                 #데이터 분석 모듈\n"
   ]
  },
  {
   "cell_type": "code",
   "execution_count": 12,
   "id": "ac359c83",
   "metadata": {
    "scrolled": true
   },
   "outputs": [
    {
     "name": "stderr",
     "output_type": "stream",
     "text": [
      "C:\\Users\\Ethan_SY\\AppData\\Local\\Temp/ipykernel_19080/3137602098.py:1: DeprecationWarning: executable_path has been deprecated, please pass in a Service object\n",
      "  driver = webdriver.Chrome(\"chromedriver.exe\")    #크롬으로 컨트롤\n"
     ]
    }
   ],
   "source": [
    "driver = webdriver.Chrome(\"chromedriver.exe\")    #크롬으로 컨트롤\n",
    "driver.get(\"https://www.starbucks.co.kr/store/store_map.do\") # 주소얻어오기\n"
   ]
  },
  {
   "cell_type": "code",
   "execution_count": 13,
   "id": "109f6a0f",
   "metadata": {
    "scrolled": false
   },
   "outputs": [
    {
     "name": "stderr",
     "output_type": "stream",
     "text": [
      "C:\\Users\\Ethan_SY\\AppData\\Local\\Temp/ipykernel_19080/1689819575.py:2: DeprecationWarning: find_element_by_* commands are deprecated. Please use find_element() instead\n",
      "  driver.find_element_by_css_selector(area_btn).click()   #area_btn버튼을 찾아내서 click버튼\n"
     ]
    }
   ],
   "source": [
    "area_btn = \"#container > div > form > fieldset > div > section > article.find_store_cont > article > header.loca_search > h3 > a\"\n",
    "driver.find_element_by_css_selector(area_btn).click()   #area_btn버튼을 찾아내서 click버튼"
   ]
  },
  {
   "cell_type": "code",
   "execution_count": 14,
   "id": "8c4934c5",
   "metadata": {},
   "outputs": [
    {
     "name": "stderr",
     "output_type": "stream",
     "text": [
      "C:\\Users\\Ethan_SY\\AppData\\Local\\Temp/ipykernel_19080/1177674661.py:2: DeprecationWarning: find_element_by_* commands are deprecated. Please use find_element() instead\n",
      "  driver.find_element_by_css_selector(seoul_btn).click()\n"
     ]
    }
   ],
   "source": [
    "seoul_btn=\"#container > div > form > fieldset > div > section > article.find_store_cont > article > article:nth-child(4) > div.loca_step1 > div.loca_step1_cont > ul > li:nth-child(1) > a\"\n",
    "driver.find_element_by_css_selector(seoul_btn).click()"
   ]
  },
  {
   "cell_type": "code",
   "execution_count": 15,
   "id": "dd33a850",
   "metadata": {},
   "outputs": [
    {
     "name": "stderr",
     "output_type": "stream",
     "text": [
      "C:\\Users\\Ethan_SY\\AppData\\Local\\Temp/ipykernel_19080/1005640769.py:2: DeprecationWarning: find_element_by_* commands are deprecated. Please use find_element() instead\n",
      "  driver.find_element_by_css_selector(all_btn).click()\n"
     ]
    }
   ],
   "source": [
    "all_btn=\"#mCSB_2_container > ul > li:nth-child(1) > a\"  #selector를 찾아서 버튼지정\n",
    "driver.find_element_by_css_selector(all_btn).click()"
   ]
  },
  {
   "cell_type": "code",
   "execution_count": 82,
   "id": "be2433e9",
   "metadata": {},
   "outputs": [
    {
     "data": {
      "text/plain": [
       "579"
      ]
     },
     "execution_count": 82,
     "metadata": {},
     "output_type": "execute_result"
    }
   ],
   "source": [
    "html = driver.page_source  #전체 페이지 소스 읽어오기\n",
    "soup = bs(html)           #bs으로 데이터 정제 (분석준비)\n",
    "len(soup.select(\"li.quickResultLstCon > strong\"))\n",
    "starbucks_list = soup.select(\"li.quickResultLstCon\") #서울 전체 스타벅스 목록만 읽어오기\n",
    "\n",
    "len(starbucks_list)"
   ]
  },
  {
   "cell_type": "code",
   "execution_count": 86,
   "id": "6914c51c",
   "metadata": {},
   "outputs": [
    {
     "data": {
      "text/plain": [
       "<li class=\"quickResultLstCon\" data-code=\"3480\" data-hlytag=\"null\" data-index=\"0\" data-lat=\"37.574339\" data-long=\"126.816415\" data-name=\"방화DT\" data-storecd=\"1311\" style=\"background:#fff\"> <strong data-my_siren_order_store_yn=\"N\" data-name=\"방화DT\" data-store=\"1311\" data-yn=\"N\">방화DT  </strong> <p class=\"result_details\">서울특별시 강서구 방화대로 375 (방화동)<br/>1522-3232</p> <i class=\"pin_generalDT\">리저브 매장 2번</i></li>"
      ]
     },
     "execution_count": 86,
     "metadata": {},
     "output_type": "execute_result"
    }
   ],
   "source": [
    "star = starbucks_list[0]\n",
    "star"
   ]
  },
  {
   "cell_type": "code",
   "execution_count": 154,
   "id": "735c89f0",
   "metadata": {
    "scrolled": true
   },
   "outputs": [
    {
     "name": "stdout",
     "output_type": "stream",
     "text": [
      "방화DT  \n",
      "37.574339\n",
      "126.816415\n",
      "서울특별시 강서구 방화대로 375 (방화동)\n",
      "1522-3232\n"
     ]
    }
   ],
   "source": [
    "# name=  star['data-name']                       #딕셔너리형태로 뽑는방법\n",
    "name = star.select(\"strong\")[0].text.strip()\n",
    "lat =  star['data-lat'].strip()                    #위도\n",
    "lng =  star['data-long'].strip()                         #경도\n",
    "\n",
    "addr=  str(star.select('p')[0]).split('<br/>')[0].split(\">\")[1]#주소\n",
    "\n",
    "tel =  str(star.select('p')[0]).split('<br/>')[1].split(\"<\")[0] #전화번호\n",
    "\n",
    " \n",
    "                       \n",
    "print(name)\n",
    "print(lat)\n",
    "print(lng)\n",
    "print(addr)\n",
    "print(tel)\n"
   ]
  },
  {
   "cell_type": "code",
   "execution_count": 167,
   "id": "6daf24df",
   "metadata": {},
   "outputs": [],
   "source": [
    "starbucks = []\n",
    "\n",
    "for i in starbucks_list:\n",
    "    name = i.select(\"strong\")[0].text.strip()\n",
    "    lat =  i['data-lat'].strip()                    #위도\n",
    "    lng =  i['data-long'].strip()                         #경도\n",
    "\n",
    "    addr=  str(i.select('p')[0]).split('<br/>')[0].split(\">\")[1]#주소\n",
    "\n",
    "    tel =  str(i.select('p')[0]).split('<br/>')[1].split(\"<\")[0] #전화번호\n",
    "\n",
    "    starbucks.append([name,lat,lng,addr,tel])"
   ]
  },
  {
   "cell_type": "code",
   "execution_count": 161,
   "id": "f42bebb5",
   "metadata": {},
   "outputs": [],
   "source": [
    "columns = ['매장명','위도','경도','주소','전화번호']\n",
    "df = pd.DataFrame(starbucks, columns=columns)\n",
    "df.to_excel('starbucks.xlsx',index=False)"
   ]
  }
 ],
 "metadata": {
  "kernelspec": {
   "display_name": "Python 3 (ipykernel)",
   "language": "python",
   "name": "python3"
  },
  "language_info": {
   "codemirror_mode": {
    "name": "ipython",
    "version": 3
   },
   "file_extension": ".py",
   "mimetype": "text/x-python",
   "name": "python",
   "nbconvert_exporter": "python",
   "pygments_lexer": "ipython3",
   "version": "3.9.7"
  }
 },
 "nbformat": 4,
 "nbformat_minor": 5
}
