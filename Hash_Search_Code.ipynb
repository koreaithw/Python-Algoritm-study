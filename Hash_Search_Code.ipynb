{
 "cells": [
  {
   "cell_type": "code",
   "execution_count": null,
   "id": "24f6db98",
   "metadata": {},
   "outputs": [],
   "source": [
    "# 해쉬 저장 코드\n",
    "# 0    1    2    3    4    5    6 \n",
    "# 12   25   36   20   30   8    42 arrD \n",
    "\n",
    "# 0    1    2    3    4    5    6    7    8    9    10\n",
    "# 0    12   0    25   36   0    0    0    30   20   8   arrH\n",
    "\n",
    "arrD=[12,25,36,20,30,8,42]\n",
    "arrH=[]\n",
    "\n",
    "for i in range(int(len(arrD)*1.5)+1): # arrH[]모두 0 으로 초기화,arrH의 길이정의\n",
    "    arrH.append(0)\n",
    "    \n",
    "j=0\n",
    "while j<len(arrD):                      # j=0,1,2,3,4,5,6\n",
    "    k=arrD[j]%len(arrH) # k(방번호)=arrD리스트에 있는 값 % 원래 리스트 길이*1.5배\n",
    "    \n",
    "    if arrH[k]==0:      # arrH의 k번째 방이 비었으면 \n",
    "        arrH[k]=arrD[j] # 숫자저장\n",
    "    else:               # arrH의 k번째 방이 안 비었으면                    \n",
    "        while arrH[k]!=0: #빈방찾을때 까지 무한루프\n",
    "            k=(k+1)%len(arrH) \n",
    "        arrH[k]=arrD[j]    #찾으면 숫자저장\n",
    "    j+=1\n",
    "    \n",
    "print(arrH)\n",
    "\n",
    "###################################################################\n",
    "\n",
    "#해쉬 탐색 코드\n",
    "x=int(input(\"찾을데이터 입력>>\"))\n",
    "k=x%len(arrH)  #찾을 데이터 x % 11  x=36일때  k=3\n",
    "if x in arrH:\n",
    "    if arrH[k]!=0:\n",
    "        if arrH[k]==x:\n",
    "            print(f\"저장위치는 {k}번째 입니다\")\n",
    "        else:\n",
    "            while arrH[k]!=x:\n",
    "                k=(k+1)%len(arrH) \n",
    "            print(f\"저장위치는 {k}번째 입니다\")\n",
    "    else:\n",
    "        print(\"존재하지 않습니다\")\n",
    "else:\n",
    "    print(\"리스트에 없습니다\")\n",
    "\n",
    "    "
   ]
  }
 ],
 "metadata": {
  "kernelspec": {
   "display_name": "Python 3 (ipykernel)",
   "language": "python",
   "name": "python3"
  },
  "language_info": {
   "codemirror_mode": {
    "name": "ipython",
    "version": 3
   },
   "file_extension": ".py",
   "mimetype": "text/x-python",
   "name": "python",
   "nbconvert_exporter": "python",
   "pygments_lexer": "ipython3",
   "version": "3.9.7"
  }
 },
 "nbformat": 4,
 "nbformat_minor": 5
}
