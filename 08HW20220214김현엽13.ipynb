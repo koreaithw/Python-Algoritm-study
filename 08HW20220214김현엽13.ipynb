{
 "cells": [
  {
   "cell_type": "code",
   "execution_count": null,
   "id": "0c05cc81",
   "metadata": {},
   "outputs": [],
   "source": [
    "# 476\n",
    "def xyz():\n",
    "    x = 40 \n",
    "    abc() \n",
    "    print(x) \n",
    "def abc(): \n",
    "    a = 32\n",
    "    x = 10 \n",
    "xyz() \n",
    "#b"
   ]
  },
  {
   "cell_type": "code",
   "execution_count": null,
   "id": "7630e1fb",
   "metadata": {},
   "outputs": [],
   "source": [
    "# 477\n",
    "def xyz():\n",
    "    x = 40 \n",
    "    abc() \n",
    "    print(x) \n",
    "def abc(): \n",
    "    a = 32\n",
    "    x = 10 \n",
    "xyz() \n",
    "#b"
   ]
  },
  {
   "cell_type": "code",
   "execution_count": null,
   "id": "2092c42f",
   "metadata": {},
   "outputs": [],
   "source": [
    "# 478\n",
    "def abc():\n",
    "    print(x)\n",
    "    x = 10 \n",
    "abc() \n",
    "#a"
   ]
  },
  {
   "cell_type": "code",
   "execution_count": null,
   "id": "19c9e6ae",
   "metadata": {},
   "outputs": [],
   "source": [
    "# 479\n",
    "def abc():\n",
    "    x = 12 \n",
    "    print(x) \n",
    "    x = 10 \n",
    "abc() \n",
    "#b"
   ]
  },
  {
   "cell_type": "code",
   "execution_count": null,
   "id": "dde108cf",
   "metadata": {},
   "outputs": [],
   "source": [
    "# 480\n",
    "def abc(): \n",
    "    x = 10\n",
    "    print(x) \n",
    "abc() \n",
    "x = 12 \n",
    "#c"
   ]
  },
  {
   "cell_type": "code",
   "execution_count": null,
   "id": "578972b3",
   "metadata": {},
   "outputs": [],
   "source": [
    "# 481\n",
    "def abc(): \n",
    "    global x\n",
    "    x = 23 \n",
    "    x = 10 \n",
    "abc() \n",
    "print(x) \n",
    "#c"
   ]
  },
  {
   "cell_type": "code",
   "execution_count": null,
   "id": "448699c0",
   "metadata": {},
   "outputs": [],
   "source": [
    "# 482\n",
    "def abc(): \n",
    "    print(x) \n",
    "    x = 10\n",
    "abc()\n",
    "x = 20\n",
    "#d"
   ]
  },
  {
   "cell_type": "code",
   "execution_count": null,
   "id": "6bd5d388",
   "metadata": {},
   "outputs": [],
   "source": [
    "# 483\n",
    "def abc(x): \n",
    "    return 20 / x \n",
    "print(abc(4)) \n",
    "#c"
   ]
  },
  {
   "cell_type": "code",
   "execution_count": null,
   "id": "6c8eb6c9",
   "metadata": {},
   "outputs": [],
   "source": [
    "# 484\n",
    "def abc(x): \n",
    "    return 20 / x \n",
    "print(abc(0)) \n",
    "#d"
   ]
  },
  {
   "cell_type": "code",
   "execution_count": null,
   "id": "3ee337ae",
   "metadata": {},
   "outputs": [],
   "source": [
    "# 485\n",
    "def abc(x): \n",
    "    try:\n",
    "        print(20 / x) \n",
    "    except:\n",
    "        print('Not a valid argument', end=' ')\n",
    "print(abc(0))\n",
    "#c"
   ]
  },
  {
   "cell_type": "code",
   "execution_count": null,
   "id": "9f3e6327",
   "metadata": {},
   "outputs": [],
   "source": [
    "# 486\n",
    "def abc(x): \n",
    "    try: \n",
    "        print(20 / x) \n",
    "    except:\n",
    "        print('Not a valid argument', end=' ') \n",
    "    finally: \n",
    "        print(0, end=' ') \n",
    "print(abc(0)) \n",
    "#a"
   ]
  },
  {
   "cell_type": "code",
   "execution_count": null,
   "id": "57504602",
   "metadata": {},
   "outputs": [],
   "source": [
    "# 487\n",
    "x = [1, 2, 3, 4] \n",
    "print(x[4])\n",
    "#d"
   ]
  },
  {
   "cell_type": "code",
   "execution_count": null,
   "id": "296f2a48",
   "metadata": {},
   "outputs": [],
   "source": [
    "# 488\n",
    "x = [10, 20, 30, 40] \n",
    "print(x[20]) \n",
    "#d"
   ]
  },
  {
   "cell_type": "code",
   "execution_count": null,
   "id": "6127f31e",
   "metadata": {},
   "outputs": [],
   "source": [
    "# 489\n",
    "x = [1.0, 2.0, 3.0] \n",
    "print(x[2.0]) \n",
    "#c"
   ]
  },
  {
   "cell_type": "code",
   "execution_count": null,
   "id": "e93d29b8",
   "metadata": {},
   "outputs": [],
   "source": [
    "# 490\n",
    "x = [1.0, 2.0, 3.0] \n",
    "print(x[int(2.0)]) \n",
    "#b"
   ]
  },
  {
   "cell_type": "code",
   "execution_count": null,
   "id": "9bece51a",
   "metadata": {},
   "outputs": [],
   "source": [
    "# 491\n",
    "x = ['Today', 'nice', 'day'] \n",
    "print(x[0] + ' is a ' + x[1] + x[2]) \n",
    "#a"
   ]
  },
  {
   "cell_type": "code",
   "execution_count": null,
   "id": "86f59e83",
   "metadata": {},
   "outputs": [],
   "source": [
    "# 492\n",
    "x = ['Today', 'Sunday', 'Monday'] \n",
    "print(x[0] + ' was a great day') \n",
    "#a"
   ]
  },
  {
   "cell_type": "code",
   "execution_count": null,
   "id": "d30d487c",
   "metadata": {},
   "outputs": [],
   "source": [
    "# 493\n",
    "x = ['Today', 'Sunday', 'Monday'] \n",
    "print(x[-1] + ' was a great day') \n",
    "#c"
   ]
  },
  {
   "cell_type": "code",
   "execution_count": null,
   "id": "0f6e7c4a",
   "metadata": {},
   "outputs": [],
   "source": [
    "# 494\n",
    "x = ['Today', 'Sunday', 'Monday'] \n",
    "print(x[-3] + ' was a great day')\n",
    "#a"
   ]
  },
  {
   "cell_type": "code",
   "execution_count": null,
   "id": "f771cc6a",
   "metadata": {},
   "outputs": [],
   "source": [
    "# 495\n",
    "x = ['Today', 'Sunday', 'Monday'] \n",
    "x[2] = 'Friday' \n",
    "x[1] = 'Yesterday' \n",
    "print(x[-2] + ' was a great day')\n",
    "#d"
   ]
  },
  {
   "cell_type": "code",
   "execution_count": null,
   "id": "78430d48",
   "metadata": {},
   "outputs": [],
   "source": [
    "홀수와 짝수의 개수를 구하는 func 함수를 만드세요.\n",
    "[3, 4, 5, 6, 7] = 홀수 3개, 짝수 2개\n",
    "[12, 16, 22, 24, 29] = 홀수 1개, 짝수 4개\n",
    "[41, 43, 45, 47, 49] = 홀수 5개, 짝수 0개\n",
    "홀수 : 2로 나누어 떨어지지 않는 정수\n",
    "짝수 : 2로 나누어 떨어지는 정수"
   ]
  },
  {
   "cell_type": "code",
   "execution_count": 26,
   "id": "244e7437",
   "metadata": {},
   "outputs": [
    {
     "name": "stdout",
     "output_type": "stream",
     "text": [
      "홀수 3개, 짝수 2개\n",
      "홀수 1개, 짝수 4개\n",
      "홀수 5개, 짝수 0개\n"
     ]
    }
   ],
   "source": [
    "def func (numlist):\n",
    "    even_count=0\n",
    "    odd_count=0\n",
    "    for x in numlist:\n",
    "        if(x%2==0):\n",
    "            even_count+=1      \n",
    "        else:\n",
    "            odd_count+=1\n",
    "    print(\"홀수 %s개, 짝수 %s개\"%(odd_count, even_count) )\n",
    "func([3, 4, 5, 6, 7])\n",
    "func([12, 16, 22, 24, 29])\n",
    "func([41, 43, 45, 47, 49])"
   ]
  }
 ],
 "metadata": {
  "kernelspec": {
   "display_name": "Python 3 (ipykernel)",
   "language": "python",
   "name": "python3"
  },
  "language_info": {
   "codemirror_mode": {
    "name": "ipython",
    "version": 3
   },
   "file_extension": ".py",
   "mimetype": "text/x-python",
   "name": "python",
   "nbconvert_exporter": "python",
   "pygments_lexer": "ipython3",
   "version": "3.9.7"
  }
 },
 "nbformat": 4,
 "nbformat_minor": 5
}
