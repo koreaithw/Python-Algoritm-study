{
  "nbformat": 4,
  "nbformat_minor": 0,
  "metadata": {
    "colab": {
      "name": "day2",
      "provenance": [],
      "authorship_tag": "ABX9TyNGJgU7yNx/SIq0SD9UqOzg",
      "include_colab_link": true
    },
    "kernelspec": {
      "name": "python3",
      "display_name": "Python 3"
    },
    "language_info": {
      "name": "python"
    }
  },
  "cells": [
    {
      "cell_type": "markdown",
      "metadata": {
        "id": "view-in-github",
        "colab_type": "text"
      },
      "source": [
        "<a href=\"https://colab.research.google.com/github/koreaithw/ai/blob/main/day2.ipynb\" target=\"_parent\"><img src=\"https://colab.research.google.com/assets/colab-badge.svg\" alt=\"Open In Colab\"/></a>"
      ]
    },
    {
      "cell_type": "code",
      "execution_count": null,
      "metadata": {
        "colab": {
          "base_uri": "https://localhost:8080/"
        },
        "id": "w9a79HAwwVqu",
        "outputId": "b0a972c5-7da4-44ff-a786-cb928869428f"
      },
      "outputs": [
        {
          "output_type": "stream",
          "name": "stdout",
          "text": [
            "Hello World\n"
          ]
        }
      ],
      "source": [
        "# comment 주석 -코드에 대한 설명, 컴퓨터는 읽지 않고 사람만 읽는 내용, \n",
        "# 또 다른 용법으로는 코드를 임시로 실행하지 않고 감추고 \n",
        "# 에러를 확인하는 용도로도 사용된다.\n",
        "# 본인이 기록한 내용을 나중에 확일할 때 또는 다른 팀원이 작성한 내용을 파악하기 용이하게 만든다.\n",
        "\n",
        "# #을 사용하여 주석을 표시한다.\n",
        "\n",
        "# doc string(삼중따옴표 주석의 용도로도 쓰인다).\n",
        "\n",
        "#코드의 윗쪽 또는 오른쪽에 주석을 붙인다.\n",
        "print('Hello World') #코드의 우측 또는 코드의 윗줄에 적는다."
      ]
    },
    {
      "cell_type": "code",
      "source": [
        "#변수 Variable\n",
        "#어떤 값을 저장하는 저장소(a- 짜리 표현)\n",
        "a=100\n",
        "print(a)\n",
        "\n",
        "stumathsum =350\n",
        "stu_math_sum=350 #스네이크 케이스 snake_case\n",
        "StuMathSum =350  #캐멀 케이스  CamelCase\n"
      ],
      "metadata": {
        "colab": {
          "base_uri": "https://localhost:8080/"
        },
        "id": "c09fnW1-xGBv",
        "outputId": "02df3741-fbf1-4615-d33d-dc9c4b23ec3a"
      },
      "execution_count": null,
      "outputs": [
        {
          "output_type": "stream",
          "name": "stdout",
          "text": [
            "100\n"
          ]
        }
      ]
    },
    {
      "cell_type": "code",
      "source": [
        "# 1a = 100 숫자가 먼저 올 수 없다\n",
        "a1=100\n",
        "_a=100\n",
        "# @a =100\n",
        "홍길동 =55\n",
        "#한글 변수명이 사용이 가능하지만 쓰지말자\n"
      ],
      "metadata": {
        "id": "ha7KhgZ0zIJ_"
      },
      "execution_count": null,
      "outputs": []
    },
    {
      "cell_type": "code",
      "source": [
        "# 인덱싱(슬라이싱)\n",
        "\n",
        "s = 'world'\n",
        "print(s[2]) #파이썬은 인덱스 시작이 0이다.\n",
        "print(s[-1]) #-1은 마지막 인덱스를 가리킨다\n",
        "print(s[4])\n",
        "ss='900101-2547389'\n",
        "print(ss[7])  #하나만 추출 할 때는 indexing\n",
        "addr = '서울시 강남구 역삼동 1번지'\n",
        "print(addr[4:7])  #여러개를 추출 할 때는 slicing\n"
      ],
      "metadata": {
        "colab": {
          "base_uri": "https://localhost:8080/"
        },
        "id": "5ZxzlJzTzhzh",
        "outputId": "f302f0f2-7f96-4986-e75d-3cba17eb9954"
      },
      "execution_count": null,
      "outputs": [
        {
          "output_type": "stream",
          "name": "stdout",
          "text": [
            "r\n",
            "d\n",
            "d\n",
            "2\n",
            "강남구\n"
          ]
        }
      ]
    },
    {
      "cell_type": "code",
      "source": [
        "#print()\n",
        "\n",
        "print('좋은 아침입니다.')"
      ],
      "metadata": {
        "colab": {
          "base_uri": "https://localhost:8080/"
        },
        "id": "roHUB34e1btZ",
        "outputId": "1a2f53c2-3d1e-42f3-b143-6597b5d21551"
      },
      "execution_count": null,
      "outputs": [
        {
          "output_type": "stream",
          "name": "stdout",
          "text": [
            "좋은 아침입니다.\n"
          ]
        }
      ]
    },
    {
      "cell_type": "code",
      "source": [
        "when = '아침'\n",
        "#기본\n",
        "print('좋은',when,'입니다')\n",
        "# %연산자\n",
        "print('좋은 %s 입니다' %when)\n",
        "#format()\n",
        "print('좋은 {}입니다'.format(when) )\n",
        "#f-string\n",
        "print(f'좋은 {when}입니다')\n"
      ],
      "metadata": {
        "colab": {
          "base_uri": "https://localhost:8080/"
        },
        "id": "XuOk5Ngo1jNF",
        "outputId": "2f7bf8c4-55e8-4ca5-8bd8-cd385e1c325e"
      },
      "execution_count": null,
      "outputs": [
        {
          "output_type": "stream",
          "name": "stdout",
          "text": [
            "좋은 아침 입니다\n",
            "좋은 아침 입니다\n",
            "좋은 아침입니다\n",
            "좋은 아침입니다\n"
          ]
        }
      ]
    },
    {
      "cell_type": "code",
      "source": [
        "s='world'\n",
        "t='python'\n",
        "print(s+\"!\",t)"
      ],
      "metadata": {
        "colab": {
          "base_uri": "https://localhost:8080/"
        },
        "id": "6g0G8CX-6ljW",
        "outputId": "960c7388-dc6b-49da-b607-44aca1107b3c"
      },
      "execution_count": null,
      "outputs": [
        {
          "output_type": "stream",
          "name": "stdout",
          "text": [
            "world! python\n"
          ]
        }
      ]
    },
    {
      "cell_type": "code",
      "source": [
        "############################################################################\n",
        "# 리스트 List 튜플 Tuple 딕셔너리 Dict 셋 Set\n",
        "# 여러개의 값을 한번에 저장하는 자료형이 필요하다\n",
        "\n",
        "# 리스트 List\n",
        "# 지금까지 사용한 숫자 1, 문자 1 등의 개별적 , 독립적인 자료가 아닌\n",
        "# 리스트는 이러한 자료들을 여러개 모아서 사용 할 수 있게 해준다\n",
        "# 리스트에 넣는 자료를 요소element 라고 부른다.\n",
        "\n",
        "# 리스트는 []로 구성한다\n",
        "list = [1,2,3,4,5]\n",
        "print(list)\n",
        "# 리스트는 다양한 자료형의 데이터를 한번에 담을 수 있다.\n",
        "# (but,하나의 리스트에는 한가지 자료형 만 저장하는 것이 오히려 바람직하다.)\n",
        "list = [1,2,3,'대한','민국',True,False]\n",
        "print(list)\n",
        "score = [80,90,70,60]\n",
        "print(score)\n",
        "# 리스트는 인덱싱(indexting)과 슬라이싱(slicing)이 가능하다\n",
        "print(score[0])  #파이썬은 0부터 시작한다.\n",
        "print(score[0:2]) #슬라이싱은 0부터 2미만.. 처럼 끝은 미만을 나타낸다.\n",
        "\n",
        "# 리스트는 수적/삭제가 가능하다 (mutable) 튜플은 immutable\n",
        "score[0]=100\n",
        "print(score)\n",
        "score[-1]= 100\n",
        "print(score)\n",
        "#score[4] indexerror (아주 많이 접하게 된 에러(예외))\n",
        "\n",
        "# 리스트는 연산이 가능하다\n",
        "list_a = [1,2,3]\n",
        "list_b = [4,5,6]\n",
        "print('list_a=',list_a)\n",
        "print('list_b=',list_b)\n",
        "print(list_a+list_b)\n",
        "print(list_a*3)\n",
        "print(len(list_a))  #리스트의 갯수를 셀 수 있다.\n",
        "print(len(list_a*3))"
      ],
      "metadata": {
        "colab": {
          "base_uri": "https://localhost:8080/"
        },
        "id": "Vs-l5sJ398sB",
        "outputId": "f67faf33-ed88-496d-8b2c-ff9ed255a5eb"
      },
      "execution_count": null,
      "outputs": [
        {
          "output_type": "stream",
          "name": "stdout",
          "text": [
            "[1, 2, 3, 4, 5]\n",
            "[1, 2, 3, '대한', '민국', True, False]\n",
            "[80, 90, 70, 60]\n",
            "80\n",
            "[80, 90]\n",
            "[100, 90, 70, 60]\n",
            "[100, 90, 70, 100]\n",
            "list_a= [1, 2, 3]\n",
            "list_b= [4, 5, 6]\n",
            "[1, 2, 3, 4, 5, 6]\n",
            "[1, 2, 3, 1, 2, 3, 1, 2, 3]\n",
            "3\n",
            "9\n"
          ]
        }
      ]
    },
    {
      "cell_type": "code",
      "source": [
        "# 리스트에 많이 사용되는 함수들\n",
        "# append() 리스트에 요소를 추가할 때, 사용 끝에만 추가 (****제일많이 사용*******)\n",
        "print(score)\n",
        "score.append(60)\n",
        "print(score)"
      ],
      "metadata": {
        "colab": {
          "base_uri": "https://localhost:8080/"
        },
        "id": "67zs6GBUIuJa",
        "outputId": "b01486df-cfb8-482b-dba2-b5941598e4a6"
      },
      "execution_count": null,
      "outputs": [
        {
          "output_type": "stream",
          "name": "stdout",
          "text": [
            "[100, 90, 70, 100]\n",
            "[100, 90, 70, 100, 60]\n"
          ]
        }
      ]
    },
    {
      "cell_type": "code",
      "source": [
        "# insert() 리스트에 요소를 추가할 때 사용, 특정 위치를 지정가능\n",
        "list = []  #공리스트\n",
        "list.insert(0,10)  #~번째에 ~를 추가\n",
        "print(list)\n",
        "list.insert(2,2)\n",
        "print(list)\n",
        "list.insert(0,5)\n",
        "print(list)"
      ],
      "metadata": {
        "colab": {
          "base_uri": "https://localhost:8080/"
        },
        "id": "Z56t2rcHJIeV",
        "outputId": "849ceb87-5540-4495-c195-1f7b7f7cdfe7"
      },
      "execution_count": null,
      "outputs": [
        {
          "output_type": "stream",
          "name": "stdout",
          "text": [
            "[10]\n",
            "[10, 2]\n",
            "[5, 10, 2]\n"
          ]
        }
      ]
    },
    {
      "cell_type": "code",
      "source": [
        "list_a = [1,2,3]\n",
        "list_a.extend([4,5,6])  #한번에 여러개를 집어넣을때는 extend\n",
        "list_a           #파괴적 처리"
      ],
      "metadata": {
        "colab": {
          "base_uri": "https://localhost:8080/"
        },
        "id": "WuMCvfLJKVMH",
        "outputId": "ef4c2f7e-e52e-4477-9c2d-c5b1d87b7722"
      },
      "execution_count": null,
      "outputs": [
        {
          "output_type": "execute_result",
          "data": {
            "text/plain": [
              "[1, 2, 3, 4, 5, 6]"
            ]
          },
          "metadata": {},
          "execution_count": 11
        }
      ]
    },
    {
      "cell_type": "code",
      "source": [
        "list_a = [1,2,3]\n",
        "list_b = [4,5,6]\n",
        "list_a+list_b          #비파과적 처리\n",
        "list_a\n",
        "\n",
        "# 리스트 연결만으로는 list_a에 어떠한 영향도 주지 않는다 (비파과적 처리)\n",
        "# 하지만 extend()를 사용하면 list_a에 직접적으로 영향을 주게된다(파괴적 처리)\n",
        "# 기본적으로 자료를 사용할 때는 비파과적으로 사용하는것이 바람직하다.\n",
        "# 가능하념 원본 데이터는 그대로 유지하고 사용하는 것이 선택지가 더 넓다."
      ],
      "metadata": {
        "colab": {
          "base_uri": "https://localhost:8080/"
        },
        "id": "1pofhMq9KtaW",
        "outputId": "217ccca0-2f69-4fb6-a890-67713ad5455d"
      },
      "execution_count": null,
      "outputs": [
        {
          "output_type": "execute_result",
          "data": {
            "text/plain": [
              "[1, 2, 3]"
            ]
          },
          "metadata": {},
          "execution_count": 12
        }
      ]
    },
    {
      "cell_type": "code",
      "source": [
        "# del() 리스트에서 인덱스 위치 데이터 삭제\n",
        "list_a = [0,1,2,3,4,5]\n",
        "del list_a[1] #index 값으로 위치값을 삭제\n",
        "list_a\n",
        "\n",
        "del list_a[1:3]  #1부터 3미만 까지 삭제\n",
        "print(list_a)\n",
        "\n",
        "del list_a[:]  # 생략하면 처음 : 생략하면 끝\n",
        "print(list_a)\n",
        "\n",
        "#list_a.clear()  리스트 요소를 전부 한번에 삭제"
      ],
      "metadata": {
        "colab": {
          "base_uri": "https://localhost:8080/"
        },
        "id": "_eh0rsSVMbMn",
        "outputId": "ed1fa48f-a4a2-4ab3-8feb-1744d4a3d889"
      },
      "execution_count": null,
      "outputs": [
        {
          "output_type": "stream",
          "name": "stdout",
          "text": [
            "[0, 4, 5]\n",
            "[]\n"
          ]
        }
      ]
    },
    {
      "cell_type": "code",
      "source": [
        "# pop()    리스트에서 마지막 위치 데이터 삭제 + 특정 위치 데이터 삭제\n",
        "list_b = [1,2,3,4,5,6]\n",
        "list_b.pop()\n",
        "list_b\n",
        "list_b.pop(1)\n",
        "list_b\n"
      ],
      "metadata": {
        "colab": {
          "base_uri": "https://localhost:8080/"
        },
        "id": "hoUQTyMZNBIr",
        "outputId": "8c4eac76-60d3-454b-8888-38f01dafcc14"
      },
      "execution_count": null,
      "outputs": [
        {
          "output_type": "execute_result",
          "data": {
            "text/plain": [
              "[1, 3, 4, 5]"
            ]
          },
          "metadata": {},
          "execution_count": 14
        }
      ]
    },
    {
      "cell_type": "code",
      "source": [
        "#remove 값으로 삭제\n",
        "list_c = [1,2,3,1,2,3]\n",
        "list_c.remove(2)  #remove는 요소의 값을 찾아 삭제\n",
        "                  # 동일한 값이 여러개 있을 때 앞에서 부터 순차적으로 삭제한다.\n",
        "list_c"
      ],
      "metadata": {
        "colab": {
          "base_uri": "https://localhost:8080/"
        },
        "id": "jCpBOoLeObhN",
        "outputId": "eb53e6f4-b6cc-47a2-c173-6f9236d9b644"
      },
      "execution_count": null,
      "outputs": [
        {
          "output_type": "execute_result",
          "data": {
            "text/plain": [
              "[1, 3, 1, 2, 3]"
            ]
          },
          "metadata": {},
          "execution_count": 15
        }
      ]
    },
    {
      "cell_type": "code",
      "source": [
        "list=[1,2,3,4,5]\n",
        "print(list[0])  #indexing 비 파과적으로 동작한다.\n",
        "print(list)\n",
        "\n",
        "print(list.pop())  #pop은 파괴적으로 동작한다.\n",
        "print(list)"
      ],
      "metadata": {
        "colab": {
          "base_uri": "https://localhost:8080/"
        },
        "id": "ean-Y8-CP45I",
        "outputId": "f1e3e0a0-772d-4b65-8333-73829acdaaf9"
      },
      "execution_count": null,
      "outputs": [
        {
          "output_type": "stream",
          "name": "stdout",
          "text": [
            "1\n",
            "[1, 2, 3, 4, 5]\n",
            "5\n",
            "[1, 2, 3, 4]\n"
          ]
        }
      ]
    },
    {
      "cell_type": "code",
      "source": [
        "#in / not in 리스트에 존재하는 요소인지를 확인\n",
        "list = [222,434,65,123,654,897]\n",
        "print(222 in list)\n",
        "print(221 in list)\n",
        "print(221 not in list)\n"
      ],
      "metadata": {
        "colab": {
          "base_uri": "https://localhost:8080/"
        },
        "id": "BXpYgcECQig7",
        "outputId": "dc48eb47-c1bf-43d4-d905-dc749e95e4a2"
      },
      "execution_count": null,
      "outputs": [
        {
          "output_type": "stream",
          "name": "stdout",
          "text": [
            "True\n",
            "False\n",
            "True\n"
          ]
        }
      ]
    },
    {
      "cell_type": "code",
      "source": [
        "# Dict 딕셔너리 dictionary (java의 map, JS의 json과 유사한 자료구조)\n",
        "# 리스트가 인덱스를 기반으로 값을 저장한다면 딕셔너리는 키값을 기반으로 값을 저장한다.\n",
        "\n",
        "#{}를 사용하여 데이터들을 저장한다.\n",
        "#삽입/삭제가 가능하다. mutable\n",
        "#순서가 없으므로 인덱싱과 슬라이싱 불가능하다\n",
        "\n",
        "dict ={\n",
        "    'name' : '엔드 게임',\n",
        "    'no' : 1,\n",
        "    'type' : '히어로 무비',\n",
        "    'price': 10000\n",
        "}\n",
        "print(dict)\n",
        "dict['name']"
      ],
      "metadata": {
        "colab": {
          "base_uri": "https://localhost:8080/",
          "height": 54
        },
        "id": "dF2OnP5FRiu_",
        "outputId": "9e1cf50f-e6b1-4875-8f89-2ea23d603268"
      },
      "execution_count": null,
      "outputs": [
        {
          "output_type": "stream",
          "name": "stdout",
          "text": [
            "{'name': '엔드 게임', 'no': 1, 'type': '히어로 무비', 'price': 10000}\n"
          ]
        },
        {
          "output_type": "execute_result",
          "data": {
            "application/vnd.google.colaboratory.intrinsic+json": {
              "type": "string"
            },
            "text/plain": [
              "'엔드 게임'"
            ]
          },
          "metadata": {},
          "execution_count": 18
        }
      ]
    },
    {
      "cell_type": "code",
      "source": [
        "dict = {\n",
        "    '감독' : ['안소니','루소'],\n",
        "    '배우' : ['타노스','토르','헐크']\n",
        "    }\n",
        "dict\n",
        "print(dict['감독'])\n",
        "print(dict['배우'])"
      ],
      "metadata": {
        "colab": {
          "base_uri": "https://localhost:8080/"
        },
        "id": "ri39lMVqlX2A",
        "outputId": "71aaca54-610c-40f7-926b-f217a0029035"
      },
      "execution_count": null,
      "outputs": [
        {
          "output_type": "stream",
          "name": "stdout",
          "text": [
            "['안소니', '루소']\n",
            "['타노스', '토르', '헐크']\n"
          ]
        }
      ]
    },
    {
      "cell_type": "code",
      "source": [
        "dict = {\n",
        "    'name' : '건조망고',\n",
        "    'type' : '절임 과일',\n",
        "    'ingredient': ['망고','설탕','색소'],\n",
        "    'origin' : \"필리핀\"\n",
        "}\n",
        "print(\"name\", dict['name'])\n",
        "print('type',dict['type'])\n",
        "print('ingredient',dict['ingredient'])\n",
        "print('origin',dict['origin'])\n",
        "\n",
        "dict['name'] = \"망고\"   #dict 수정가능\n",
        "print(\"name\", dict['name'])\n",
        "\n",
        "print(dict['ingredient'][1])  #dict안에서 인덱스 값 불러오기 가능\n",
        "\n",
        "dict[\"price\"] = 5000    #추가 가능\n",
        "print(dict)\n",
        "\n",
        "dict[\"price\"] = 4000\n",
        "print(dict)\n",
        "\n",
        "del dict[\"price\"]\n",
        "print(dict)"
      ],
      "metadata": {
        "colab": {
          "base_uri": "https://localhost:8080/"
        },
        "id": "XNJ-ipbgl-mh",
        "outputId": "df45db7a-69e0-4680-e3e6-18e820c1bd46"
      },
      "execution_count": null,
      "outputs": [
        {
          "output_type": "stream",
          "name": "stdout",
          "text": [
            "name 건조망고\n",
            "type 절임 과일\n",
            "ingredient ['망고', '설탕', '색소']\n",
            "origin 필리핀\n",
            "name 망고\n",
            "설탕\n",
            "{'name': '망고', 'type': '절임 과일', 'ingredient': ['망고', '설탕', '색소'], 'origin': '필리핀', 'price': 5000}\n",
            "{'name': '망고', 'type': '절임 과일', 'ingredient': ['망고', '설탕', '색소'], 'origin': '필리핀', 'price': 4000}\n",
            "{'name': '망고', 'type': '절임 과일', 'ingredient': ['망고', '설탕', '색소'], 'origin': '필리핀'}\n"
          ]
        }
      ]
    },
    {
      "cell_type": "code",
      "source": [
        "dict = {\n",
        "    \n",
        "}\n",
        "dict[\"name\"] = \"새이름\"\n",
        "dict[\"height\"] = 185\n",
        "dict[\"weight\"] = 75\n",
        "\n",
        "print(dict)\n",
        "del dict[\"height\"]\n",
        "print(dict)"
      ],
      "metadata": {
        "colab": {
          "base_uri": "https://localhost:8080/"
        },
        "id": "9sTUW9lLonHA",
        "outputId": "4ec7b725-ca7f-48f7-f899-8ab36efc0f87"
      },
      "execution_count": null,
      "outputs": [
        {
          "output_type": "stream",
          "name": "stdout",
          "text": [
            "{'name': '새이름', 'height': 185, 'weight': 75}\n",
            "{'name': '새이름', 'weight': 75}\n"
          ]
        }
      ]
    },
    {
      "cell_type": "code",
      "source": [
        "# dict 에서 자주 등장하는 에러(예외)\n",
        "\n",
        "# KeyError 리스트에서 없는 인덱스에 접근하려고 하면 IndexError 가 발생되는 것처럼\n",
        "#          dict에서도 존재하지 않는 키값을 사용하면 예외 또는 에러를 발생시킨다.\n",
        "\n",
        "dict = {\n",
        "    'name' : '건조망고',\n",
        "    'type' : '절임 과일',\n",
        "    'ingredient': ['망고','설탕','색소'],\n",
        "    'origin' : \"필리핀\"\n",
        "}\n",
        "\n",
        "# del dict[\"nane\"]  #KeyError 예외발생"
      ],
      "metadata": {
        "id": "rtmU_3DlpBbu"
      },
      "execution_count": null,
      "outputs": []
    },
    {
      "cell_type": "code",
      "source": [
        "dict = {\n",
        "    'name' : '건조망고',\n",
        "    'type' : '절임 과일',\n",
        "    'ingredient': ['망고','설탕','색소'],\n",
        "    'origin' : \"필리핀\"\n",
        "}\n",
        "\n",
        "key=input('>삭제를 원하는 데이터의 키값을 입력하세요')\n",
        "if key in dict:\n",
        "  print(dict[key])\n",
        "  del dict[key]\n",
        "  print(dict)\n",
        "else:\n",
        "  print(\"존재하지 않은 키에 접근하려고 합니다.\")"
      ],
      "metadata": {
        "colab": {
          "base_uri": "https://localhost:8080/"
        },
        "id": "Ib9pdKMUqMdC",
        "outputId": "5ff0da14-5f7e-4fd6-ed76-6aa5997d9a9d"
      },
      "execution_count": null,
      "outputs": [
        {
          "output_type": "stream",
          "name": "stdout",
          "text": [
            ">삭제를 원하는 데이터의 키값을 입력하세요name\n",
            "건조망고\n",
            "{'type': '절임 과일', 'ingredient': ['망고', '설탕', '색소'], 'origin': '필리핀'}\n"
          ]
        }
      ]
    },
    {
      "cell_type": "code",
      "source": [
        "# 튜플 tuple\n",
        "# ()를 사용하여 작성한다.\n",
        "# 리스트와 거의 대부분 유사하나, 튜플은 삽입,수정 등이 불가능하다. immutable\n",
        "# 튜플은 1개의 원소로 작성할 때는 ,를 삽입한다.(1,)\n",
        "\n",
        "t=(1,2)\n",
        "print(t)\n",
        "print(t[0])\n",
        "t2=3,4\n",
        "print(t2)\n",
        "print(type(t2))\n",
        "t3 = 5,\n",
        "print(t3)\n",
        "print(type(t3))"
      ],
      "metadata": {
        "colab": {
          "base_uri": "https://localhost:8080/"
        },
        "id": "u7lJgw1UtTv8",
        "outputId": "45dec93a-7d3a-49d0-e266-54fd405766fd"
      },
      "execution_count": null,
      "outputs": [
        {
          "output_type": "stream",
          "name": "stdout",
          "text": [
            "(1, 2)\n",
            "1\n",
            "(3, 4)\n",
            "<class 'tuple'>\n",
            "(5,)\n",
            "<class 'tuple'>\n"
          ]
        }
      ]
    },
    {
      "cell_type": "code",
      "source": [
        "t=(1,2,3,4,5)\n",
        "# t[0]=8 수정불가. immutable\n",
        "# del t[0] 삭제불가 immutable"
      ],
      "metadata": {
        "id": "YDyvtxNFyLTK"
      },
      "execution_count": null,
      "outputs": []
    },
    {
      "cell_type": "code",
      "source": [
        "t=(1,2,3,4,5)\n",
        "t[1]  #인덱싱가능\n",
        "t[2:4] # 슬라이싱가능"
      ],
      "metadata": {
        "colab": {
          "base_uri": "https://localhost:8080/"
        },
        "id": "Wx4Eb_o2zPZe",
        "outputId": "1e91c5b4-8d28-4b09-9b64-174ffae10555"
      },
      "execution_count": null,
      "outputs": [
        {
          "output_type": "execute_result",
          "data": {
            "text/plain": [
              "(3, 4)"
            ]
          },
          "metadata": {},
          "execution_count": 26
        }
      ]
    },
    {
      "cell_type": "code",
      "source": [
        "t1 = 1,2,3,4,5\n",
        "t2 = 6,7,8,9\n",
        "t1+t2\n",
        "t1\n",
        "t2\n",
        "# 비파괴적 연산은 가능하다\n",
        "\n",
        "print(t1*3)\n"
      ],
      "metadata": {
        "colab": {
          "base_uri": "https://localhost:8080/"
        },
        "id": "uLg-TCR6zqWx",
        "outputId": "da0e6c1c-0ccc-4260-9416-cf26e7510476"
      },
      "execution_count": null,
      "outputs": [
        {
          "output_type": "stream",
          "name": "stdout",
          "text": [
            "(1, 2, 3, 4, 5, 1, 2, 3, 4, 5, 1, 2, 3, 4, 5)\n"
          ]
        }
      ]
    },
    {
      "cell_type": "code",
      "source": [
        "#Set집합 collection\n",
        "# {}를 사용한다.\n",
        "# 중복을 허용하지 않는다.\n",
        "# 순서가 없다. unordered 리스트나 튜플은 순서가 있어서 ordered 인덱싱,슬라이싱을 통해서 값을 꺼낼 수 있지만,\n",
        "# 딕셔너리나 셋은 순서가 없어서 불가능하다\n",
        "# 중복을 허용하지 않는 특성을 활용하여 중복 제거 필터용으로 많이 사용된다.\n",
        "\n",
        "######set 자료형에 저장된 값을 꺼내려면 리스트나 튜플로 변환하여 사용한다.\n",
        "# 수정,삭제가 가능하다 mutable\n",
        "\n",
        "set = {1,1,2,2,2,3,4}\n",
        "print(set)  #중복x\n"
      ],
      "metadata": {
        "colab": {
          "base_uri": "https://localhost:8080/"
        },
        "id": "wzOD_n2w0lmh",
        "outputId": "87cf830f-72cf-4fbb-88f3-c3406f5fe64f"
      },
      "execution_count": null,
      "outputs": [
        {
          "output_type": "stream",
          "name": "stdout",
          "text": [
            "{1, 2, 3, 4}\n"
          ]
        }
      ]
    },
    {
      "cell_type": "code",
      "source": [
        "s1 = set([1,1,1,2,2,3])\n",
        "print(type(s1))\n",
        "print(s1)\n",
        "#print(s1[0])\n",
        "\n",
        "li = list(s1)\n",
        "print(type(li))\n",
        "print(li)\n",
        "li[0]\n",
        "\n"
      ],
      "metadata": {
        "colab": {
          "base_uri": "https://localhost:8080/"
        },
        "id": "x0Z-HwN_2pKU",
        "outputId": "f51e79ab-bf02-47b9-d3a9-d1de0eff68a9"
      },
      "execution_count": 1,
      "outputs": [
        {
          "output_type": "stream",
          "name": "stdout",
          "text": [
            "<class 'set'>\n",
            "{1, 2, 3}\n",
            "<class 'list'>\n",
            "[1, 2, 3]\n"
          ]
        },
        {
          "output_type": "execute_result",
          "data": {
            "text/plain": [
              "1"
            ]
          },
          "metadata": {},
          "execution_count": 1
        }
      ]
    },
    {
      "cell_type": "code",
      "source": [
        "# 집합 계산\n",
        "set1 = {1,2,3}\n",
        "set2 = {2,3,4}\n",
        "\n",
        "print(type(set1))\n",
        "print(type(set2))\n",
        "\n",
        "#양쪽 집합에 모두 공통적으로 포함되는 원소 ->교집합\n",
        "print(set1&set2)\n",
        "print(set1.intersection(set2))\n",
        "\n",
        "#양쪽 집합을 모두 포함하는 원소 ->합집합\n",
        "print(set1|set2)\n",
        "print(set1.union(set2))\n",
        "\n",
        "#두 집합의 차 ->차집합\n",
        "print(set1-set2)\n",
        "print(set1.difference(set2))"
      ],
      "metadata": {
        "colab": {
          "base_uri": "https://localhost:8080/"
        },
        "id": "wgVygnPu4tXK",
        "outputId": "59f1de2e-92dc-4795-fb19-a8704179e6a0"
      },
      "execution_count": 46,
      "outputs": [
        {
          "output_type": "stream",
          "name": "stdout",
          "text": [
            "<class 'set'>\n",
            "<class 'set'>\n",
            "{2, 3}\n",
            "{2, 3}\n",
            "{1, 2, 3, 4}\n",
            "{1, 2, 3, 4}\n",
            "{1}\n",
            "{1}\n"
          ]
        }
      ]
    },
    {
      "cell_type": "code",
      "source": [
        "#집합의 추가\n",
        "s1 = {1,2,3}\n",
        "print(s1)\n",
        "s1.add(4)\n",
        "print(s1)\n",
        "\n",
        "s1.update([4,5,6,7])\n",
        "print(s1)\n",
        "\n",
        "#집합은 삭제가 가능하다 \n",
        "#집합은 인덱스 개념이 존재하지 않기때문에 값을 지정하여 직접 삭제한다.\n",
        "s1.remove(4)\n",
        "print(s1)"
      ],
      "metadata": {
        "colab": {
          "base_uri": "https://localhost:8080/"
        },
        "id": "nn_4hhuA6W4X",
        "outputId": "46c57516-1301-48b1-a121-0d5ba8dee814"
      },
      "execution_count": 2,
      "outputs": [
        {
          "output_type": "stream",
          "name": "stdout",
          "text": [
            "{1, 2, 3}\n",
            "{1, 2, 3, 4}\n",
            "{1, 2, 3, 4, 5, 6, 7}\n",
            "{1, 2, 3, 5, 6, 7}\n"
          ]
        }
      ]
    },
    {
      "cell_type": "code",
      "source": [
        "#quiz1 예) 학번 31025 -> \n",
        "sn = input(\"학번을 입력하세요 : \")\n",
        "level = int(sn[0])\n",
        "class1 = int(sn[1:3])\n",
        "num = int(sn[3:5])\n",
        "print(f\"{level}학년{class1}반{num}번\")"
      ],
      "metadata": {
        "colab": {
          "base_uri": "https://localhost:8080/"
        },
        "id": "9ZWD8xcn_kgh",
        "outputId": "36f4d40a-532d-449e-cbf9-d24b05b17778"
      },
      "execution_count": 12,
      "outputs": [
        {
          "output_type": "stream",
          "name": "stdout",
          "text": [
            "학번을 입력하세요 : 65132\n",
            "6학년51반32번\n"
          ]
        }
      ]
    },
    {
      "cell_type": "code",
      "source": [
        "#quiz2 \n",
        "num = input(\"차량 번호를 입력하세요 : \") #서울2가1234  or 288가 1234\n",
        "print(f\"{num}의 차량번호 끝 4자리는 {num[-4:]}입니다\")\n",
        "\n"
      ],
      "metadata": {
        "colab": {
          "base_uri": "https://localhost:8080/"
        },
        "id": "vcuDLGneB-Qj",
        "outputId": "a0846a71-85e8-472c-fc3e-0a372a9d50df"
      },
      "execution_count": 19,
      "outputs": [
        {
          "output_type": "stream",
          "name": "stdout",
          "text": [
            "차량 번호를 입력하세요 :  288가 1234\n",
            " 288가 1234의 차량번호 끝 4자리는 1234입니다\n"
          ]
        }
      ]
    },
    {
      "cell_type": "code",
      "source": [
        "#quiz3\n",
        "#가운데 글자추출프로그램(홀수)\n",
        "name = input()\n",
        "print(f\"문자열의 가운데글자는 {name[int(len(name)/2)]} 입니다\")\n",
        "#print(f\"문자열의 가운데글자는 {name[(len(name)//2)]} 입니다\") int를 써도되고 // 몫 추출\n",
        "#print(f\"문자열의 가운데글자는 {name[(len(name)%2)]} 입니다\") int를 써도되고  % 나머지 추출\n",
        "\n"
      ],
      "metadata": {
        "colab": {
          "base_uri": "https://localhost:8080/"
        },
        "id": "9pzwp7z6Dks-",
        "outputId": "d8db983a-a38b-4e66-bc8d-4f71e8242150"
      },
      "execution_count": 39,
      "outputs": [
        {
          "output_type": "stream",
          "name": "stdout",
          "text": [
            "ㅁㄴㅇ\n",
            "문자열의 가운데글자는 ㄴ 입니다\n"
          ]
        }
      ]
    },
    {
      "cell_type": "code",
      "source": [
        "list  = ['Life', 'is', 'too', 'short']\n",
        "print(list[0],list[1],list[2],list[3])"
      ],
      "metadata": {
        "colab": {
          "base_uri": "https://localhost:8080/"
        },
        "id": "eJuk6tHLGjuX",
        "outputId": "f7e67db6-3f4c-44d3-d8cc-57a62629f662"
      },
      "execution_count": 38,
      "outputs": [
        {
          "output_type": "stream",
          "name": "stdout",
          "text": [
            "Life is too short\n"
          ]
        }
      ]
    },
    {
      "cell_type": "code",
      "source": [
        "# [1,2,3,4,5,6,7,8,9]의 3번째 요소부터 7번째 요소만 추출한 결과에서 2번째 요소를 출력\n",
        "a=[1,2,3,4,5,6,7,8,9]\n",
        "print(a[2:7][1])"
      ],
      "metadata": {
        "colab": {
          "base_uri": "https://localhost:8080/"
        },
        "id": "WfT2QbBMHjnL",
        "outputId": "458d8984-37c3-4548-b8cc-b4da5781e388"
      },
      "execution_count": 45,
      "outputs": [
        {
          "output_type": "stream",
          "name": "stdout",
          "text": [
            "4\n"
          ]
        }
      ]
    },
    {
      "cell_type": "code",
      "source": [
        "############\n",
        "#  if\n",
        "############\n",
        "\n",
        "# 특정 조건을 만족하는지 여부에 따라 실행되는 코드가 달라져야 할 때 사용.\n",
        "\n",
        "# if 조건식:\n",
        "# 만족할때 실행코드\n",
        "# else:\n",
        "# 만족 못 할때 실행코드\n",
        "\n",
        "if True:\n",
        "  print(\"만족\")\n",
        "else:\n",
        "  print(\"불만족\")"
      ],
      "metadata": {
        "colab": {
          "base_uri": "https://localhost:8080/"
        },
        "id": "mPTCVJ62N0R5",
        "outputId": "5941d5b3-8577-4d1b-d196-0754db5e2116"
      },
      "execution_count": 48,
      "outputs": [
        {
          "output_type": "stream",
          "name": "stdout",
          "text": [
            "만족\n"
          ]
        }
      ]
    },
    {
      "cell_type": "code",
      "source": [
        "age = int(input(\"나이를 입력하세요 : \"))\n",
        "\n",
        "if age>=18:\n",
        "  print(\"당신은 성인입니다.\")\n",
        "else:\n",
        "  print(\"당신은 성인이 아닙니다\")"
      ],
      "metadata": {
        "colab": {
          "base_uri": "https://localhost:8080/"
        },
        "id": "v-RKuc6SPPgb",
        "outputId": "928dd989-4bed-4584-d5eb-40471f03bbb2"
      },
      "execution_count": 51,
      "outputs": [
        {
          "output_type": "stream",
          "name": "stdout",
          "text": [
            "나이를 입력하세요 : 50\n",
            "당신은 성인입니다.\n"
          ]
        }
      ]
    },
    {
      "cell_type": "code",
      "source": [
        "age = int(input(\"나이를 입력하세요 : \"))\n",
        "\n",
        "if age<10:\n",
        "  print(\"당신은 성인입니다.\")\n",
        "elif age<20:\n",
        "  print(\"당신은 10대입니다\")\n",
        "elif age<30:\n",
        "  print(\"당신은 20대입니다\")\n",
        "elif age<40:\n",
        "  print(\"당신은 30대입니다\")\n",
        "elif age<50:\n",
        "  print(\"당신은 40대입니다\")\n",
        "elif age<60:\n",
        "  print(\"당신은 50대입니다\")\n",
        "  \n",
        "else:\n",
        "  print(\"당신은 성인이 아닙니다\")"
      ],
      "metadata": {
        "colab": {
          "base_uri": "https://localhost:8080/"
        },
        "id": "xEoUpoPHQgvN",
        "outputId": "ec0e5750-3f3e-489e-a5c5-7a3d0a13ff72"
      },
      "execution_count": 54,
      "outputs": [
        {
          "output_type": "stream",
          "name": "stdout",
          "text": [
            "나이를 입력하세요 : 12\n",
            "당신은 10대입니다\n"
          ]
        }
      ]
    },
    {
      "cell_type": "code",
      "source": [
        "#입력) 당신의 점수를 입력하세요 >>>95\n",
        "n = int(input(\"당신의 점수를 입력하세요 >>>\"))\n",
        "if n<60 :\n",
        "  score = \"F\"\n",
        "elif n<70:\n",
        "  score = \"D\"\n",
        "elif n<80:\n",
        "  score = \"C\"\n",
        "elif n<90:\n",
        "  score = \"B\"\n",
        "else:\n",
        "  score = \"A\"\n",
        "\n",
        "\n",
        "print(f\"당신의 점수는{n}이고 학점은 {score}입니다\")"
      ],
      "metadata": {
        "colab": {
          "base_uri": "https://localhost:8080/"
        },
        "id": "9tjsyHDvRZBx",
        "outputId": "a2563544-2eb4-4e3d-f1a3-8c6c4c27cf4c"
      },
      "execution_count": 66,
      "outputs": [
        {
          "output_type": "stream",
          "name": "stdout",
          "text": [
            "당신의 점수를 입력하세요 >>>50\n",
            "당신의 점수는50이고 학점은 F입니다\n"
          ]
        }
      ]
    },
    {
      "cell_type": "code",
      "source": [
        "# 임의의 정수를 입력받아 그수가 3의 배수 인지 확인\n",
        "n = int(input(\"정수를 입력하세요>>>\"))\n",
        "if n%3==0:\n",
        " print(f\"{n}은 3의 배수 입니다\")\n",
        "else:\n",
        "  print(f\"{n}은 3의 배수가 아닙니다다\")"
      ],
      "metadata": {
        "colab": {
          "base_uri": "https://localhost:8080/"
        },
        "id": "bcl1KMf4TsFY",
        "outputId": "c8ffe0f2-c79f-4a51-bb5d-044961f5aae7"
      },
      "execution_count": 69,
      "outputs": [
        {
          "output_type": "stream",
          "name": "stdout",
          "text": [
            "정수를 입력하세요>>>15\n",
            "15은 3의 배수 입니다\n"
          ]
        }
      ]
    },
    {
      "cell_type": "code",
      "source": [
        "# 정수 3개 입력받아서 큰수 찾아출력\n",
        "n1=int(input(\"정수1입력>\"))\n",
        "n2=int(input(\"정수2입력>\"))\n",
        "n3=int(input(\"정수3입력>\"))\n",
        "a=0\n",
        "if n1>n2 & n1>n3:\n",
        "  a=n1\n",
        "elif n2>n3:\n",
        "  a=n2\n",
        "else:\n",
        "  a=n3\n",
        "\n",
        "\n",
        "print(a)"
      ],
      "metadata": {
        "colab": {
          "base_uri": "https://localhost:8080/"
        },
        "id": "1hTAGQ95U25C",
        "outputId": "536965cd-02ad-4698-f260-95a412a8aa45"
      },
      "execution_count": 78,
      "outputs": [
        {
          "output_type": "stream",
          "name": "stdout",
          "text": [
            "정수1입력>5\n",
            "정수2입력>5\n",
            "정수3입력>5\n",
            "5\n"
          ]
        }
      ]
    }
  ]
}