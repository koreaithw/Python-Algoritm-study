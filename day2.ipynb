{
  "nbformat": 4,
  "nbformat_minor": 0,
  "metadata": {
    "colab": {
      "name": "day2",
      "provenance": [],
      "authorship_tag": "ABX9TyOfM83/bvow3xJMMqJ8OYMy",
      "include_colab_link": true
    },
    "kernelspec": {
      "name": "python3",
      "display_name": "Python 3"
    },
    "language_info": {
      "name": "python"
    }
  },
  "cells": [
    {
      "cell_type": "markdown",
      "metadata": {
        "id": "view-in-github",
        "colab_type": "text"
      },
      "source": [
        "<a href=\"https://colab.research.google.com/github/koreaithw/ai/blob/main/day2.ipynb\" target=\"_parent\"><img src=\"https://colab.research.google.com/assets/colab-badge.svg\" alt=\"Open In Colab\"/></a>"
      ]
    },
    {
      "cell_type": "code",
      "execution_count": 1,
      "metadata": {
        "colab": {
          "base_uri": "https://localhost:8080/"
        },
        "id": "w9a79HAwwVqu",
        "outputId": "b6b73460-69b5-4228-aa3e-697d42812278"
      },
      "outputs": [
        {
          "output_type": "stream",
          "name": "stdout",
          "text": [
            "Hello World\n"
          ]
        }
      ],
      "source": [
        "# comment 주석 -코드에 대한 설명, 컴퓨터는 읽지 않고 사람만 읽는 내용, \n",
        "# 또 다른 용법으로는 코드를 임시로 실행하지 않고 감추고 \n",
        "# 에러를 확인하는 용도로도 사용된다.\n",
        "# 본인이 기록한 내용을 나중에 확일할 때 또는 다른 팀원이 작성한 내용을 파악하기 용이하게 만든다.\n",
        "\n",
        "# #을 사용하여 주석을 표시한다.\n",
        "\n",
        "# doc string(삼중따옴표 주석의 용도로도 쓰인다).\n",
        "\n",
        "#코드의 윗쪽 또는 오른쪽에 주석을 붙인다.\n",
        "print('Hello World') #코드의 우측 또는 코드의 윗줄에 적는다."
      ]
    },
    {
      "cell_type": "code",
      "source": [
        "#변수 Variable\n",
        "#어떤 값을 저장하는 저장소(a- 짜리 표현)\n",
        "a=100\n",
        "print(a)\n",
        "\n",
        "stumathsum =350\n",
        "stu_math_sum=350 #스네이크 케이스 snake_case\n",
        "StuMathSum =350  #캐멀 케이스  CamelCase\n"
      ],
      "metadata": {
        "colab": {
          "base_uri": "https://localhost:8080/"
        },
        "id": "c09fnW1-xGBv",
        "outputId": "ae92ed48-7067-49f0-d41d-7b30eaadbd92"
      },
      "execution_count": 2,
      "outputs": [
        {
          "output_type": "stream",
          "name": "stdout",
          "text": [
            "100\n"
          ]
        }
      ]
    },
    {
      "cell_type": "code",
      "source": [
        "# 1a = 100 숫자가 먼저 올 수 없다\n",
        "a1=100\n",
        "_a=100\n",
        "# @a =100\n",
        "홍길동 =55\n",
        "#한글 변수명이 사용이 가능하지만 쓰지말자\n"
      ],
      "metadata": {
        "id": "ha7KhgZ0zIJ_"
      },
      "execution_count": 3,
      "outputs": []
    },
    {
      "cell_type": "code",
      "source": [
        "# 인덱싱(슬라이싱)\n",
        "\n",
        "s = 'world'\n",
        "print(s[2]) #파이썬은 인덱스 시작이 0이다.\n",
        "print(s[-1]) #-1은 마지막 인덱스를 가리킨다\n",
        "print(s[4])\n",
        "ss='900101-2547389'\n",
        "print(ss[7])  #하나만 추출 할 때는 indexing\n",
        "addr = '서울시 강남구 역삼동 1번지'\n",
        "print(addr[4:7])  #여러개를 추출 할 때는 slicing\n"
      ],
      "metadata": {
        "colab": {
          "base_uri": "https://localhost:8080/"
        },
        "id": "5ZxzlJzTzhzh",
        "outputId": "0c713b6e-6493-41ad-c00e-3c081d188ca0"
      },
      "execution_count": 4,
      "outputs": [
        {
          "output_type": "stream",
          "name": "stdout",
          "text": [
            "r\n",
            "d\n",
            "d\n",
            "2\n",
            "강남구\n"
          ]
        }
      ]
    },
    {
      "cell_type": "code",
      "source": [
        "#print()\n",
        "\n",
        "print('좋은 아침입니다.')"
      ],
      "metadata": {
        "colab": {
          "base_uri": "https://localhost:8080/"
        },
        "id": "roHUB34e1btZ",
        "outputId": "ac129d98-e343-4c34-9e13-c074da0c738b"
      },
      "execution_count": 5,
      "outputs": [
        {
          "output_type": "stream",
          "name": "stdout",
          "text": [
            "좋은 아침입니다.\n"
          ]
        }
      ]
    },
    {
      "cell_type": "code",
      "source": [
        "when = '아침'\n",
        "#기본\n",
        "print('좋은',when,'입니다')\n",
        "# %연산자\n",
        "print('좋은 %s 입니다' %when)\n",
        "#format()\n",
        "print('좋은 {}입니다'.format(when) )\n",
        "#f-string\n",
        "print(f'좋은 {when}입니다')\n"
      ],
      "metadata": {
        "colab": {
          "base_uri": "https://localhost:8080/"
        },
        "id": "XuOk5Ngo1jNF",
        "outputId": "03a6adb8-ece5-46df-a3d2-dd776f224bc6"
      },
      "execution_count": 6,
      "outputs": [
        {
          "output_type": "stream",
          "name": "stdout",
          "text": [
            "좋은 아침 입니다\n",
            "좋은 아침 입니다\n",
            "좋은 아침입니다\n",
            "좋은 아침입니다\n"
          ]
        }
      ]
    },
    {
      "cell_type": "code",
      "source": [
        "s='world'\n",
        "t='python'\n",
        "print(s+\"!\",t)"
      ],
      "metadata": {
        "colab": {
          "base_uri": "https://localhost:8080/"
        },
        "id": "6g0G8CX-6ljW",
        "outputId": "23f85474-e55f-43ee-b9cb-3b5d9c7f7602"
      },
      "execution_count": 7,
      "outputs": [
        {
          "output_type": "stream",
          "name": "stdout",
          "text": [
            "world! python\n"
          ]
        }
      ]
    },
    {
      "cell_type": "code",
      "source": [
        "############################################################################\n",
        "# 리스트 List 튜플 Tuple 딕셔너리 Dict 셋 Set\n",
        "# 여러개의 값을 한번에 저장하는 자료형이 필요하다\n",
        "\n",
        "# 리스트 List\n",
        "# 지금까지 사용한 숫자 1, 문자 1 등의 개별적 , 독립적인 자료가 아닌\n",
        "# 리스트는 이러한 자료들을 여러개 모아서 사용 할 수 있게 해준다\n",
        "# 리스트에 넣는 자료를 요소element 라고 부른다.\n",
        "\n",
        "# 리스트는 []로 구성한다\n",
        "list = [1,2,3,4,5]\n",
        "print(list)\n",
        "# 리스트는 다양한 자료형의 데이터를 한번에 담을 수 있다.\n",
        "# (but,하나의 리스트에는 한가지 자료형 만 저장하는 것이 오히려 바람직하다.)\n",
        "list = [1,2,3,'대한','민국',True,False]\n",
        "print(list)\n",
        "score = [80,90,70,60]\n",
        "print(score)\n",
        "# 리스트는 인덱싱(indexting)과 슬라이싱(slicing)이 가능하다\n",
        "print(score[0])  #파이썬은 0부터 시작한다.\n",
        "print(score[0:2]) #슬라이싱은 0부터 2미만.. 처럼 끝은 미만을 나타낸다.\n",
        "\n",
        "# 리스트는 수적/삭제가 가능하다 (mutable) 튜플은 immutable\n",
        "score[0]=100\n",
        "print(score)\n",
        "score[-1]= 100\n",
        "print(score)\n",
        "#score[4] indexerror (아주 많이 접하게 된 에러(예외))\n",
        "\n",
        "# 리스트는 연산이 가능하다\n",
        "list_a = [1,2,3]\n",
        "list_b = [4,5,6]\n",
        "print('list_a=',list_a)\n",
        "print('list_b=',list_b)\n",
        "print(list_a+list_b)\n",
        "print(list_a*3)\n",
        "print(len(list_a))  #리스트의 갯수를 셀 수 있다.\n",
        "print(len(list_a*3))"
      ],
      "metadata": {
        "colab": {
          "base_uri": "https://localhost:8080/"
        },
        "id": "Vs-l5sJ398sB",
        "outputId": "2acb9ee8-77db-4b4b-91f0-d44686b3b795"
      },
      "execution_count": 8,
      "outputs": [
        {
          "output_type": "stream",
          "name": "stdout",
          "text": [
            "[1, 2, 3, 4, 5]\n",
            "[1, 2, 3, '대한', '민국', True, False]\n",
            "[80, 90, 70, 60]\n",
            "80\n",
            "[80, 90]\n",
            "[100, 90, 70, 60]\n",
            "[100, 90, 70, 100]\n",
            "list_a= [1, 2, 3]\n",
            "list_b= [4, 5, 6]\n",
            "[1, 2, 3, 4, 5, 6]\n",
            "[1, 2, 3, 1, 2, 3, 1, 2, 3]\n",
            "3\n",
            "9\n"
          ]
        }
      ]
    },
    {
      "cell_type": "code",
      "source": [
        "# 리스트에 많이 사용되는 함수들\n",
        "# append() 리스트에 요소를 추가할 때, 사용 끝에만 추가 (****제일많이 사용*******)\n",
        "print(score)\n",
        "score.append(60)\n",
        "print(score)"
      ],
      "metadata": {
        "colab": {
          "base_uri": "https://localhost:8080/"
        },
        "id": "67zs6GBUIuJa",
        "outputId": "5ef961b6-d948-4203-94b1-f303b798fd39"
      },
      "execution_count": 9,
      "outputs": [
        {
          "output_type": "stream",
          "name": "stdout",
          "text": [
            "[100, 90, 70, 100]\n",
            "[100, 90, 70, 100, 60]\n"
          ]
        }
      ]
    },
    {
      "cell_type": "code",
      "source": [
        "# insert() 리스트에 요소를 추가할 때 사용, 특정 위치를 지정가능\n",
        "list = []  #공리스트\n",
        "list.insert(0,10)  #~번째에 ~를 추가\n",
        "print(list)\n",
        "list.insert(2,2)\n",
        "print(list)\n",
        "list.insert(0,5)\n",
        "print(list)"
      ],
      "metadata": {
        "colab": {
          "base_uri": "https://localhost:8080/"
        },
        "id": "Z56t2rcHJIeV",
        "outputId": "976024e4-1e9f-4699-fc02-88f22fc5002f"
      },
      "execution_count": 10,
      "outputs": [
        {
          "output_type": "stream",
          "name": "stdout",
          "text": [
            "[10]\n",
            "[10, 2]\n",
            "[5, 10, 2]\n"
          ]
        }
      ]
    },
    {
      "cell_type": "code",
      "source": [
        "list_a = [1,2,3]\n",
        "list_a.extend([4,5,6])  #한번에 여러개를 집어넣을때는 extend\n",
        "list_a           #파괴적 처리"
      ],
      "metadata": {
        "colab": {
          "base_uri": "https://localhost:8080/"
        },
        "id": "WuMCvfLJKVMH",
        "outputId": "e0f8a683-647f-4431-8a55-43472eeef5fd"
      },
      "execution_count": 11,
      "outputs": [
        {
          "output_type": "execute_result",
          "data": {
            "text/plain": [
              "[1, 2, 3, 4, 5, 6]"
            ]
          },
          "metadata": {},
          "execution_count": 11
        }
      ]
    },
    {
      "cell_type": "code",
      "source": [
        "list_a = [1,2,3]\n",
        "list_b = [4,5,6]\n",
        "list_a+list_b          #비파과적 처리\n",
        "list_a\n",
        "\n",
        "# 리스트 연결만으로는 list_a에 어떠한 영향도 주지 않는다 (비파과적 처리)\n",
        "# 하지만 extend()를 사용하면 list_a에 직접적으로 영향을 주게된다(파괴적 처리)\n",
        "# 기본적으로 자료를 사용할 때는 비파과적으로 사용하는것이 바람직하다.\n",
        "# 가능하념 원본 데이터는 그대로 유지하고 사용하는 것이 선택지가 더 넓다."
      ],
      "metadata": {
        "colab": {
          "base_uri": "https://localhost:8080/"
        },
        "id": "1pofhMq9KtaW",
        "outputId": "f4c9aee1-7bdb-43e9-d47e-42af10428bed"
      },
      "execution_count": 12,
      "outputs": [
        {
          "output_type": "execute_result",
          "data": {
            "text/plain": [
              "[1, 2, 3]"
            ]
          },
          "metadata": {},
          "execution_count": 12
        }
      ]
    },
    {
      "cell_type": "code",
      "source": [
        "# del() 리스트에서 인덱스 위치 데이터 삭제\n",
        "list_a = [0,1,2,3,4,5]\n",
        "del list_a[1] #index 값으로 위치값을 삭제\n",
        "list_a\n",
        "\n",
        "del list_a[1:3]  #1부터 3미만 까지 삭제\n",
        "print(list_a)\n",
        "\n",
        "del list_a[:]  # 생략하면 처음 : 생략하면 끝\n",
        "print(list_a)\n",
        "\n",
        "#list_a.clear()  리스트 요소를 전부 한번에 삭제"
      ],
      "metadata": {
        "colab": {
          "base_uri": "https://localhost:8080/"
        },
        "id": "_eh0rsSVMbMn",
        "outputId": "74a4a48b-af2e-4b48-81b7-affe175cbc29"
      },
      "execution_count": 13,
      "outputs": [
        {
          "output_type": "stream",
          "name": "stdout",
          "text": [
            "[0, 4, 5]\n",
            "[]\n"
          ]
        }
      ]
    },
    {
      "cell_type": "code",
      "source": [
        "# pop()    리스트에서 마지막 위치 데이터 삭제 + 특정 위치 데이터 삭제\n",
        "list_b = [1,2,3,4,5,6]\n",
        "list_b.pop()\n",
        "list_b\n",
        "list_b.pop(1)\n",
        "list_b\n"
      ],
      "metadata": {
        "colab": {
          "base_uri": "https://localhost:8080/"
        },
        "id": "hoUQTyMZNBIr",
        "outputId": "652d7942-9ef3-4cdb-91c2-2275e43f734e"
      },
      "execution_count": 14,
      "outputs": [
        {
          "output_type": "execute_result",
          "data": {
            "text/plain": [
              "[1, 3, 4, 5]"
            ]
          },
          "metadata": {},
          "execution_count": 14
        }
      ]
    },
    {
      "cell_type": "code",
      "source": [
        "#remove 값으로 삭제\n",
        "list_c = [1,2,3,1,2,3]\n",
        "list_c.remove(2)  #remove는 요소의 값을 찾아 삭제\n",
        "                  # 동일한 값이 여러개 있을 때 앞에서 부터 순차적으로 삭제한다.\n",
        "list_c"
      ],
      "metadata": {
        "colab": {
          "base_uri": "https://localhost:8080/"
        },
        "id": "jCpBOoLeObhN",
        "outputId": "8cf11eca-1f19-40d0-ff11-218c77a025cd"
      },
      "execution_count": 15,
      "outputs": [
        {
          "output_type": "execute_result",
          "data": {
            "text/plain": [
              "[1, 3, 1, 2, 3]"
            ]
          },
          "metadata": {},
          "execution_count": 15
        }
      ]
    },
    {
      "cell_type": "code",
      "source": [
        "list=[1,2,3,4,5]\n",
        "print(list[0])  #indexing 비 파과적으로 동작한다.\n",
        "print(list)\n",
        "\n",
        "print(list.pop())  #pop은 파괴적으로 동작한다.\n",
        "print(list)"
      ],
      "metadata": {
        "colab": {
          "base_uri": "https://localhost:8080/"
        },
        "id": "ean-Y8-CP45I",
        "outputId": "67fd62ab-827f-4e34-b183-5d0fffc94420"
      },
      "execution_count": 16,
      "outputs": [
        {
          "output_type": "stream",
          "name": "stdout",
          "text": [
            "1\n",
            "[1, 2, 3, 4, 5]\n",
            "5\n",
            "[1, 2, 3, 4]\n"
          ]
        }
      ]
    },
    {
      "cell_type": "code",
      "source": [
        "#in / not in 리스트에 존재하는 요소인지를 확인\n",
        "list = [222,434,65,123,654,897]\n",
        "print(222 in list)\n",
        "print(221 in list)\n",
        "print(221 not in list)\n"
      ],
      "metadata": {
        "colab": {
          "base_uri": "https://localhost:8080/"
        },
        "id": "BXpYgcECQig7",
        "outputId": "f060a1c1-b969-4cf0-da20-021eb7eab6fb"
      },
      "execution_count": 21,
      "outputs": [
        {
          "output_type": "stream",
          "name": "stdout",
          "text": [
            "True\n",
            "False\n",
            "True\n"
          ]
        }
      ]
    },
    {
      "cell_type": "code",
      "source": [
        "# 딕셔너리 dictionary"
      ],
      "metadata": {
        "id": "dF2OnP5FRiu_"
      },
      "execution_count": null,
      "outputs": []
    }
  ]
}