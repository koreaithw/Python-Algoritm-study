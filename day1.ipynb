{
  "nbformat": 4,
  "nbformat_minor": 0,
  "metadata": {
    "colab": {
      "name": "day1",
      "provenance": [],
      "authorship_tag": "ABX9TyOtwBeWsimX/R6xKbYuC8bB",
      "include_colab_link": true
    },
    "kernelspec": {
      "name": "python3",
      "display_name": "Python 3"
    },
    "language_info": {
      "name": "python"
    }
  },
  "cells": [
    {
      "cell_type": "markdown",
      "metadata": {
        "id": "view-in-github",
        "colab_type": "text"
      },
      "source": [
        "<a href=\"https://colab.research.google.com/github/koreaithw/ai/blob/main/day1.ipynb\" target=\"_parent\"><img src=\"https://colab.research.google.com/assets/colab-badge.svg\" alt=\"Open In Colab\"/></a>"
      ]
    },
    {
      "cell_type": "code",
      "execution_count": null,
      "metadata": {
        "colab": {
          "base_uri": "https://localhost:8080/"
        },
        "id": "CpyKVcXhw35a",
        "outputId": "3f590d81-9bb1-4159-b634-64b7e4ac3901"
      },
      "outputs": [
        {
          "output_type": "stream",
          "name": "stdout",
          "text": [
            "hello world\n"
          ]
        }
      ],
      "source": [
        "############\n",
        "# 주석 comment\n",
        "############\n",
        "print(\"hello world\") # 주석\n",
        "\n"
      ]
    },
    {
      "cell_type": "code",
      "source": [
        "############\n",
        "# 변수 Variable\n",
        "############\n",
        "score = 200\n",
        "\n",
        "print(score)\n",
        "\n",
        "score = 300\n",
        "\n",
        "print(score)\n",
        "\n",
        "a=1\n",
        "A=2\n",
        "print(a)\n",
        "print(A)\n",
        "a1 =10\n",
        "a2 =20\n",
        "print(a1)\n",
        "print(a2)\n",
        "print(a+A)\n"
      ],
      "metadata": {
        "colab": {
          "base_uri": "https://localhost:8080/"
        },
        "id": "2h7QMlTk4gza",
        "outputId": "a31858a2-ee86-4e40-be2d-db54fc46118c"
      },
      "execution_count": null,
      "outputs": [
        {
          "output_type": "stream",
          "name": "stdout",
          "text": [
            "200\n",
            "300\n",
            "1\n",
            "2\n",
            "10\n",
            "20\n",
            "3\n"
          ]
        }
      ]
    },
    {
      "cell_type": "code",
      "source": [
        "name = \"Alice\"\n",
        "age =25\n",
        "address = '''우편번호 12345\n",
        "서울시영등포구 여의도동\n",
        "서울빌딩 501호'''\n",
        "boyfriend = None\n",
        "height= 168.5\n",
        "\n",
        "print(name)\n",
        "print(age)\n",
        "print(boyfriend)\n",
        "print(height)"
      ],
      "metadata": {
        "colab": {
          "base_uri": "https://localhost:8080/"
        },
        "id": "GbUg9JrmCoDa",
        "outputId": "e5e91084-4b51-4987-83c3-d89ecead2e36"
      },
      "execution_count": null,
      "outputs": [
        {
          "output_type": "stream",
          "name": "stdout",
          "text": [
            "Alice\n",
            "25\n",
            "None\n",
            "168.5\n"
          ]
        }
      ]
    },
    {
      "cell_type": "code",
      "source": [
        "############\n",
        "# 기본 자료형 type\n",
        "############\n",
        "a=int(1.9)  #정수만 나옴\n",
        "print(a)\n",
        "b=float(1.9)\n",
        "print(b)\n",
        "c=int(True)   #True==1\n",
        "print(c)\n",
        "d=int(False)  #False==0\n",
        "print(d)"
      ],
      "metadata": {
        "colab": {
          "base_uri": "https://localhost:8080/"
        },
        "id": "TmaMgaSnDob5",
        "outputId": "2f0365fc-ca59-4636-c697-01bbf1033092"
      },
      "execution_count": null,
      "outputs": [
        {
          "output_type": "stream",
          "name": "stdout",
          "text": [
            "1\n",
            "1.9\n",
            "1\n",
            "0\n"
          ]
        }
      ]
    },
    {
      "cell_type": "code",
      "source": [
        "print(100+100)  #숫자 100\n",
        "print('100'+\"100\") #문자 100\n",
        "\n",
        "a=100\n",
        "b=\"100\"\n",
        "print(type(a))  #type() 타입을 보여주는 함수\n",
        "print(type(b))\n",
        "print(a==b)\n",
        "c=int(b)\n",
        "print(type(c))\n",
        "print(a==c)"
      ],
      "metadata": {
        "colab": {
          "base_uri": "https://localhost:8080/"
        },
        "id": "-RvpYpcIE6oZ",
        "outputId": "ab8dfe89-f761-47a5-9d39-ed69957c3c45"
      },
      "execution_count": null,
      "outputs": [
        {
          "output_type": "stream",
          "name": "stdout",
          "text": [
            "200\n",
            "100100\n",
            "<class 'int'>\n",
            "<class 'str'>\n",
            "False\n",
            "<class 'int'>\n",
            "True\n"
          ]
        }
      ]
    },
    {
      "cell_type": "code",
      "source": [
        "#실수 float\n",
        "a=float(1)\n",
        "print(a)\n",
        "b=float\n",
        "print(b)\n",
        "a = bool(23)\n",
        "print(a)"
      ],
      "metadata": {
        "colab": {
          "base_uri": "https://localhost:8080/"
        },
        "id": "kzrccB9dGYna",
        "outputId": "dcf66abc-7e44-4218-e4b5-4a7295b6c39f"
      },
      "execution_count": null,
      "outputs": [
        {
          "output_type": "stream",
          "name": "stdout",
          "text": [
            "1.0\n",
            "<class 'float'>\n",
            "True\n"
          ]
        }
      ]
    },
    {
      "cell_type": "code",
      "source": [
        "# 문자열 인덱싱  \n",
        "# 파이썬은 0에서 시작한다\n",
        "# hello\n",
        "# 01234\n",
        "\n",
        "s=\"hello\"\n",
        "print(s[0])\n",
        "\n",
        "a = '990211-1005432'\n",
        "print(a[7])"
      ],
      "metadata": {
        "colab": {
          "base_uri": "https://localhost:8080/"
        },
        "id": "LQYASimxcliQ",
        "outputId": "10f3a3b5-f4ec-4331-87a9-768865683f3c"
      },
      "execution_count": null,
      "outputs": [
        {
          "output_type": "stream",
          "name": "stdout",
          "text": [
            "h\n",
            "1\n"
          ]
        }
      ]
    },
    {
      "cell_type": "code",
      "source": [
        "a = '990211-1005432'\n",
        "print(a[0:2])  # 0번째부터 2번째 미만 까지 추출\n",
        "print(a[0:10:2]) #step 생략가능"
      ],
      "metadata": {
        "colab": {
          "base_uri": "https://localhost:8080/"
        },
        "id": "oRXAIArqfIS4",
        "outputId": "bfc3ab80-5a44-4153-ae17-5405f9c8bd52"
      },
      "execution_count": null,
      "outputs": [
        {
          "output_type": "stream",
          "name": "stdout",
          "text": [
            "99\n",
            "901-0\n"
          ]
        }
      ]
    },
    {
      "cell_type": "code",
      "source": [
        "#print\n",
        "print('Hello \\'World\\'')\n",
        "print('Hello \\nWorld')\n",
        "print('Hello \\tWorld')\n",
        "print('Hello','World')\n",
        "print('Hello',end=':')\n",
        "print(\"World\")\n"
      ],
      "metadata": {
        "colab": {
          "base_uri": "https://localhost:8080/"
        },
        "id": "Fwh3zL7HgT-_",
        "outputId": "e57aeb1f-2edd-4a58-ef4b-2e1e62a752ca"
      },
      "execution_count": null,
      "outputs": [
        {
          "output_type": "stream",
          "name": "stdout",
          "text": [
            "Hello 'World'\n",
            "Hello \n",
            "World\n",
            "Hello \tWorld\n",
            "Hello World\n",
            "Hello:World\n",
            "what\n"
          ]
        }
      ]
    },
    {
      "cell_type": "code",
      "source": [
        "print('국어','영어','수학')\n",
        "print('국어','영어','수학',sep='/')\n",
        "print('국어','영어','수학',sep=',')\n",
        "print('국어','영어','수학',sep='\\n')\n",
        "print('국어','영어','수학',sep='\\t')"
      ],
      "metadata": {
        "colab": {
          "base_uri": "https://localhost:8080/"
        },
        "id": "zYoHLjzsotOf",
        "outputId": "2acbdda6-fda9-482d-f2ee-25504f97f771"
      },
      "execution_count": null,
      "outputs": [
        {
          "output_type": "stream",
          "name": "stdout",
          "text": [
            "국어 영어 수학\n",
            "국어/영어/수학\n",
            "국어,영어,수학\n",
            "국어\n",
            "영어\n",
            "수학\n",
            "국어\t영어\t수학\n"
          ]
        }
      ]
    },
    {
      "cell_type": "code",
      "source": [
        "a=10\n",
        "print(\"%d을 입력하세요\"%a)   #%d decimal 정수\n",
        "b=3.14\n",
        "print(\"원주율은 %f 입니다\"%b)   #%f float 실수\n",
        "str=\"nothing\"\n",
        "print(\"this is %s\"%str) #%s string 문자열\n",
        "print(\"원주율은 %s 입니다\" %b)\n",
        "print(\"원주율은\", b,\"입니다\")"
      ],
      "metadata": {
        "colab": {
          "base_uri": "https://localhost:8080/"
        },
        "id": "Xbdjn7P8qMnA",
        "outputId": "d7d91d2d-c464-41e1-c15a-7e64c1c51375"
      },
      "execution_count": null,
      "outputs": [
        {
          "output_type": "stream",
          "name": "stdout",
          "text": [
            "10을 입력하세요\n",
            "원주율은 3.140000 입니다\n",
            "this is nothing\n",
            "원주율은 3.14 입니다\n",
            "원주율은 3.14 입니다\n"
          ]
        }
      ]
    },
    {
      "cell_type": "code",
      "source": [
        "print('%d' % 1)\n",
        "print('%5d' % 1) #5자리를 확보해서 오른쪽에 찍음\n",
        "print('%-5d' % 1) #5자리를 확보해서 왼쪽에 찍음"
      ],
      "metadata": {
        "colab": {
          "base_uri": "https://localhost:8080/"
        },
        "id": "xW2iOAhtswSY",
        "outputId": "5c812940-921d-44da-8a39-a1d4e2f919cc"
      },
      "execution_count": null,
      "outputs": [
        {
          "output_type": "stream",
          "name": "stdout",
          "text": [
            "1\n",
            "    1\n",
            "1    \n"
          ]
        }
      ]
    },
    {
      "cell_type": "code",
      "source": [
        "print('원주율은 %f 입니다' % 3.14)\n",
        "print('원주율은 %5.3f 입니다' % 3.14)  #소수점포함 자릿수 확보\n",
        "print('원주율은 %.3f 입니다' % 3.14)\n",
        "print('원주율은 %10.3f 입니다' % 3.14)\n",
        "print('원주율은 %-10.3f 입니다' % 3.14)"
      ],
      "metadata": {
        "colab": {
          "base_uri": "https://localhost:8080/"
        },
        "id": "zrobZcIkuFYX",
        "outputId": "83da166b-8aa2-43e6-f35c-f2aa686d6017"
      },
      "execution_count": null,
      "outputs": [
        {
          "output_type": "stream",
          "name": "stdout",
          "text": [
            "원주율은 3.140000 입니다\n",
            "원주율은 3.140 입니다\n",
            "원주율은 3.140 입니다\n",
            "원주율은      3.140 입니다\n",
            "원주율은 3.140      입니다\n"
          ]
        }
      ]
    },
    {
      "cell_type": "code",
      "source": [
        "name =\"kai\"\n",
        "print(\"내이름은 %s입니다\" % name)\n",
        "\n",
        "height = 185.5\n",
        "print(\"내 키는 %f입니다\"%height)\n",
        "print(\"내 키는 %s입니다\"%height)"
      ],
      "metadata": {
        "colab": {
          "base_uri": "https://localhost:8080/"
        },
        "id": "tmg_xDQmvKpZ",
        "outputId": "110736a3-5f7f-441c-cf0e-b3bb01d2aa64"
      },
      "execution_count": null,
      "outputs": [
        {
          "output_type": "stream",
          "name": "stdout",
          "text": [
            "내이름은 kai입니다\n",
            "내 키는 185.500000입니다\n",
            "내 키는 185.5입니다\n"
          ]
        }
      ]
    },
    {
      "cell_type": "code",
      "source": [
        "#format()\n",
        "zipcode = \"06236\"\n",
        "print('우편번호 : %s' % zipcode)\n",
        "print('우편번호 : {}'.format(zipcode))\n",
        "print(\"내 키는 %s 이고 이름은 %s입니다\"%(height,name))\n",
        "print(\"내 키는 {} 이고 이름은 {}입니다\".format(height,name))\n",
        "\n",
        "print('My name is {}. i\\'m {} years old'.format(name,age))\n",
        "print('My name is {name}. i\\'m {age} years old'.format(name=\"kim\",age=10))\n",
        "\n"
      ],
      "metadata": {
        "colab": {
          "base_uri": "https://localhost:8080/"
        },
        "id": "N_kZ-X2Avq8D",
        "outputId": "8b1d6986-4cb5-44fa-9839-0255102208c3"
      },
      "execution_count": null,
      "outputs": [
        {
          "output_type": "stream",
          "name": "stdout",
          "text": [
            "우편번호 : 06236\n",
            "우편번호 : 06236\n",
            "내 키는 185.5 이고 이름은 kai입니다\n",
            "내 키는 185.5 이고 이름은 kai입니다\n",
            "My name is kai. i'm 25 years old\n",
            "My name is kim. i'm 10 years old\n"
          ]
        }
      ]
    },
    {
      "cell_type": "code",
      "source": [
        "# f-string\n",
        "# 파이썬 3.6 이후 부터 사용 가능\n",
        "\n",
        "who ='you'\n",
        "how = 'happy'\n",
        "print(f'{who} make me {how}')\n"
      ],
      "metadata": {
        "colab": {
          "base_uri": "https://localhost:8080/"
        },
        "id": "SJuxkCWl23hP",
        "outputId": "a04f9f3f-d646-4465-d1a1-c57aa4841ebf"
      },
      "execution_count": null,
      "outputs": [
        {
          "output_type": "stream",
          "name": "stdout",
          "text": [
            "you make me happy\n"
          ]
        }
      ]
    },
    {
      "cell_type": "code",
      "source": [
        "age =25\n",
        "print(f'내년에는 {age+1} 입니다')"
      ],
      "metadata": {
        "colab": {
          "base_uri": "https://localhost:8080/"
        },
        "id": "jnfr_UNX3pkH",
        "outputId": "c2dedfca-5bbd-42ea-adc5-b089d04de768"
      },
      "execution_count": null,
      "outputs": [
        {
          "output_type": "stream",
          "name": "stdout",
          "text": [
            "내년에는 26 입니다\n"
          ]
        }
      ]
    },
    {
      "cell_type": "code",
      "source": [
        "############\n",
        "# 입력 input()\n",
        "############\n",
        "\n",
        "n=input()\n",
        "print(f'당신이 입력한 내용은 {n}입니다')\n",
        "n=input()\n",
        "print(f'당신이 입력한 내용은 {n}입니다')\n"
      ],
      "metadata": {
        "colab": {
          "base_uri": "https://localhost:8080/"
        },
        "id": "-h_2UXU64aq1",
        "outputId": "1d6d4b6f-6f5c-4f4e-a407-f592782aebd4"
      },
      "execution_count": 152,
      "outputs": [
        {
          "output_type": "stream",
          "name": "stdout",
          "text": [
            "10\n",
            "당신이 입력한 내용은 10입니다\n",
            "10\n",
            "당신이 입력한 내용은 10입니다\n"
          ]
        }
      ]
    },
    {
      "cell_type": "code",
      "source": [
        "print(\"이름을 입력하세요?\")\n",
        "n=input()\n",
        "print(\"나이를 입력하세요?\")\n",
        "a=input()\n",
        "print(f\"당신의 이름은 {n}이고 나이는 {a}입니다\")"
      ],
      "metadata": {
        "colab": {
          "base_uri": "https://localhost:8080/"
        },
        "id": "4WRELgMo5gQh",
        "outputId": "d96ed431-c8cd-4349-867c-f526794f70ce"
      },
      "execution_count": 153,
      "outputs": [
        {
          "output_type": "stream",
          "name": "stdout",
          "text": [
            "이름을 입력하세요?\n",
            "asdf\n",
            "나이를 입력하세요?\n",
            "10\n",
            "당신의 이름은 asdf이고 나이는 10입니다\n"
          ]
        }
      ]
    },
    {
      "cell_type": "code",
      "source": [
        "print(\"이름을 입력하세요?\")\n",
        "n=input()\n",
        "print(\"나이를 입력하세요?\")\n",
        "a=input()\n",
        "print(\"당신의 이름은 %s이고 나이는 %s입니다\" %(n,a))"
      ],
      "metadata": {
        "colab": {
          "base_uri": "https://localhost:8080/"
        },
        "id": "MF8xfqkq6L8U",
        "outputId": "171d1018-79c3-45ea-b73b-80f8aab5f6ab"
      },
      "execution_count": 154,
      "outputs": [
        {
          "output_type": "stream",
          "name": "stdout",
          "text": [
            "이름을 입력하세요?\n",
            "wqo\n",
            "나이를 입력하세요?\n",
            "21\n",
            "당신의 이름은 wqo이고 나이는 21입니다\n"
          ]
        }
      ]
    },
    {
      "cell_type": "code",
      "source": [
        "print(\"이름을 입력하세요?\")\n",
        "n=input()\n",
        "print(\"나이를 입력하세요?\")\n",
        "a=input()\n",
        "print(\"당신의 이름은 {}이고 나이는 {}입니다\" .format(n,a))"
      ],
      "metadata": {
        "colab": {
          "base_uri": "https://localhost:8080/"
        },
        "id": "tYUe98s86iNS",
        "outputId": "a7250dc4-2d37-479b-e024-196600ffb978"
      },
      "execution_count": null,
      "outputs": [
        {
          "output_type": "stream",
          "name": "stdout",
          "text": [
            "이름을 입력하세요?\n",
            "dg\n",
            "나이를 입력하세요?\n",
            "10\n",
            "당신의 이름은 dg이고 나이는 10입니다\n"
          ]
        }
      ]
    },
    {
      "cell_type": "code",
      "source": [
        "n=input(\"이름을 입력하세요?\")\n",
        "a=int(input('나이을 입력하세요?'))\n",
        "#기본1\n",
        "print(\"당신의 이름은\",n,\"이고 나이는\",a,\"입니다\")\n",
        "#f-string\n",
        "print(f\"당신의 이름은 {n}이고 나이는 {a}입니다\")\n",
        "#format()\n",
        "print(\"당신의 이름은 {}이고 나이는 {}입니다\".format(n,a))\n",
        "#%연산자\n",
        "print(\"당신의 이름은 %s이고 나이는 %d입니다\" %(n,a))"
      ],
      "metadata": {
        "colab": {
          "base_uri": "https://localhost:8080/"
        },
        "id": "_YJnrOC16xyd",
        "outputId": "cfcd3ddb-09be-4758-8a26-5bb75408e58d"
      },
      "execution_count": null,
      "outputs": [
        {
          "output_type": "stream",
          "name": "stdout",
          "text": [
            "이름을 입력하세요?HY\n",
            "나이을 입력하세요?10\n",
            "당신의 이름은 HY 이고 나이는 10 입니다\n",
            "당신의 이름은 HY이고 나이는 10입니다\n",
            "당신의 이름은 HY이고 나이는 10입니다\n",
            "당신의 이름은 HY이고 나이는 10입니다\n"
          ]
        }
      ]
    },
    {
      "cell_type": "code",
      "source": [
        "\n",
        "month = int(input('할부 개월 입력:'))\n",
        "total = 50000\n",
        "a=round(total/month,2)  #반올림 ,2까지\n",
        "#기본\n",
        "print(month,\"개월동안 매달 내는 금액은\",a,\"입니다\" )\n",
        "#f-string\n",
        "print(f\"{month}개월동안 매달 내는 금액은 {a}입니다\" )\n",
        "#format()\n",
        "print(\"{}개월동안 매달 내는 금액은 {}입니다\".format(month,a) )\n",
        "#%연산자\n",
        "print(\"%s개월동안 매달 내는 금액은 %s입니다\"%(month,a) )"
      ],
      "metadata": {
        "colab": {
          "base_uri": "https://localhost:8080/"
        },
        "id": "mkno7_w791X1",
        "outputId": "75542ff9-9f4c-4751-c5ec-ca185c9085fc"
      },
      "execution_count": null,
      "outputs": [
        {
          "output_type": "stream",
          "name": "stdout",
          "text": [
            "할부 개월 입력:3\n",
            "3 개월동안 매달 내는 금액은 16666.67 입니다\n",
            "3개월동안 매달 내는 금액은 16666.67입니다\n",
            "3개월동안 매달 내는 금액은 16666.67입니다\n",
            "3개월동안 매달 내는 금액은 16666.67입니다\n"
          ]
        }
      ]
    },
    {
      "cell_type": "code",
      "source": [
        "num=float(input('실수1 :'))\n",
        "num2=float(input('실수2 :'))\n",
        "print(f'{num}과 {num2}의 합계는 {num+num2}')"
      ],
      "metadata": {
        "colab": {
          "base_uri": "https://localhost:8080/"
        },
        "id": "mu1wbmpRFGxl",
        "outputId": "10ae9b86-6261-4ef9-db35-20f8b18e1edf"
      },
      "execution_count": null,
      "outputs": [
        {
          "output_type": "stream",
          "name": "stdout",
          "text": [
            "실수1 :2\n",
            "실수2 :3\n",
            "2.0과 3.0의 합계는 5.0\n"
          ]
        }
      ]
    }
  ]
}