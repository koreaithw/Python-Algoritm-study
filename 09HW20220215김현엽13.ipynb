{
 "cells": [
  {
   "cell_type": "code",
   "execution_count": null,
   "id": "40c72de1",
   "metadata": {},
   "outputs": [],
   "source": [
    "# 496\n",
    "x = ['Today', 'Sunday', 'Monday'] \n",
    "y = [4, 6, 8] \n",
    "print(y + x) \n",
    "#b"
   ]
  },
  {
   "cell_type": "code",
   "execution_count": null,
   "id": "5f7ca79e",
   "metadata": {},
   "outputs": [],
   "source": [
    "# 497\n",
    "x = 'Monday' \n",
    "print('Mon' in x) \n",
    "#c"
   ]
  },
  {
   "cell_type": "code",
   "execution_count": null,
   "id": "852d6104",
   "metadata": {},
   "outputs": [],
   "source": [
    "# 498\n",
    "x = 'Monday' \n",
    "print('Day' not in x) \n",
    "#c"
   ]
  },
  {
   "cell_type": "code",
   "execution_count": null,
   "id": "554d0feb",
   "metadata": {},
   "outputs": [],
   "source": [
    "# 499\n",
    "x = ['hot', '100', True] \n",
    "weather = x[0] \n",
    "temperature = x[1] \n",
    "humid = x[2] \n",
    "print(weather, temperature, humid) \n",
    "#b"
   ]
  },
  {
   "cell_type": "code",
   "execution_count": null,
   "id": "b77a5163",
   "metadata": {},
   "outputs": [],
   "source": [
    "# 500\n",
    "x = ['hot', '100', True] \n",
    "weather, temperature, humid = x \n",
    "print(weather, temperature, humid) \n",
    "#b"
   ]
  },
  {
   "cell_type": "code",
   "execution_count": null,
   "id": "66f9bd3f",
   "metadata": {},
   "outputs": [],
   "source": [
    "# 501\n",
    "x = ['hot', '100', True] \n",
    "weather, humid = x \n",
    "print(weather, humid)\n",
    "#a"
   ]
  },
  {
   "cell_type": "code",
   "execution_count": null,
   "id": "9ea989ab",
   "metadata": {},
   "outputs": [],
   "source": [
    "# 502\n",
    "x = ['hot', '100', True] \n",
    "x.remove('100') \n",
    "weather, humid = x \n",
    "print(weather, humid) \n",
    "#c"
   ]
  },
  {
   "cell_type": "code",
   "execution_count": null,
   "id": "9b9eb27a",
   "metadata": {},
   "outputs": [],
   "source": [
    "# 503\n",
    "x = ['a', 'b', 'c', 'A', 'B', 'C'] \n",
    "x.sort()\n",
    "print(x) \n",
    "#d"
   ]
  },
  {
   "cell_type": "code",
   "execution_count": null,
   "id": "fb4195fb",
   "metadata": {},
   "outputs": [],
   "source": [
    "# 504\n",
    "x = ['a', 'b', 'c', 'A', 'B', 'C'] \n",
    "x.sort(key=str.lower) \n",
    "print(x) \n",
    "#c"
   ]
  },
  {
   "cell_type": "code",
   "execution_count": null,
   "id": "ec0bf7ab",
   "metadata": {},
   "outputs": [],
   "source": [
    "# 505\n",
    "x = ['a', 'b', 'c', 'A', 'B', 'C'] \n",
    "x.sort(key=str.swapcase) \n",
    "print(x) \n",
    "#a"
   ]
  },
  {
   "cell_type": "code",
   "execution_count": null,
   "id": "055f83c9",
   "metadata": {},
   "outputs": [],
   "source": [
    "# 506\n",
    "x = ['a', 'b', 1, 2, 'A', 'B'] \n",
    "x.sort() \n",
    "print(x) \n",
    "#a"
   ]
  },
  {
   "cell_type": "code",
   "execution_count": null,
   "id": "7c78a6d6",
   "metadata": {},
   "outputs": [],
   "source": [
    "# 507\n",
    "import random \n",
    "x = ['Monday', 'Tuesday', 'Wednesday', 'Thursday', 'Friday', 'Saturday', 'Sunday']\n",
    "print(x[random.randint(0, len(x) - 1)]) \n",
    "#b"
   ]
  },
  {
   "cell_type": "code",
   "execution_count": null,
   "id": "52eefc4b",
   "metadata": {},
   "outputs": [],
   "source": [
    "# 508\n",
    "x = 'Today is a nice day' + \\ ' I will go for a walk today' \n",
    "print(x) \n",
    "#a"
   ]
  },
  {
   "cell_type": "code",
   "execution_count": null,
   "id": "df7d4777",
   "metadata": {},
   "outputs": [],
   "source": [
    "# 509\n",
    "x = 'Today is a nice day' \n",
    "x[9] = 'not ' \n",
    "print(x) \n",
    "#a"
   ]
  },
  {
   "cell_type": "code",
   "execution_count": null,
   "id": "868e815f",
   "metadata": {},
   "outputs": [],
   "source": [
    "# 510\n",
    "x = 'Today is a nice day' \n",
    "y = x[:9] + 'not ' + x[9:]\n",
    "print(y) \n",
    "#d"
   ]
  },
  {
   "cell_type": "code",
   "execution_count": null,
   "id": "56e5ed44",
   "metadata": {},
   "outputs": [],
   "source": [
    "# 511\n",
    "x = 'Today is a nice day' \n",
    "y = x[:9] + 'not ' + x[9:]\n",
    "print(x)\n",
    "#a"
   ]
  },
  {
   "cell_type": "code",
   "execution_count": null,
   "id": "12fff01b",
   "metadata": {},
   "outputs": [],
   "source": [
    "# 512\n",
    "x = 'Today is not a nice day' \n",
    "x = 'Today is a nice day' \n",
    "print(x) \n",
    "#b"
   ]
  },
  {
   "cell_type": "code",
   "execution_count": null,
   "id": "de9711dc",
   "metadata": {},
   "outputs": [],
   "source": [
    "# 513\n",
    "x = ('Today', 'nice', 'day') \n",
    "x[1] = 'not' \n",
    "print(x) \n",
    "#a"
   ]
  },
  {
   "cell_type": "code",
   "execution_count": 44,
   "id": "4bf68071",
   "metadata": {},
   "outputs": [
    {
     "name": "stdout",
     "output_type": "stream",
     "text": [
      "<class 'str'>\n"
     ]
    }
   ],
   "source": [
    "# 514\n",
    "x = ('Today')\n",
    "print(x) \n",
    "#b"
   ]
  },
  {
   "cell_type": "code",
   "execution_count": null,
   "id": "ec9e7ed9",
   "metadata": {},
   "outputs": [],
   "source": [
    "# 515\n",
    "x = ('Today',) \n",
    "print(x) \n",
    "#c"
   ]
  },
  {
   "cell_type": "code",
   "execution_count": null,
   "id": "82d1d5bd",
   "metadata": {},
   "outputs": [],
   "source": [
    "Algorithm Homework(#28)"
   ]
  },
  {
   "cell_type": "code",
   "execution_count": 52,
   "id": "9cc8d402",
   "metadata": {},
   "outputs": [
    {
     "name": "stdout",
     "output_type": "stream",
     "text": [
      "제1각을 입력하세요60\n",
      "제2각을 입력하세요60\n",
      "제3각을 입력하세요60\n",
      "예각 삼각형\n"
     ]
    }
   ],
   "source": [
    "def triangle(x,y,z):\n",
    "    s=x+y+z\n",
    "    if s!=180:\n",
    "        print(\"삼각형이 아니다.\")\n",
    "    elif s==180:\n",
    "        if x<90 and y<90 and z<90:\n",
    "            print(\"예각 삼각형\")\n",
    "        elif x >90 or y>90 or z>90:\n",
    "            print(\"둔각 삼각형\")\n",
    "        elif x==0 or y==0 or z==0:\n",
    "            print(\"삼각형이 아니다\")\n",
    "        elif x==90 or y==90 or z==90:\n",
    "            print(\"직각 삼각형\")\n",
    "            \n",
    "x=int(input('제1각을 입력하세요'))\n",
    "y=int(input('제2각을 입력하세요'))\n",
    "z=int(input('제3각을 입력하세요'))\n",
    "\n",
    "try:\n",
    "    triangle(x,y,z)\n",
    "except:\n",
    "    print(\"삼각형이 아니다\")\n",
    "    "
   ]
  }
 ],
 "metadata": {
  "kernelspec": {
   "display_name": "Python 3 (ipykernel)",
   "language": "python",
   "name": "python3"
  },
  "language_info": {
   "codemirror_mode": {
    "name": "ipython",
    "version": 3
   },
   "file_extension": ".py",
   "mimetype": "text/x-python",
   "name": "python",
   "nbconvert_exporter": "python",
   "pygments_lexer": "ipython3",
   "version": "3.9.7"
  }
 },
 "nbformat": 4,
 "nbformat_minor": 5
}
