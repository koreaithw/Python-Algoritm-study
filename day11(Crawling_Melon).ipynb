{
 "cells": [
  {
   "cell_type": "code",
   "execution_count": 4,
   "id": "ab32c0fa",
   "metadata": {},
   "outputs": [],
   "source": [
    "# pip install selenium\n",
    "from selenium import webdriver  #파이썬으로 웹 브라우저 컨트롤\n",
    "\n",
    "from bs4 import BeautifulSoup as bs # 분석을 용이하게 정제하기 위해 BeautifulSoup\n",
    "\n"
   ]
  },
  {
   "cell_type": "code",
   "execution_count": 117,
   "id": "64a279bb",
   "metadata": {},
   "outputs": [
    {
     "name": "stderr",
     "output_type": "stream",
     "text": [
      "C:\\Users\\Ethan_SY\\AppData\\Local\\Temp/ipykernel_16660/3873821663.py:1: DeprecationWarning: executable_path has been deprecated, please pass in a Service object\n",
      "  driver = webdriver.Chrome('chromedriver.exe')\n"
     ]
    }
   ],
   "source": [
    "driver = webdriver.Chrome('chromedriver.exe')\n",
    "driver.get('https://www.melon.com/chart/index.htm')"
   ]
  },
  {
   "cell_type": "code",
   "execution_count": 6,
   "id": "8d0e341d",
   "metadata": {},
   "outputs": [],
   "source": [
    "html = driver.page_source\n",
    "soup = bs(html)"
   ]
  },
  {
   "cell_type": "code",
   "execution_count": 11,
   "id": "efd39523",
   "metadata": {
    "scrolled": true
   },
   "outputs": [
    {
     "name": "stdout",
     "output_type": "stream",
     "text": [
      "50\n",
      "50\n"
     ]
    }
   ],
   "source": [
    "print(len(soup.select('tr.lst50')))\n",
    "print(len(soup.select('tr.lst100')))"
   ]
  },
  {
   "cell_type": "code",
   "execution_count": 14,
   "id": "601f386d",
   "metadata": {
    "scrolled": true
   },
   "outputs": [
    {
     "data": {
      "text/plain": [
       "<tr class=\"lst50\" data-song-no=\"34061322\" id=\"lst50\">\n",
       "<td><div class=\"wrap t_right\"><input class=\"input_check\" name=\"input_check\" title=\"사랑은 늘 도망가 곡 선택\" type=\"checkbox\" value=\"34061322\"/></div></td>\n",
       "<td><div class=\"wrap t_center\"><span class=\"rank\">1</span><span class=\"none\">위</span></div></td>\n",
       "<!-- 차트순위 추가 -->\n",
       "<td><div class=\"wrap\">\n",
       "<span class=\"rank_wrap\" title=\"순위 동일\">\n",
       "<span class=\"bullet_icons rank_static\"><span class=\"none\">순위 동일</span></span>\n",
       "<span class=\"none\">0</span>\n",
       "</span>\n",
       "</div></td>\n",
       "<td><div class=\"wrap\">\n",
       "<a class=\"image_typeAll\" href=\"javascript:melon.link.goAlbumDetail('10735654');\" title=\"신사와 아가씨 OST Part.2\">\n",
       "<img alt=\"신사와 아가씨 OST Part.2 - 페이지 이동\" height=\"60\" onerror=\"WEBPOCIMG.defaultAlbumImg(this);\" src=\"https://cdnimg.melon.co.kr/cm2/album/images/107/35/654/10735654_20211008114339_500.jpg/melon/resize/120/quality/80/optimize\" width=\"60\"/>\n",
       "<span class=\"bg_album_frame\"></span>\n",
       "</a>\n",
       "</div></td>\n",
       "<td><div class=\"wrap\">\n",
       "<a class=\"btn button_icons type03 song_info\" href=\"javascript:melon.link.goSongDetail('34061322');\" title=\"사랑은 늘 도망가 곡정보\"><span class=\"none\">곡정보</span></a>\n",
       "</div></td>\n",
       "<td><div class=\"wrap\">\n",
       "<div class=\"wrap_song_info\">\n",
       "<div class=\"ellipsis rank01\"><span>\n",
       "<a href=\"javascript:melon.play.playSong('1000002721',34061322);\" title=\"사랑은 늘 도망가 재생\">사랑은 늘 도망가</a>\n",
       "</span></div><br/>\n",
       "<div class=\"ellipsis rank02\">\n",
       "<a href=\"javascript:melon.link.goArtistDetail('994944');\" title=\"임영웅 - 페이지 이동\">임영웅</a><span class=\"checkEllipsis\" style=\"display: none;\"><a href=\"javascript:melon.link.goArtistDetail('994944');\" title=\"임영웅 - 페이지 이동\">임영웅</a></span>\n",
       "</div>\n",
       "</div>\n",
       "</div></td>\n",
       "<td><div class=\"wrap\">\n",
       "<div class=\"wrap_song_info\">\n",
       "<div class=\"ellipsis rank03\">\n",
       "<a href=\"javascript:melon.link.goAlbumDetail('10735654');\" title=\"신사와 아가씨 OST Part.2 - 페이지 이동\">신사와 아가씨 OST Part.2</a>\n",
       "</div>\n",
       "</div>\n",
       "</div></td>\n",
       "<td><div class=\"wrap\">\n",
       "<button class=\"button_etc like\" data-song-menuid=\"1000002721\" data-song-no=\"34061322\" title=\"사랑은 늘 도망가 좋아요\" type=\"button\"><span class=\"odd_span\">좋아요</span>\n",
       "<span class=\"cnt\">\n",
       "<span class=\"none\">총건수</span>\n",
       "127,833</span></button>\n",
       "</div></td>\n",
       "<td><div class=\"wrap t_center\">\n",
       "<button class=\"button_icons play\" onclick=\"melon.play.playSong('1000002721',34061322);\" title=\"듣기\" type=\"button\"><span class=\"none\">듣기</span></button>\n",
       "</div></td>\n",
       "<td><div class=\"wrap t_center\">\n",
       "<button class=\"button_icons scrap\" onclick=\"melon.play.addPlayList('34061322');\" title=\"담기\" type=\"button\"><span class=\"none\">담기</span></button>\n",
       "</div></td>\n",
       "<td><div class=\"wrap t_center\">\n",
       "<button class=\"button_icons download\" onclick=\"melon.buy.goBuyProduct('frm', '34061322', '3C0001', '','0', '1000002721');\" title=\"다운로드\" type=\"button\"><span class=\"none\">다운로드</span></button>\n",
       "</div></td>\n",
       "<td><div class=\"wrap t_center\">\n",
       "<button class=\"button_icons video\" onclick=\"melon.link.goMvDetail('1000002721', '34061322','song');\" title=\"뮤직비디오\" type=\"button\"><span class=\"none\">뮤직비디오</span></button>\n",
       "</div></td>\n",
       "</tr>"
      ]
     },
     "execution_count": 14,
     "metadata": {},
     "output_type": "execute_result"
    }
   ],
   "source": [
    "soup.select('tr.lst50')\n"
   ]
  },
  {
   "cell_type": "code",
   "execution_count": 91,
   "id": "b7560df2",
   "metadata": {
    "scrolled": true
   },
   "outputs": [
    {
     "data": {
      "text/plain": [
       "<tr class=\"lst100\" data-song-no=\"33239419\" id=\"lst100\">\n",
       "<td><div class=\"wrap t_right\"><input class=\"input_check\" name=\"input_check\" title=\"Celebrity 곡 선택\" type=\"checkbox\" value=\"33239419\"/></div></td>\n",
       "<td><div class=\"wrap t_center\"><span class=\"rank\">51</span><span class=\"none\">위</span></div></td>\n",
       "<!-- 차트순위 추가 -->\n",
       "<td><div class=\"wrap\">\n",
       "<span class=\"rank_wrap\" title=\"순위 동일\">\n",
       "<span class=\"bullet_icons rank_static\"><span class=\"none\">순위 동일</span></span>\n",
       "<span class=\"none\">0</span>\n",
       "</span>\n",
       "</div></td>\n",
       "<td><div class=\"wrap\">\n",
       "<a class=\"image_typeAll\" href=\"javascript:melon.link.goAlbumDetail('10554246');\" title=\"IU 5th Album 'LILAC'\">\n",
       "<img alt=\"IU 5th Album 'LILAC' - 페이지 이동\" height=\"60\" onerror=\"WEBPOCIMG.defaultAlbumImg(this);\" src=\"https://cdnimg.melon.co.kr/cm2/album/images/105/54/246/10554246_20210325161233_500.jpg/melon/resize/120/quality/80/optimize\" width=\"60\"/>\n",
       "<span class=\"bg_album_frame\"></span>\n",
       "</a>\n",
       "</div></td>\n",
       "<td><div class=\"wrap\">\n",
       "<a class=\"btn button_icons type03 song_info\" href=\"javascript:melon.link.goSongDetail('33239419');\" title=\"Celebrity 곡정보\"><span class=\"none\">곡정보</span></a>\n",
       "</div></td>\n",
       "<td><div class=\"wrap\">\n",
       "<div class=\"wrap_song_info\">\n",
       "<div class=\"ellipsis rank01\"><span>\n",
       "<a href=\"javascript:melon.play.playSong('1000002721',33239419);\" title=\"Celebrity 재생\">Celebrity</a>\n",
       "</span></div><br/>\n",
       "<div class=\"ellipsis rank02\">\n",
       "<a href=\"javascript:melon.link.goArtistDetail('261143');\" title=\"아이유 - 페이지 이동\">아이유</a><span class=\"checkEllipsis\" style=\"display: none;\"><a href=\"javascript:melon.link.goArtistDetail('261143');\" title=\"아이유 - 페이지 이동\">아이유</a></span>\n",
       "</div>\n",
       "</div>\n",
       "</div></td>\n",
       "<td><div class=\"wrap\">\n",
       "<div class=\"wrap_song_info\">\n",
       "<div class=\"ellipsis rank03\">\n",
       "<a href=\"javascript:melon.link.goAlbumDetail('10554246');\" title=\"IU 5th Album 'LILAC' - 페이지 이동\">IU 5th Album 'LILAC'</a>\n",
       "</div>\n",
       "</div>\n",
       "</div></td>\n",
       "<td><div class=\"wrap\">\n",
       "<button class=\"button_etc like\" data-song-menuid=\"1000002721\" data-song-no=\"33239419\" title=\"Celebrity 좋아요\" type=\"button\"><span class=\"odd_span\">좋아요</span>\n",
       "<span class=\"cnt\">\n",
       "<span class=\"none\">총건수</span>\n",
       "312,923</span></button>\n",
       "</div></td>\n",
       "<td><div class=\"wrap t_center\">\n",
       "<button class=\"button_icons play\" onclick=\"melon.play.playSong('1000002721',33239419);\" title=\"듣기\" type=\"button\"><span class=\"none\">듣기</span></button>\n",
       "</div></td>\n",
       "<td><div class=\"wrap t_center\">\n",
       "<button class=\"button_icons scrap\" onclick=\"melon.play.addPlayList('33239419');\" title=\"담기\" type=\"button\"><span class=\"none\">담기</span></button>\n",
       "</div></td>\n",
       "<td><div class=\"wrap t_center\">\n",
       "<button class=\"button_icons download\" onclick=\"melon.buy.goBuyProduct('frm', '33239419', '3C0001', '','0', '1000002721');\" title=\"다운로드\" type=\"button\"><span class=\"none\">다운로드</span></button>\n",
       "</div></td>\n",
       "<td><div class=\"wrap t_center\">\n",
       "<button class=\"button_icons video\" onclick=\"melon.link.goMvDetail('1000002721', '33239419','song');\" title=\"뮤직비디오\" type=\"button\"><span class=\"none\">뮤직비디오</span></button>\n",
       "</div></td>\n",
       "</tr>"
      ]
     },
     "execution_count": 91,
     "metadata": {},
     "output_type": "execute_result"
    }
   ],
   "source": [
    "songs=soup.select('tr.lst50')\n",
    "songs2=soup.select('tr.lst100')\n",
    "# songs[0] # 1위만 출력\n",
    "songs2[0]"
   ]
  },
  {
   "cell_type": "code",
   "execution_count": 106,
   "id": "d9745c55",
   "metadata": {
    "scrolled": true
   },
   "outputs": [
    {
     "name": "stdout",
     "output_type": "stream",
     "text": [
      "임영웅 --- 사랑은 늘 도망가\n",
      "김민석 (멜로망스) --- 취중고백\n",
      "태연 (TAEYEON) --- INVU\n",
      "GOT the beat --- Step Back\n",
      "IVE (아이브) --- ELEVEN\n",
      "탑현 --- 호랑수월가\n",
      "sokodomo --- 회전목마 (Feat. Zion.T, 원슈타인) (Prod. Slom)\n",
      "YENA (최예나) --- SMILEY (Feat. BIBI)\n",
      "BE'O (비오) --- 리무진 (Feat. MINO) (Prod. GRAY)\n",
      "BE'O (비오) --- Counting Stars (Feat. Beenzino)\n",
      "이무진 --- 눈이 오잖아(Feat.헤이즈)\n",
      "태연 (TAEYEON) --- Can't Control Myself\n",
      "경서예지 --- 다정히 내 이름을 부르면\n",
      "aespa --- Dreams Come True\n",
      "임영웅 --- 이제 나만 믿어요\n",
      "케이시 (Kassy) --- 언제나 사랑해\n",
      "아이유 --- 겨울잠\n",
      "The Kid LAROI --- STAY\n",
      "이무진 --- 신호등\n",
      "아이유 --- strawberry moon\n",
      "aespa --- Next Level\n",
      "임영웅 --- 다시 사랑한다면 (김필 Ver.)\n",
      "임영웅 --- 그대라는 사치\n",
      "V --- Christmas Tree\n",
      "임영웅 --- 별빛 같은 나의 사랑아\n",
      "베이식 (Basick) --- 만남은 쉽고 이별은 어려워 (Feat. Leellamarz) (Prod. TOIL)\n",
      "aespa --- Savage\n",
      "노을 --- 잊을 수 있을까\n",
      "방탄소년단 --- Butter\n",
      "GAYLE --- abcdefu\n",
      "임영웅 --- 잊었니\n",
      "아이유 --- 드라마\n",
      "임영웅 --- HERO\n",
      "방탄소년단 --- Dynamite\n",
      "임영웅 --- 끝사랑\n",
      "먼데이 키즈 (Monday Kiz) --- 너 아니면 안돼\n",
      "방탄소년단 --- Permission to Dance\n",
      "주시크 (Joosiq) --- 너를 생각해\n",
      "10CM --- 서랍\n",
      "먼데이 키즈 (Monday Kiz) --- 흰눈\n",
      "이승윤 --- 언덕나무\n",
      "비비 (BIBI) --- 우리가 헤어져야 했던 이유\n",
      "Coldplay --- My Universe\n",
      "에픽하이 (EPIK HIGH) --- 그래서 그래 (Feat. 윤하)\n",
      "디핵 (D-Hack) --- OHAYO MY NIGHT\n",
      "임영웅 --- Bk Love\n",
      "BE'O (비오) --- 문득\n",
      "태연 (TAEYEON) --- Weekend\n",
      "MSG워너비(M.O.M) --- 바라만 본다\n",
      "BE'O (비오) --- 네가 없는 밤 (Feat. ASH ISLAND) (Prod. GRAY)\n",
      "아이유 --- Celebrity\n",
      "아이유 --- 라일락\n",
      "태연 (TAEYEON) --- 그런 밤 (Some Nights)\n",
      "AKMU (악뮤) --- 낙하 (with 아이유)\n",
      "Mudd the student --- 불협화음 (Feat. AKMU) (Prod. GRAY)\n",
      "경서 --- 밤하늘의 별을(2020)\n",
      "이예준 --- 사랑이 아니었다고 말하지 마요\n",
      "휘인 (Whee In) --- 너, 너 (N번째 연애 X 휘인 (Whee In))\n",
      "호미들 --- 사이렌 Remix (Feat. UNEDUCATED KID, Paul Blanco)\n",
      "Ed Sheeran --- Bad Habits\n",
      "아넌딜라이트(Anandelight) --- 쉬어 (Feat. MINO) (Prod. GRAY)\n",
      "헤이즈 (Heize) --- 헤픈 우연\n",
      "쿠기 (Coogie) --- Good Night (Feat. BE'O)\n",
      "개코 --- Wake Up (Prod. 코드 쿤스트)\n",
      "멜로망스 --- 그게 더 편할 것 같아 (N번째 연애 X 멜로망스)\n",
      "마크툽 (MAKTUB) --- 찰나가 영원이 될 때 (The Eternal Moment)\n",
      "AKMU (악뮤) --- 어떻게 이별까지 사랑하겠어, 널 사랑하는 거지\n",
      "폴킴 --- 모든 날, 모든 순간 (Every day, Every Moment)\n",
      "임영웅 --- 계단말고 엘리베이터\n",
      "멜로망스 --- 고백\n",
      "Apink (에이핑크) --- Dilemma\n",
      "Justin Bieber --- Off My Face\n",
      "아이유 --- 내 손을 잡아\n",
      "성시경 --- 너의 모든 순간\n",
      "방탄소년단 --- 봄날\n",
      "프로미스나인 --- DM\n",
      "선예 --- 대낮에 한 이별\n",
      "정동하 --- 추억은 만남보다 이별에 남아\n",
      "정국 --- Stay Alive (Prod. SUGA of BTS)\n",
      "김나영 --- 이별후회\n",
      "방탄소년단 --- 작은 것들을 위한 시 (Boy With Luv) (Feat. Halsey)\n",
      "브레이브걸스 --- 롤린 (Rollin')\n",
      "아이유 --- Blueming\n",
      "황인욱 --- 강변북로\n",
      "태연 (TAEYEON) --- Set Myself On Fire\n",
      "샘김 (Sam Kim) --- 여름비\n",
      "태연 (TAEYEON) --- 어른아이 (Toddler)\n",
      "오마이걸 (OH MY GIRL) --- Dun Dun Dance\n",
      "송이한 --- 밝게 빛나는 별이 되어 비춰줄게\n",
      "마크툽 (MAKTUB) --- 오늘도 빛나는 너에게 (To You My Light) (Feat.이라온)\n",
      "Jawsh 685 --- Savage Love (Laxed - Siren Beat) (BTS Remix)\n",
      "전상근 --- 안녕 우린 헤어져야만 해\n",
      "산들 --- 취기를 빌려 (취향저격 그녀 X 산들)\n",
      "ASH ISLAND --- Because\n",
      "케이윌 --- 시간을 거슬러 (낮에 뜨는 달 X 케이윌)\n",
      "헤이즈 (Heize) --- 비가 오는 날엔 (2021)\n",
      "이예준 --- 그날에 나는 맘이 편했을까\n",
      "방탄소년단 --- Life Goes On\n",
      "태연 (TAEYEON) --- Timeless\n",
      "태연 (TAEYEON) --- Siren\n"
     ]
    }
   ],
   "source": [
    "for i in range(50):\n",
    "    title = songs[i].select(\"div.ellipsis.rank01 > span > a\")[0].text\n",
    "    artist = songs[i].select(\"div.ellipsis.rank02 > span > a\")[0].text\n",
    "    print(artist,\"---\",title)\n",
    "for i in range(50):\n",
    "    title = songs2[i].select(\"div.ellipsis.rank01 > span > a\")[0].text\n",
    "    artist = songs2[i].select(\"div.ellipsis.rank02 > span > a\")[0].text\n",
    "    print(artist,\"---\",title)"
   ]
  },
  {
   "cell_type": "code",
   "execution_count": 113,
   "id": "3dfcc69f",
   "metadata": {
    "scrolled": true
   },
   "outputs": [
    {
     "name": "stdout",
     "output_type": "stream",
     "text": [
      "[[1, '임영웅', '사랑은 늘 도망가'], [2, '김민석 (멜로망스)', '취중고백'], [3, '태연 (TAEYEON)', 'INVU'], [4, 'GOT the beat', 'Step Back'], [5, 'IVE (아이브)', 'ELEVEN'], [6, '탑현', '호랑수월가'], [7, 'sokodomo', '회전목마 (Feat. Zion.T, 원슈타인) (Prod. Slom)'], [8, 'YENA (최예나)', 'SMILEY (Feat. BIBI)'], [9, \"BE'O (비오)\", '리무진 (Feat. MINO) (Prod. GRAY)'], [10, \"BE'O (비오)\", 'Counting Stars (Feat. Beenzino)'], [11, '이무진', '눈이 오잖아(Feat.헤이즈)'], [12, '태연 (TAEYEON)', \"Can't Control Myself\"], [13, '경서예지', '다정히 내 이름을 부르면'], [14, 'aespa', 'Dreams Come True'], [15, '임영웅', '이제 나만 믿어요'], [16, '케이시 (Kassy)', '언제나 사랑해'], [17, '아이유', '겨울잠'], [18, 'The Kid LAROI', 'STAY'], [19, '이무진', '신호등'], [20, '아이유', 'strawberry moon'], [21, 'aespa', 'Next Level'], [22, '임영웅', '다시 사랑한다면 (김필 Ver.)'], [23, '임영웅', '그대라는 사치'], [24, 'V', 'Christmas Tree'], [25, '임영웅', '별빛 같은 나의 사랑아'], [26, '베이식 (Basick)', '만남은 쉽고 이별은 어려워 (Feat. Leellamarz) (Prod. TOIL)'], [27, 'aespa', 'Savage'], [28, '노을', '잊을 수 있을까'], [29, '방탄소년단', 'Butter'], [30, 'GAYLE', 'abcdefu'], [31, '임영웅', '잊었니'], [32, '아이유', '드라마'], [33, '임영웅', 'HERO'], [34, '방탄소년단', 'Dynamite'], [35, '임영웅', '끝사랑'], [36, '먼데이 키즈 (Monday Kiz)', '너 아니면 안돼'], [37, '방탄소년단', 'Permission to Dance'], [38, '주시크 (Joosiq)', '너를 생각해'], [39, '10CM', '서랍'], [40, '먼데이 키즈 (Monday Kiz)', '흰눈'], [41, '이승윤', '언덕나무'], [42, '비비 (BIBI)', '우리가 헤어져야 했던 이유'], [43, 'Coldplay', 'My Universe'], [44, '에픽하이 (EPIK HIGH)', '그래서 그래 (Feat. 윤하)'], [45, '디핵 (D-Hack)', 'OHAYO MY NIGHT'], [46, '임영웅', 'Bk Love'], [47, \"BE'O (비오)\", '문득'], [48, '태연 (TAEYEON)', 'Weekend'], [49, 'MSG워너비(M.O.M)', '바라만 본다'], [50, \"BE'O (비오)\", '네가 없는 밤 (Feat. ASH ISLAND) (Prod. GRAY)'], [51, '아이유', 'Celebrity'], [52, '아이유', '라일락'], [53, '태연 (TAEYEON)', '그런 밤 (Some Nights)'], [54, 'AKMU (악뮤)', '낙하 (with 아이유)'], [55, 'Mudd the student', '불협화음 (Feat. AKMU) (Prod. GRAY)'], [56, '경서', '밤하늘의 별을(2020)'], [57, '이예준', '사랑이 아니었다고 말하지 마요'], [58, '휘인 (Whee In)', '너, 너 (N번째 연애 X 휘인 (Whee In))'], [59, '호미들', '사이렌 Remix (Feat. UNEDUCATED KID, Paul Blanco)'], [60, 'Ed Sheeran', 'Bad Habits'], [61, '아넌딜라이트(Anandelight)', '쉬어 (Feat. MINO) (Prod. GRAY)'], [62, '헤이즈 (Heize)', '헤픈 우연'], [63, '쿠기 (Coogie)', \"Good Night (Feat. BE'O)\"], [64, '개코', 'Wake Up (Prod. 코드 쿤스트)'], [65, '멜로망스', '그게 더 편할 것 같아 (N번째 연애 X 멜로망스)'], [66, '마크툽 (MAKTUB)', '찰나가 영원이 될 때 (The Eternal Moment)'], [67, 'AKMU (악뮤)', '어떻게 이별까지 사랑하겠어, 널 사랑하는 거지'], [68, '폴킴', '모든 날, 모든 순간 (Every day, Every Moment)'], [69, '임영웅', '계단말고 엘리베이터'], [70, '멜로망스', '고백'], [71, 'Apink (에이핑크)', 'Dilemma'], [72, 'Justin Bieber', 'Off My Face'], [73, '아이유', '내 손을 잡아'], [74, '성시경', '너의 모든 순간'], [75, '방탄소년단', '봄날'], [76, '프로미스나인', 'DM'], [77, '선예', '대낮에 한 이별'], [78, '정동하', '추억은 만남보다 이별에 남아'], [79, '정국', 'Stay Alive (Prod. SUGA of BTS)'], [80, '김나영', '이별후회'], [81, '방탄소년단', '작은 것들을 위한 시 (Boy With Luv) (Feat. Halsey)'], [82, '브레이브걸스', \"롤린 (Rollin')\"], [83, '아이유', 'Blueming'], [84, '황인욱', '강변북로'], [85, '태연 (TAEYEON)', 'Set Myself On Fire'], [86, '샘김 (Sam Kim)', '여름비'], [87, '태연 (TAEYEON)', '어른아이 (Toddler)'], [88, '오마이걸 (OH MY GIRL)', 'Dun Dun Dance'], [89, '송이한', '밝게 빛나는 별이 되어 비춰줄게'], [90, '마크툽 (MAKTUB)', '오늘도 빛나는 너에게 (To You My Light) (Feat.이라온)'], [91, 'Jawsh 685', 'Savage Love (Laxed - Siren Beat) (BTS Remix)'], [92, '전상근', '안녕 우린 헤어져야만 해'], [93, '산들', '취기를 빌려 (취향저격 그녀 X 산들)'], [94, 'ASH ISLAND', 'Because'], [95, '케이윌', '시간을 거슬러 (낮에 뜨는 달 X 케이윌)'], [96, '헤이즈 (Heize)', '비가 오는 날엔 (2021)'], [97, '이예준', '그날에 나는 맘이 편했을까'], [98, '방탄소년단', 'Life Goes On'], [99, '태연 (TAEYEON)', 'Timeless'], [100, '태연 (TAEYEON)', 'Siren']]\n"
     ]
    }
   ],
   "source": [
    "song_data=[]\n",
    "rank=1\n",
    "\n",
    "for i in range(50):\n",
    "    title = songs[i].select(\"div.ellipsis.rank01 > span > a\")[0].text\n",
    "    artist = songs[i].select(\"div.ellipsis.rank02 > span > a\")[0].text\n",
    "    song_data.append([rank,artist,title])\n",
    "    rank+=1\n",
    "    \n",
    "for i in range(50):\n",
    "    title = songs2[i].select(\"div.ellipsis.rank01 > span > a\")[0].text\n",
    "    artist = songs2[i].select(\"div.ellipsis.rank02 > span > a\")[0].text\n",
    "    song_data.append([rank,artist,title])\n",
    "    rank+=1\n",
    "    \n",
    "print(song_data)"
   ]
  },
  {
   "cell_type": "code",
   "execution_count": 114,
   "id": "a3deb5fe",
   "metadata": {},
   "outputs": [
    {
     "data": {
      "text/html": [
       "<div>\n",
       "<style scoped>\n",
       "    .dataframe tbody tr th:only-of-type {\n",
       "        vertical-align: middle;\n",
       "    }\n",
       "\n",
       "    .dataframe tbody tr th {\n",
       "        vertical-align: top;\n",
       "    }\n",
       "\n",
       "    .dataframe thead th {\n",
       "        text-align: right;\n",
       "    }\n",
       "</style>\n",
       "<table border=\"1\" class=\"dataframe\">\n",
       "  <thead>\n",
       "    <tr style=\"text-align: right;\">\n",
       "      <th></th>\n",
       "      <th>순위</th>\n",
       "      <th>타이틀</th>\n",
       "      <th>가수</th>\n",
       "    </tr>\n",
       "  </thead>\n",
       "  <tbody>\n",
       "    <tr>\n",
       "      <th>0</th>\n",
       "      <td>1</td>\n",
       "      <td>임영웅</td>\n",
       "      <td>사랑은 늘 도망가</td>\n",
       "    </tr>\n",
       "    <tr>\n",
       "      <th>1</th>\n",
       "      <td>2</td>\n",
       "      <td>김민석 (멜로망스)</td>\n",
       "      <td>취중고백</td>\n",
       "    </tr>\n",
       "    <tr>\n",
       "      <th>2</th>\n",
       "      <td>3</td>\n",
       "      <td>태연 (TAEYEON)</td>\n",
       "      <td>INVU</td>\n",
       "    </tr>\n",
       "    <tr>\n",
       "      <th>3</th>\n",
       "      <td>4</td>\n",
       "      <td>GOT the beat</td>\n",
       "      <td>Step Back</td>\n",
       "    </tr>\n",
       "    <tr>\n",
       "      <th>4</th>\n",
       "      <td>5</td>\n",
       "      <td>IVE (아이브)</td>\n",
       "      <td>ELEVEN</td>\n",
       "    </tr>\n",
       "    <tr>\n",
       "      <th>...</th>\n",
       "      <td>...</td>\n",
       "      <td>...</td>\n",
       "      <td>...</td>\n",
       "    </tr>\n",
       "    <tr>\n",
       "      <th>95</th>\n",
       "      <td>96</td>\n",
       "      <td>헤이즈 (Heize)</td>\n",
       "      <td>비가 오는 날엔 (2021)</td>\n",
       "    </tr>\n",
       "    <tr>\n",
       "      <th>96</th>\n",
       "      <td>97</td>\n",
       "      <td>이예준</td>\n",
       "      <td>그날에 나는 맘이 편했을까</td>\n",
       "    </tr>\n",
       "    <tr>\n",
       "      <th>97</th>\n",
       "      <td>98</td>\n",
       "      <td>방탄소년단</td>\n",
       "      <td>Life Goes On</td>\n",
       "    </tr>\n",
       "    <tr>\n",
       "      <th>98</th>\n",
       "      <td>99</td>\n",
       "      <td>태연 (TAEYEON)</td>\n",
       "      <td>Timeless</td>\n",
       "    </tr>\n",
       "    <tr>\n",
       "      <th>99</th>\n",
       "      <td>100</td>\n",
       "      <td>태연 (TAEYEON)</td>\n",
       "      <td>Siren</td>\n",
       "    </tr>\n",
       "  </tbody>\n",
       "</table>\n",
       "<p>100 rows × 3 columns</p>\n",
       "</div>"
      ],
      "text/plain": [
       "     순위           타이틀               가수\n",
       "0     1           임영웅        사랑은 늘 도망가\n",
       "1     2    김민석 (멜로망스)             취중고백\n",
       "2     3  태연 (TAEYEON)             INVU\n",
       "3     4  GOT the beat        Step Back\n",
       "4     5     IVE (아이브)           ELEVEN\n",
       "..  ...           ...              ...\n",
       "95   96   헤이즈 (Heize)  비가 오는 날엔 (2021)\n",
       "96   97           이예준   그날에 나는 맘이 편했을까\n",
       "97   98         방탄소년단     Life Goes On\n",
       "98   99  태연 (TAEYEON)         Timeless\n",
       "99  100  태연 (TAEYEON)            Siren\n",
       "\n",
       "[100 rows x 3 columns]"
      ]
     },
     "execution_count": 114,
     "metadata": {},
     "output_type": "execute_result"
    }
   ],
   "source": [
    "import pandas as pd           #DataFrame\n",
    "df = pd.DataFrame(song_data, columns = ['순위','타이틀','가수'])\n",
    "df"
   ]
  },
  {
   "cell_type": "code",
   "execution_count": 116,
   "id": "59575b04",
   "metadata": {},
   "outputs": [],
   "source": [
    "df.to_excel(\"Melon.xlsx\",index=False)"
   ]
  }
 ],
 "metadata": {
  "kernelspec": {
   "display_name": "Python 3 (ipykernel)",
   "language": "python",
   "name": "python3"
  },
  "language_info": {
   "codemirror_mode": {
    "name": "ipython",
    "version": 3
   },
   "file_extension": ".py",
   "mimetype": "text/x-python",
   "name": "python",
   "nbconvert_exporter": "python",
   "pygments_lexer": "ipython3",
   "version": "3.9.7"
  }
 },
 "nbformat": 4,
 "nbformat_minor": 5
}
