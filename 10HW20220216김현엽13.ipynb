{
 "cells": [
  {
   "cell_type": "code",
   "execution_count": null,
   "id": "a230af51",
   "metadata": {},
   "outputs": [],
   "source": [
    "# 516\n",
    "x = [1, 2, 3, 4] \n",
    "y = tuple(x) \n",
    "#c"
   ]
  },
  {
   "cell_type": "code",
   "execution_count": null,
   "id": "5a01ec3a",
   "metadata": {},
   "outputs": [],
   "source": [
    "# 517\n",
    "x = [1, 2, 3, 4] \n",
    "y = tuple(x) \n",
    "z = list(y) \n",
    "#d"
   ]
  },
  {
   "cell_type": "code",
   "execution_count": null,
   "id": "024eeb1a",
   "metadata": {},
   "outputs": [],
   "source": [
    "# 518\n",
    "x = 'Python' \n",
    "y= list(x) \n",
    "print(y) \n",
    "#d"
   ]
  },
  {
   "cell_type": "code",
   "execution_count": null,
   "id": "8caf9313",
   "metadata": {},
   "outputs": [],
   "source": [
    "# 519\n",
    "x = 'Python' \n",
    "y = tuple(x) \n",
    "print(y) \n",
    "#c"
   ]
  },
  {
   "cell_type": "code",
   "execution_count": null,
   "id": "b279cbbe",
   "metadata": {},
   "outputs": [],
   "source": [
    "# 520\n",
    "x = ('Python')\n",
    "print(x)\n",
    "#b"
   ]
  },
  {
   "cell_type": "code",
   "execution_count": null,
   "id": "ce7ecd5e",
   "metadata": {},
   "outputs": [],
   "source": [
    "# 521\n",
    "x = ('Python',) \n",
    "print(x) \n",
    "#a"
   ]
  },
  {
   "cell_type": "code",
   "execution_count": null,
   "id": "73e075bc",
   "metadata": {},
   "outputs": [],
   "source": [
    "# 522\n",
    "x = [0, 2, 4, 6] \n",
    "print(tuple(x)) \n",
    "#b"
   ]
  },
  {
   "cell_type": "code",
   "execution_count": null,
   "id": "52f0178f",
   "metadata": {},
   "outputs": [],
   "source": [
    "# 523\n",
    "x = (0, 2, 4, 6) \n",
    "print(list(x))\n",
    "#a"
   ]
  },
  {
   "cell_type": "code",
   "execution_count": null,
   "id": "6349624e",
   "metadata": {},
   "outputs": [],
   "source": [
    "# 524\n",
    "x = 'Python' \n",
    "print(list(x)) \n",
    "#c"
   ]
  },
  {
   "cell_type": "code",
   "execution_count": null,
   "id": "a8f58f60",
   "metadata": {},
   "outputs": [],
   "source": [
    "# 525\n",
    "x = 'Python' \n",
    "print(tuple(x))\n",
    "#a"
   ]
  },
  {
   "cell_type": "code",
   "execution_count": null,
   "id": "a212d248",
   "metadata": {},
   "outputs": [],
   "source": [
    "# 526\n",
    "x = [4, 5, 7, 8, 9] \n",
    "y = x \n",
    "y[1] = 6 \n",
    "print(y) \n",
    "#c"
   ]
  },
  {
   "cell_type": "code",
   "execution_count": null,
   "id": "a8ea3c73",
   "metadata": {},
   "outputs": [],
   "source": [
    "# 527\n",
    "x = [4, 5, 7, 8, 9] \n",
    "y = x \n",
    "y[1] = 6 \n",
    "print(x) \n",
    "#c"
   ]
  },
  {
   "cell_type": "code",
   "execution_count": null,
   "id": "20922934",
   "metadata": {},
   "outputs": [],
   "source": [
    "# 528\n",
    "def abc(z): \n",
    "    z.append(44) \n",
    "    x = [7, 8, 9] \n",
    "abc(x) \n",
    "print(x) \n",
    "#b"
   ]
  },
  {
   "cell_type": "code",
   "execution_count": null,
   "id": "05ad3696",
   "metadata": {},
   "outputs": [],
   "source": [
    "# 529\n",
    "import copy \n",
    "x = [5, 4, 3, 2, 1] \n",
    "y = copy.copy(x) \n",
    "x.append(6) \n",
    "print(y[-1]) \n",
    "#d"
   ]
  },
  {
   "cell_type": "code",
   "execution_count": null,
   "id": "a1890640",
   "metadata": {},
   "outputs": [],
   "source": [
    "# 530\n",
    "import copy \n",
    "x = [5, 4, 3, 2, 1] \n",
    "y = copy.copy(x) \n",
    "x[2] = 6 \n",
    "print(y[2]) \n",
    "#a"
   ]
  },
  {
   "cell_type": "code",
   "execution_count": 1,
   "id": "c58cbf51",
   "metadata": {},
   "outputs": [
    {
     "name": "stdout",
     "output_type": "stream",
     "text": [
      "[[5, 4, 6, 2, 1], [7, 8, 9]]\n"
     ]
    }
   ],
   "source": [
    "# 531\n",
    "import copy \n",
    "x = [5, 4, 3, 2, 1]\n",
    "y = [7, 8, 9] \n",
    "z = [x, y] \n",
    "a = copy.copy(z) \n",
    "x[2] = 6 \n",
    "print(a) \n",
    "#b"
   ]
  },
  {
   "cell_type": "code",
   "execution_count": null,
   "id": "a6f838bf",
   "metadata": {},
   "outputs": [],
   "source": [
    "# 532\n",
    "import copy \n",
    "x = [5, 4, 3, 2, 1] \n",
    "y = [7, 8, 9] \n",
    "z = [x, y] \n",
    "a = copy.deepcopy(z) \n",
    "x[2] = 6 \n",
    "print(a) \n",
    "#a"
   ]
  },
  {
   "cell_type": "code",
   "execution_count": null,
   "id": "5c10f756",
   "metadata": {},
   "outputs": [],
   "source": [
    "# 533\n",
    "x = {'day':'Sunday', 'week':10} \n",
    "print(x['year']) \n",
    "#b"
   ]
  },
  {
   "cell_type": "code",
   "execution_count": null,
   "id": "bdef79c3",
   "metadata": {},
   "outputs": [],
   "source": [
    "# 534\n",
    "x = {'day':'Sunday', 'week':10} \n",
    "for i in x.values(): \n",
    "    print(i, end=' ') \n",
    "#a"
   ]
  },
  {
   "cell_type": "code",
   "execution_count": null,
   "id": "aeffc386",
   "metadata": {},
   "outputs": [],
   "source": [
    "# 535\n",
    "x = {'day':'Sunday', 'week':10}\n",
    "for i in x: \n",
    "    print(i, end=' ') \n",
    "#b"
   ]
  },
  {
   "cell_type": "code",
   "execution_count": null,
   "id": "4b1c4550",
   "metadata": {},
   "outputs": [],
   "source": [
    "Algorithm Homework (#30)\n",
    "프로그래머 X는 코딩을 하다가 문득, 수학 시간에 배운 정수와 소수를\n",
    "구별하는 방법을 떠올렸다. 정수와 소수의 차이는 분수로 표현이\n",
    "되느냐, 되지 않느냐에 따라 차이가 나기도 하며, 또한 파이 등 특정한\n",
    "값을 나타내는 것에 의하여 소수인지 정수인지 판별이 나게 된다.\n",
    "프로그래머 X는 입력값을 숫자를 입력하거나 문자를 입력하려고\n",
    "하는데,\n",
    "만약 숫자를 입력하였으면 그것이 정수인지, 소수인지 구별하는\n",
    "프로그램을 짜보도록 하고,\n",
    "만약 문자를 입력하였으면 숫자가 아니므로 math error를 표시하게 하라. "
   ]
  },
  {
   "cell_type": "code",
   "execution_count": 10,
   "id": "a78594de",
   "metadata": {},
   "outputs": [
    {
     "name": "stdout",
     "output_type": "stream",
     "text": [
      "입력하시오: ab\n",
      "math error\n"
     ]
    }
   ],
   "source": [
    "try:\n",
    "    n = eval(input(\"입력하시오: \"))\n",
    "    if n - int(n):\n",
    "        print(\"소수입니다.\")\n",
    "    else:\n",
    "        print(\"정수입니다.\")\n",
    "except:\n",
    "    print('math error')"
   ]
  }
 ],
 "metadata": {
  "kernelspec": {
   "display_name": "Python 3 (ipykernel)",
   "language": "python",
   "name": "python3"
  },
  "language_info": {
   "codemirror_mode": {
    "name": "ipython",
    "version": 3
   },
   "file_extension": ".py",
   "mimetype": "text/x-python",
   "name": "python",
   "nbconvert_exporter": "python",
   "pygments_lexer": "ipython3",
   "version": "3.9.7"
  }
 },
 "nbformat": 4,
 "nbformat_minor": 5
}
