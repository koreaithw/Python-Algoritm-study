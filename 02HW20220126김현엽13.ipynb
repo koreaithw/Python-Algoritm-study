{
  "nbformat": 4,
  "nbformat_minor": 0,
  "metadata": {
    "colab": {
      "name": "02HW20220126김현엽13",
      "provenance": [],
      "authorship_tag": "ABX9TyO7uVKPx7whRfHvkPtA/Til",
      "include_colab_link": true
    },
    "kernelspec": {
      "name": "python3",
      "display_name": "Python 3"
    },
    "language_info": {
      "name": "python"
    }
  },
  "cells": [
    {
      "cell_type": "markdown",
      "metadata": {
        "id": "view-in-github",
        "colab_type": "text"
      },
      "source": [
        "<a href=\"https://colab.research.google.com/github/koreaithw/ai/blob/main/02HW20220126%EA%B9%80%ED%98%84%EC%97%BD13.ipynb\" target=\"_parent\"><img src=\"https://colab.research.google.com/assets/colab-badge.svg\" alt=\"Open In Colab\"/></a>"
      ]
    },
    {
      "cell_type": "code",
      "execution_count": 1,
      "metadata": {
        "id": "BcMJg_e3a5_X"
      },
      "outputs": [],
      "source": [
        "#051\n",
        "movie_rank = [\"닥터 스트레인지\",\"스플릿\",\"럭키\"]"
      ]
    },
    {
      "cell_type": "code",
      "source": [
        "#052\n",
        "movie_rank.append(\"배트맨\")\n",
        "# movie_rank.insert(0,\"배트맨\")"
      ],
      "metadata": {
        "id": "KZs3Cc-bbT6q"
      },
      "execution_count": 3,
      "outputs": []
    },
    {
      "cell_type": "code",
      "source": [
        "#053\n",
        "movie_rank = ['닥터 스트레인지', '스플릿', '럭키', '배트맨']\n",
        "movie_rank.insert(1,\"슈퍼맨\")\n",
        "print(movie_rank)"
      ],
      "metadata": {
        "colab": {
          "base_uri": "https://localhost:8080/"
        },
        "id": "RRdJOvmpbwYI",
        "outputId": "8103487e-9f2b-4761-f94c-922c842023e6"
      },
      "execution_count": 7,
      "outputs": [
        {
          "output_type": "stream",
          "name": "stdout",
          "text": [
            "['닥터 스트레인지', '슈퍼맨', '스플릿', '럭키', '배트맨']\n"
          ]
        }
      ]
    },
    {
      "cell_type": "code",
      "source": [
        "# 054\n",
        "movie_rank = ['닥터 스트레인지', '슈퍼맨', '스플릿', '럭키', '배트맨']\n",
        "movie_rank.remove(\"럭키\")"
      ],
      "metadata": {
        "id": "MbrSThVLcA8V"
      },
      "execution_count": 9,
      "outputs": []
    },
    {
      "cell_type": "code",
      "source": [
        "# 055\n",
        "movie_rank = ['닥터 스트레인지', '슈퍼맨', '스플릿', '배트맨']\n",
        "movie_rank.remove(\"스플릿\")\n",
        "movie_rank.remove(\"배트맨\")\n",
        "print(movie_rank)"
      ],
      "metadata": {
        "colab": {
          "base_uri": "https://localhost:8080/"
        },
        "id": "nkcxpZxdcLYr",
        "outputId": "58d7813e-b178-422c-80c7-007d04f4a364"
      },
      "execution_count": 13,
      "outputs": [
        {
          "output_type": "stream",
          "name": "stdout",
          "text": [
            "['닥터 스트레인지', '슈퍼맨']\n"
          ]
        }
      ]
    },
    {
      "cell_type": "code",
      "source": [
        "# 056\n",
        "lang1 = [\"C\", \"C++\", \"JAVA\"]\n",
        "lang2 = [\"Python\", \"Go\", \"C#\"]\n",
        "langs = lang1+lang2\n",
        "print(langs)"
      ],
      "metadata": {
        "colab": {
          "base_uri": "https://localhost:8080/"
        },
        "id": "cnqUNuD1cbR4",
        "outputId": "48a57075-b3f0-4222-b51c-6bc056b89a2f"
      },
      "execution_count": 18,
      "outputs": [
        {
          "output_type": "stream",
          "name": "stdout",
          "text": [
            "['C', 'C++', 'JAVA', 'Python', 'Go', 'C#']\n"
          ]
        }
      ]
    },
    {
      "cell_type": "code",
      "source": [
        "# 057\n",
        "nums = [1, 2, 3, 4, 5, 6, 7]\n",
        "print(\"max : \",min(nums))\n",
        "print(\"min : \",max(nums))"
      ],
      "metadata": {
        "colab": {
          "base_uri": "https://localhost:8080/"
        },
        "id": "A8hdPETNcqNW",
        "outputId": "6a93d227-70b9-4451-9bc0-87f3a59d5cd2"
      },
      "execution_count": 22,
      "outputs": [
        {
          "output_type": "stream",
          "name": "stdout",
          "text": [
            "1\n",
            "7\n"
          ]
        }
      ]
    },
    {
      "cell_type": "code",
      "source": [
        "# 058\n",
        "nums = [1, 2, 3, 4, 5]\n",
        "s=nums[0]+nums[1]+nums[2]+nums[3]+nums[4]\n",
        "print(s)"
      ],
      "metadata": {
        "colab": {
          "base_uri": "https://localhost:8080/"
        },
        "id": "LZAlBU-Sc5Wk",
        "outputId": "5bd63c61-bf0f-4b99-c463-579fe9374595"
      },
      "execution_count": 30,
      "outputs": [
        {
          "output_type": "stream",
          "name": "stdout",
          "text": [
            "15\n"
          ]
        }
      ]
    },
    {
      "cell_type": "code",
      "source": [
        "# 059\n",
        "cook = [\"피자\", \"김밥\", \"만두\", \"양념치킨\", \"족발\", \"피자\", \"김치만두\",\n",
        "\"쫄면\", \"쏘세지\", \"라면\", \"팥빙수\", \"김치전\"]\n",
        "print(len(cook))"
      ],
      "metadata": {
        "colab": {
          "base_uri": "https://localhost:8080/"
        },
        "id": "FTdMJijSdeTy",
        "outputId": "55383273-5509-4185-f3a9-090f789b3671"
      },
      "execution_count": 28,
      "outputs": [
        {
          "output_type": "stream",
          "name": "stdout",
          "text": [
            "12\n"
          ]
        }
      ]
    },
    {
      "cell_type": "code",
      "source": [
        "# 060\n",
        "nums = [1, 2, 3, 4, 5]\n",
        "s=(nums[0]+nums[1]+nums[2]+nums[3]+nums[4])/len(nums)\n",
        "print(s)\n"
      ],
      "metadata": {
        "colab": {
          "base_uri": "https://localhost:8080/"
        },
        "id": "s8Xhmyqjdtuj",
        "outputId": "7fffd5cc-0e9c-4e0e-bdd4-96aec573f394"
      },
      "execution_count": 34,
      "outputs": [
        {
          "output_type": "stream",
          "name": "stdout",
          "text": [
            "3.0\n"
          ]
        }
      ]
    },
    {
      "cell_type": "code",
      "source": [
        "# 121\n",
        "l=input(\"문자입력\")\n",
        "if l.islower():\n",
        "  i = l.upper()\n",
        "  print(i)\n",
        "else:\n",
        "  i=l.lower()\n",
        "  print(i)"
      ],
      "metadata": {
        "colab": {
          "base_uri": "https://localhost:8080/"
        },
        "id": "S4x5M1IceEMO",
        "outputId": "7c3d43fb-115d-4b3c-e8a9-2f6eb82d76e1"
      },
      "execution_count": 43,
      "outputs": [
        {
          "output_type": "stream",
          "name": "stdout",
          "text": [
            "문자입력A\n",
            "a\n"
          ]
        }
      ]
    },
    {
      "cell_type": "code",
      "source": [
        "# 122\n",
        "score = int(input(\"score입력>>\"))\n",
        "\n",
        "if score>80:\n",
        "  gr = \"A\"\n",
        "elif score>60:\n",
        "  gr = \"B\"\n",
        "elif score>40:\n",
        "  gr = \"C\"\n",
        "elif score>20:\n",
        "  gr = \"D\"\n",
        "else:\n",
        "  gr = \"E\"\n",
        "\n",
        "print(f\"grade is {gr}\")\n",
        "\n"
      ],
      "metadata": {
        "colab": {
          "base_uri": "https://localhost:8080/"
        },
        "id": "0htm8rgaeIqq",
        "outputId": "55e70dc8-2f06-42e4-fc40-056c7a33b784"
      },
      "execution_count": 48,
      "outputs": [
        {
          "output_type": "stream",
          "name": "stdout",
          "text": [
            "score입력>>23\n",
            "grade is D\n"
          ]
        }
      ]
    },
    {
      "cell_type": "code",
      "source": [
        "# 123\n",
        "money = input(\"입력>>\")\n",
        "\n",
        "if \"달러\"in money:\n",
        "  USD=float(money[:-3])\n",
        "  print(\"%.2f원\" %(1167*USD))\n",
        "elif \"엔\" in money:\n",
        "  JPY=float(money[:-2])\n",
        "  print(\"%.2f원\" %(1.096*JPY))\n",
        "elif \"유로\" in money:\n",
        "  EUR=float(money[:-3])\n",
        "  print(\"%.2f원\"%(1268*EUR))\n",
        "elif \"위안\" in money:\n",
        "  CNY=float(money[:-3])\n",
        "  print(\"%.2f원\"%(171*CNY))\n",
        "\n"
      ],
      "metadata": {
        "colab": {
          "base_uri": "https://localhost:8080/"
        },
        "id": "LEKpVT8yf3MZ",
        "outputId": "e2d2e1c2-9993-4764-cce1-cd5629cabda3"
      },
      "execution_count": 56,
      "outputs": [
        {
          "output_type": "stream",
          "name": "stdout",
          "text": [
            "입력>>100 달러\n",
            "116700.00원\n"
          ]
        }
      ]
    },
    {
      "cell_type": "code",
      "source": [
        "# 124\n",
        "n1=int(input(\"정수1입력>\"))\n",
        "n2=int(input(\"정수2입력>\"))\n",
        "n3=int(input(\"정수3입력>\"))\n",
        "a=0\n",
        "if n1>n2 & n1>n3:\n",
        "  a=n1\n",
        "elif n2>n3:\n",
        "  a=n2\n",
        "else:\n",
        "  a=n3\n",
        "\n",
        "\n",
        "print(a)"
      ],
      "metadata": {
        "colab": {
          "base_uri": "https://localhost:8080/"
        },
        "id": "_4L5zFCBjwBP",
        "outputId": "091a044d-1e40-4b5d-d8fb-e128f1bf53ea"
      },
      "execution_count": 58,
      "outputs": [
        {
          "output_type": "stream",
          "name": "stdout",
          "text": [
            "정수1입력>10\n",
            "정수2입력>9\n",
            "정수3입력>20\n",
            "20\n"
          ]
        }
      ]
    },
    {
      "cell_type": "code",
      "source": [
        "# 125\n",
        "pn = input(\"휴대전화 번호 입력:\")\n",
        "if int(pn[2])==1:\n",
        "  info='SKT'\n",
        "elif int(pn[2])==6:\n",
        "  info = \"KT\"\n",
        "elif int(pn[2])==9:\n",
        "  info = \"LGU\"\n",
        "elif int(pn[2])==0:\n",
        "  info = \"알수없음\"\n",
        "\n",
        "print(f\"당신은 {info}사용자 입니다\")"
      ],
      "metadata": {
        "colab": {
          "base_uri": "https://localhost:8080/"
        },
        "id": "zObPwXCBj8gl",
        "outputId": "42fa1808-5dcb-484c-e2c5-af6d36e9db1c"
      },
      "execution_count": 63,
      "outputs": [
        {
          "output_type": "stream",
          "name": "stdout",
          "text": [
            "휴대전화 번호 입력:010-1111-1111\n",
            "당신은 알수없음사용자 입니다\n"
          ]
        }
      ]
    },
    {
      "cell_type": "code",
      "source": [
        "#126\n",
        "pn = input(\"우편 번호 입력:\")\n",
        "if int(pn[2])>5:\n",
        "  c=\"노원구\"\n",
        "elif int(pn[2])>2:\n",
        "  c=\"도봉구\"\n",
        "else:\n",
        "  c=\"강북구\"\n",
        "\n",
        "print(c)"
      ],
      "metadata": {
        "colab": {
          "base_uri": "https://localhost:8080/"
        },
        "id": "nD6aZ8yqlNLB",
        "outputId": "5e8432f4-05a5-4d5f-98ec-ffce89875877"
      },
      "execution_count": 67,
      "outputs": [
        {
          "output_type": "stream",
          "name": "stdout",
          "text": [
            "우편 번호 입력:12700\n",
            "노원구\n"
          ]
        }
      ]
    },
    {
      "cell_type": "code",
      "source": [
        "# 127\n",
        "id = input(\"주민등록번호:\")\n",
        "if int(id[7])==1 or int(id[7])==3:\n",
        "  sex = \"남자\"\n",
        "elif int(id[7])==2 or int(id[7])==4:\n",
        "  sex = \"여자\"\n",
        "\n",
        "print(sex)"
      ],
      "metadata": {
        "colab": {
          "base_uri": "https://localhost:8080/"
        },
        "id": "GuWqZ4P_mQFl",
        "outputId": "a93c8a27-dbe0-4192-87a2-d3596905c645"
      },
      "execution_count": 73,
      "outputs": [
        {
          "output_type": "stream",
          "name": "stdout",
          "text": [
            "주민등록번호:321654-1562645\n",
            "남자\n"
          ]
        }
      ]
    },
    {
      "cell_type": "code",
      "source": [
        "# 128\n",
        "id = input(\"주민등록번호:\")\n",
        "if int(id[8])==0 and int(id[9])<9:\n",
        "  print(\"서울 입니다\")\n",
        "else:\n",
        "  print(\"서울이 아닙니다\")\n",
        "# elif (int(id[8])==0 and int(id[9])==9) or int(id[8])==1 and int(id[9])<3:\n",
        "#   print(\"서울이 아닙니다\")"
      ],
      "metadata": {
        "colab": {
          "base_uri": "https://localhost:8080/"
        },
        "id": "s95jGXQNnabk",
        "outputId": "2c3928c4-b523-4788-89e9-ede0151ab349"
      },
      "execution_count": 75,
      "outputs": [
        {
          "output_type": "stream",
          "name": "stdout",
          "text": [
            "주민등록번호:861010-1015210\n",
            "서울 입니다\n"
          ]
        }
      ]
    },
    {
      "cell_type": "code",
      "source": [
        "# 129\n",
        "id = input(\"주민등록번호:\")\n",
        "c1=int((id[0]*2 + id[1]*3 + id[2]*4 + id[3]*5 + id[4]*6+ id[5]*7 + id[7]*8+ id[8]*9 + id[9]*2+id[10]*3+id[11]*4+id[12]*5))\n",
        "c2=(c1%11)\n",
        "ln=c2-11\n",
        "if id[12]!=ln:\n",
        "  print('유효하지 않은 주민등록 번호 입니다')"
      ],
      "metadata": {
        "colab": {
          "base_uri": "https://localhost:8080/"
        },
        "id": "qmmcSrL_oxj1",
        "outputId": "d22ad553-8d3e-4165-a3ef-e3d04c427c42"
      },
      "execution_count": 76,
      "outputs": [
        {
          "output_type": "stream",
          "name": "stdout",
          "text": [
            "주민등록번호:821010-1635210\n",
            "유효하지 않은 주민등록 번호 입니다\n"
          ]
        }
      ]
    },
    {
      "cell_type": "code",
      "source": [
        "# 130\n",
        "import requests\n",
        "btc = requests.get(\"https://api.bithumb.com/public/ticker/\").json()['data']\n",
        "range=int(btc['max_price'])-int(btc['min_price'])\n",
        "\n",
        "if (int(btc['opening_price']) +range)> int(btc['max_price']):\n",
        "  print(\"상승장\")\n",
        "else:\n",
        "  print(\"하락장\")\n"
      ],
      "metadata": {
        "colab": {
          "base_uri": "https://localhost:8080/"
        },
        "id": "e70ldXMVqSgF",
        "outputId": "f85b96b8-6d82-471d-dd4d-e43d28e30840"
      },
      "execution_count": 4,
      "outputs": [
        {
          "output_type": "stream",
          "name": "stdout",
          "text": [
            "상승장\n"
          ]
        }
      ]
    }
  ]
}