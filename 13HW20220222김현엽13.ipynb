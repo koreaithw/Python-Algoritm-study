{
 "cells": [
  {
   "cell_type": "code",
   "execution_count": null,
   "id": "2403b7b4",
   "metadata": {},
   "outputs": [],
   "source": [
    "1.d"
   ]
  },
  {
   "cell_type": "code",
   "execution_count": null,
   "id": "a8ae68a7",
   "metadata": {},
   "outputs": [],
   "source": [
    "2.d"
   ]
  },
  {
   "cell_type": "code",
   "execution_count": null,
   "id": "4f1f4719",
   "metadata": {},
   "outputs": [],
   "source": [
    "3.b"
   ]
  },
  {
   "cell_type": "code",
   "execution_count": null,
   "id": "7ed68b03",
   "metadata": {},
   "outputs": [],
   "source": [
    "4.b"
   ]
  },
  {
   "cell_type": "code",
   "execution_count": null,
   "id": "aff34053",
   "metadata": {},
   "outputs": [],
   "source": [
    "5.a"
   ]
  },
  {
   "cell_type": "code",
   "execution_count": null,
   "id": "e9a4aa8e",
   "metadata": {},
   "outputs": [],
   "source": [
    "6.c"
   ]
  },
  {
   "cell_type": "code",
   "execution_count": null,
   "id": "f7e532d8",
   "metadata": {},
   "outputs": [],
   "source": [
    "7.d"
   ]
  },
  {
   "cell_type": "code",
   "execution_count": null,
   "id": "5295aa61",
   "metadata": {},
   "outputs": [],
   "source": [
    "8.a"
   ]
  },
  {
   "cell_type": "code",
   "execution_count": null,
   "id": "d3a5c2de",
   "metadata": {},
   "outputs": [],
   "source": [
    "9.d"
   ]
  },
  {
   "cell_type": "code",
   "execution_count": null,
   "id": "5fb891e0",
   "metadata": {},
   "outputs": [],
   "source": [
    "10.b"
   ]
  },
  {
   "cell_type": "code",
   "execution_count": 13,
   "id": "bd5e572e",
   "metadata": {},
   "outputs": [
    {
     "name": "stdout",
     "output_type": "stream",
     "text": [
      "233168\n"
     ]
    }
   ],
   "source": [
    "s=[]\n",
    "for i in range(1000):\n",
    "    if i%3==0 or i%5==0:\n",
    "        s.append(i)\n",
    "print(sum(s))"
   ]
  },
  {
   "cell_type": "code",
   "execution_count": 14,
   "id": "f9eb85a1",
   "metadata": {},
   "outputs": [
    {
     "name": "stdout",
     "output_type": "stream",
     "text": [
      "233168\n"
     ]
    }
   ],
   "source": [
    "s=0\n",
    "for i in range(1000):\n",
    "    if i%3==0 or i%5==0:\n",
    "         s=s+i\n",
    "print(s)"
   ]
  }
 ],
 "metadata": {
  "kernelspec": {
   "display_name": "Python 3 (ipykernel)",
   "language": "python",
   "name": "python3"
  },
  "language_info": {
   "codemirror_mode": {
    "name": "ipython",
    "version": 3
   },
   "file_extension": ".py",
   "mimetype": "text/x-python",
   "name": "python",
   "nbconvert_exporter": "python",
   "pygments_lexer": "ipython3",
   "version": "3.9.7"
  }
 },
 "nbformat": 4,
 "nbformat_minor": 5
}
