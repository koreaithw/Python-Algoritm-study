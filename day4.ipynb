{
 "cells": [
  {
   "cell_type": "code",
   "execution_count": null,
   "id": "86f52ca6",
   "metadata": {},
   "outputs": [],
   "source": [
    "# #프로그래밍!\n",
    "\n",
    "# pro + gram\n",
    "# 미리+작성된것\n",
    "\n",
    "# 사전적 의미는 '진행 계획' 이나 '순서'\n",
    "\n",
    "# 컴퓨터 프로그램이란\n",
    "# '컴퓨터가 무엇을 해야 할 지 미리 작성한 계획'\n",
    "\n",
    "# 카카오톡 프로그램\n",
    "# 1. 친구지정\n",
    "# 2. 메세지 입력\n",
    "# 3. 전송버튼 클릭\n",
    "\n",
    "# 프로그래밍 언어, 파이썬 ,C, 베이직, 자바..등등200개가 넘음\n",
    "\n",
    "# 파이썬(python)\n",
    "# 1.문법간단\n",
    "# 2.다양한분야 활용가능\n",
    "# 3.대부분 운영체제에서 사용가능\n",
    "# -----------------------------\n",
    "# 1.느리다 (C언어 보다 100~300배)\n",
    "\n",
    "\n",
    "# 파이썬에서 어떤 값을 만들어 내는 간단한 코드를 표현식(expression)이라고 부른다.\n",
    "# 273\n",
    "# 1+2+3\n",
    "# \"hello world\"\n",
    "\n",
    "# 이러한 표현식들이 모여 프로그램이 된다."
   ]
  },
  {
   "cell_type": "code",
   "execution_count": 17,
   "id": "922d6a9a",
   "metadata": {},
   "outputs": [
    {
     "name": "stdout",
     "output_type": "stream",
     "text": [
      "안\n",
      "녕\n",
      "하\n",
      "세\n",
      "요\n"
     ]
    }
   ],
   "source": [
    "# 문자열에서 인덱싱(문자 하나를 선택)\n",
    "print(\"안녕하세요\"[0]) # 파이썬은 인덱싱 0 에서 시작\n",
    "print(\"안녕하세요\"[1])\n",
    "print(\"안녕하세요\"[2])\n",
    "print(\"안녕하세요\"[3])\n",
    "print(\"안녕하세요\"[4])"
   ]
  },
  {
   "cell_type": "code",
   "execution_count": 4,
   "id": "52d903ff",
   "metadata": {},
   "outputs": [
    {
     "name": "stdout",
     "output_type": "stream",
     "text": [
      "Hello Python Programming~~~\n",
      "52\n"
     ]
    }
   ],
   "source": [
    "#print()\n",
    "print('Hello Python Programming~~~')\n",
    "print(52)"
   ]
  },
  {
   "cell_type": "code",
   "execution_count": 5,
   "id": "ffc1830f",
   "metadata": {},
   "outputs": [
    {
     "name": "stdout",
     "output_type": "stream",
     "text": [
      "52 11 world\n"
     ]
    }
   ],
   "source": [
    "print(52,11,\"world\")"
   ]
  },
  {
   "cell_type": "code",
   "execution_count": 6,
   "id": "860df477",
   "metadata": {},
   "outputs": [
    {
     "name": "stdout",
     "output_type": "stream",
     "text": [
      "Hello world\n",
      "\n",
      "1 2 3 4 5\n"
     ]
    }
   ],
   "source": [
    "print(\"Hello world\")\n",
    "print()\n",
    "print(1,2,3,4,5)"
   ]
  },
  {
   "cell_type": "code",
   "execution_count": 9,
   "id": "0af27dfc",
   "metadata": {},
   "outputs": [
    {
     "name": "stdout",
     "output_type": "stream",
     "text": [
      "한글사용\n"
     ]
    }
   ],
   "source": [
    "#주석은 컴퓨터는 읽지 않는다.\n",
    "print(\"한글사용\") #주석은 코드에 대한 설명을 표현한다."
   ]
  },
  {
   "cell_type": "code",
   "execution_count": 10,
   "id": "7ec36ef3",
   "metadata": {},
   "outputs": [
    {
     "name": "stdout",
     "output_type": "stream",
     "text": [
      "<class 'str'>\n"
     ]
    }
   ],
   "source": [
    "# 기본 자료형\n",
    "# 문자열 String        '안녕',\"hello\"\n",
    "# 숫자 int             1,2,3,4,5\n",
    "# 논리(불)boolean      True,False\n",
    "\n",
    "print(type(\"안녕\"))\n",
    "# \\ >> escape character 이스케이프 문자"
   ]
  },
  {
   "cell_type": "code",
   "execution_count": 14,
   "id": "0932c146",
   "metadata": {},
   "outputs": [
    {
     "name": "stdout",
     "output_type": "stream",
     "text": [
      "이름\t나이\t지역\n",
      "홍길동\t20\t강남구\n",
      "한석봉\t30\t강북구\n",
      "안녕 하세요\n",
      "안녕하세요\n"
     ]
    }
   ],
   "source": [
    "print('이름\\t나이\\t지역')\n",
    "print('홍길동\\t20\\t강남구')\n",
    "print('한석봉\\t30\\t강북구')\n",
    "print(\"안녕\",\"하세요\")\n",
    "print(\"안녕\"+\"하세요\")"
   ]
  },
  {
   "cell_type": "code",
   "execution_count": 16,
   "id": "bb300fe2",
   "metadata": {},
   "outputs": [
    {
     "name": "stdout",
     "output_type": "stream",
     "text": [
      "------------\n"
     ]
    }
   ],
   "source": [
    "print(\"-\"*12)\n",
    "# print(\"-\"+5) >> Error"
   ]
  },
  {
   "cell_type": "code",
   "execution_count": 17,
   "id": "cedfc892",
   "metadata": {},
   "outputs": [
    {
     "name": "stdout",
     "output_type": "stream",
     "text": [
      "안\n",
      "녕\n",
      "하\n",
      "세\n",
      "요\n"
     ]
    }
   ],
   "source": [
    "# 문자열에서 인덱싱(문자 하나를 선택)\n",
    "print(\"안녕하세요\"[0]) # 파이썬은 인덱싱 0 에서 시작\n",
    "print(\"안녕하세요\"[1])\n",
    "print(\"안녕하세요\"[2])\n",
    "print(\"안녕하세요\"[3])\n",
    "print(\"안녕하세요\"[4])"
   ]
  },
  {
   "cell_type": "code",
   "execution_count": 19,
   "id": "dbf94bc6",
   "metadata": {},
   "outputs": [
    {
     "name": "stdout",
     "output_type": "stream",
     "text": [
      "요\n",
      "세\n",
      "하\n",
      "녕\n",
      "안\n"
     ]
    }
   ],
   "source": [
    "print(\"안녕하세요\"[-1])\n",
    "print(\"안녕하세요\"[-2])\n",
    "print(\"안녕하세요\"[-3])\n",
    "print(\"안녕하세요\"[-4])\n",
    "print(\"안녕하세요\"[-5])"
   ]
  },
  {
   "cell_type": "code",
   "execution_count": 22,
   "id": "04293af8",
   "metadata": {},
   "outputs": [
    {
     "name": "stdout",
     "output_type": "stream",
     "text": [
      "녕하세\n",
      "녕하세요\n",
      "안녕하세\n",
      "안녕하세요\n"
     ]
    }
   ],
   "source": [
    "# 문자열에서의 슬라이싱(slicing) 문자열에서 여러글자\n",
    "\n",
    "print(\"안녕하세요\"[1:4])\n",
    "print(\"안녕하세요\"[1:])\n",
    "print(\"안녕하세요\"[:4])\n",
    "print(\"안녕하세요\"[:])\n"
   ]
  },
  {
   "cell_type": "code",
   "execution_count": 24,
   "id": "cf629023",
   "metadata": {},
   "outputs": [
    {
     "name": "stdout",
     "output_type": "stream",
     "text": [
      "5\n"
     ]
    }
   ],
   "source": [
    "# 문자열의 길이 구하기\n",
    "print(len(\"안녕하세요\"))  #길이는 1에서 시작\n"
   ]
  }
 ],
 "metadata": {
  "kernelspec": {
   "display_name": "Python 3 (ipykernel)",
   "language": "python",
   "name": "python3"
  },
  "language_info": {
   "codemirror_mode": {
    "name": "ipython",
    "version": 3
   },
   "file_extension": ".py",
   "mimetype": "text/x-python",
   "name": "python",
   "nbconvert_exporter": "python",
   "pygments_lexer": "ipython3",
   "version": "3.9.7"
  }
 },
 "nbformat": 4,
 "nbformat_minor": 5
}
