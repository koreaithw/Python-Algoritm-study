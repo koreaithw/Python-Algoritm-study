{
 "cells": [
  {
   "cell_type": "code",
   "execution_count": 1,
   "id": "adc32a5e",
   "metadata": {},
   "outputs": [
    {
     "ename": "SyntaxError",
     "evalue": "invalid syntax (Temp/ipykernel_9552/3393187665.py, line 1)",
     "output_type": "error",
     "traceback": [
      "\u001b[1;36m  File \u001b[1;32m\"C:\\Users\\Ethan_SY\\AppData\\Local\\Temp/ipykernel_9552/3393187665.py\"\u001b[1;36m, line \u001b[1;32m1\u001b[0m\n\u001b[1;33m    -클래스와 객체\u001b[0m\n\u001b[1;37m          ^\u001b[0m\n\u001b[1;31mSyntaxError\u001b[0m\u001b[1;31m:\u001b[0m invalid syntax\n"
     ]
    }
   ],
   "source": [
    "-클래스와 객체\n",
    "\n",
    "-C언어를 제외한 대부분의 언어는 객체 지향 프로그래밍 Object Oriented Programming\n",
    " OOP언어이다.\n",
    "\n",
    "-객체지향 언어는 클래스를 기반으로 객체를 만들고 \n",
    " 그 객체들을 우선으로 생각해서 프로그래밍 하는것을 철학으로 한다.\n",
    "\n",
    "-객체\n",
    "-딕셔너리 3개형태로 저장\n",
    "students = [\n",
    "    {\"name\":\"슈가\",\"korean\":87,\"math\":98,\"eng\":88,\"sci\":95},\n",
    "    {\"name\":\"진\",\"korean\":90,\"math\":99,\"eng\":86,\"sci\":97},\n",
    "    {\"name\":\"카리\",\"korean\":99,\"math\":89,\"eng\":99,\"sci\":99}\n",
    "]\n",
    "\n"
   ]
  },
  {
   "cell_type": "code",
   "execution_count": 4,
   "id": "2f996209",
   "metadata": {},
   "outputs": [
    {
     "name": "stdout",
     "output_type": "stream",
     "text": [
      "슈가\t\t368\t\t92.0\n",
      "진\t\t372\t\t93.0\n",
      "카리\t\t386\t\t96.5\n"
     ]
    }
   ],
   "source": [
    "students = [\n",
    "    {\"name\":\"슈가\",\"korean\":87,\"math\":98,\"eng\":88,\"sci\":95},\n",
    "    {\"name\":\"진\",\"korean\":90,\"math\":99,\"eng\":86,\"sci\":97},\n",
    "    {\"name\":\"카리\",\"korean\":99,\"math\":89,\"eng\":99,\"sci\":99}\n",
    "]\n",
    "for student in students:\n",
    "    #학생들의 점수의 총합과 평균을 구한다.\n",
    "    score_sum = student[\"korean\"]+student[\"math\"]+student[\"eng\"]+student[\"sci\"]\n",
    "    score_avg = score_sum/4\n",
    "    print(student[\"name\"],score_sum,score_avg,sep=\"\\t\\t\")\n",
    "    \n",
    "딕셔너리로 학생 한명한명을 표현하고 이를 리스트로 묶어서 학생 전체를 표현했다.\n",
    "여러가지속성을 가질 수 있는 대상을 '객체'object라고 부른다.\n",
    "그런데 딕셔너리로 객체를 하나하나 만들면 복잡하고 귀찮다,\n",
    "키를 모르면 사용하기도 어렵다.\n",
    "\n",
    "함수형태로 변형해보자."
   ]
  },
  {
   "cell_type": "code",
   "execution_count": 9,
   "id": "4f8f185b",
   "metadata": {},
   "outputs": [
    {
     "name": "stdout",
     "output_type": "stream",
     "text": [
      "이름\t\t총점\t\t평균\n",
      "슈가\t\t367\t\t91.75\n",
      "진\t\t372\t\t93.0\n",
      "카리\t\t386\t\t96.5\n"
     ]
    }
   ],
   "source": [
    "# -딕셔너리로 리턴하는 함수\n",
    "def create_student(name,korean,math,eng,sci):\n",
    "    return{\n",
    "        \"name\":name,\n",
    "        \"korean\":korean,\n",
    "        \"math\":math,\n",
    "        \"eng\":eng,\n",
    "        \"sci\":sci\n",
    "    }\n",
    "\n",
    "#-학생들 리스트\n",
    "students = [\n",
    "    create_student(\"슈가\",87,97,88,95),\n",
    "    create_student(\"진\",90,99,86,97),\n",
    "    create_student(\"카리\",99,89,99,99)\n",
    "]\n",
    "print(\"이름\",\"총점\",\"평균\",sep=\"\\t\\t\")\n",
    "#-한명씩 반복\n",
    "for student in students:\n",
    "    #학생들의 점수의 총합과 평균을 구한다.\n",
    "    score_sum = student[\"korean\"]+student[\"math\"]+student[\"eng\"]+student[\"sci\"]\n",
    "    score_avg = score_sum/4\n",
    "    print(student[\"name\"],score_sum,score_avg,sep=\"\\t\\t\")\n"
   ]
  },
  {
   "cell_type": "code",
   "execution_count": null,
   "id": "03b67da0",
   "metadata": {},
   "outputs": [],
   "source": [
    "실행결과는 이전과 동일하다. 그럼 조금 더 변형해보자\n",
    "현재 총점과 평균을 구하는 처리는 학생을 대상으로만 이루어진다, 따라서 학생을\n",
    "매개변수로 받는 형태의 함수로 만들면 코드가 좀 더 균형잡히게 된다."
   ]
  },
  {
   "cell_type": "code",
   "execution_count": 13,
   "id": "21e8f9be",
   "metadata": {},
   "outputs": [
    {
     "name": "stdout",
     "output_type": "stream",
     "text": [
      "이름\t\t총점\t\t평균\n",
      "슈가\t\t367\t\t91.75\n",
      "진\t\t372\t\t93.0\n",
      "카리\t\t386\t\t96.5\n"
     ]
    }
   ],
   "source": [
    "# -딕셔너리로 리턴하는 함수\n",
    "def create_student(name,korean,math,eng,sci):\n",
    "    return{\n",
    "        \"name\":name,\n",
    "        \"korean\":korean,\n",
    "        \"math\":math,\n",
    "        \"eng\":eng,\n",
    "        \"sci\":sci\n",
    "    }\n",
    "#-학생들의 점수를 처리하는 부분들도 함수로 만들자\n",
    "def student_get_sum(student):\n",
    "    return student[\"korean\"]+student[\"math\"]+student[\"eng\"]+student[\"sci\"]\n",
    "\n",
    "def student_get_avg(student):\n",
    "    return student_get_sum(student)/4\n",
    "\n",
    "def student_to_string(student):\n",
    "    return \"{}\\t\\t{}\\t\\t{}\".format(student[\"name\"],student_get_sum(student),student_get_avg(student))\n",
    "\n",
    "students = [\n",
    "    create_student(\"슈가\",87,97,88,95),\n",
    "    create_student(\"진\",90,99,86,97),\n",
    "    create_student(\"카리\",99,89,99,99)\n",
    "]\n",
    "print(\"이름\",\"총점\",\"평균\",sep=\"\\t\\t\")\n",
    "for student in students:\n",
    "    print(student_to_string(student))\n",
    "\n",
    "-실행결과가 이전과 같지만 코드가 분리되고 있다. 학생이라는 객체와 관련된 \n",
    "-기능이 위로 올라갔고\n",
    "-이객체들을 사용하는 처리들은 아래로 내려갔다. 이렇게하면 '학생 객체과 관련된기능'\n",
    "-을 별도의 모듈로 빼서 관리 할 수도 있다.\n",
    "\n",
    "-객체과 관련된 코드를 분리 할 수 있게 하는 것이 객체지향 프로그래밍의 핵심이다.\n",
    "-클래스 라는 구조를 사용하면 위와 같은 형태의 코드를 좀 더 쉽고 편하게 구현 할 수 있다.\n",
    "\n"
   ]
  },
  {
   "cell_type": "code",
   "execution_count": 27,
   "id": "980879e9",
   "metadata": {},
   "outputs": [
    {
     "name": "stdout",
     "output_type": "stream",
     "text": [
      "이름\t\t총점\t\t평균\n",
      "슈가\n",
      "진\n",
      "카리\n"
     ]
    }
   ],
   "source": [
    "# 클래스 선언\n",
    "class Student:\n",
    "    #생성자\n",
    "    def __init__(self,name,korean,math,eng,sci):\n",
    "        self.name = name\n",
    "        self.korean =korean\n",
    "        self.math=math\n",
    "        self.eng=eng\n",
    "        self.sci=sci\n",
    "    \n",
    "    def get_sum(self):\n",
    "        return self.korean+self.math+self.eng+slef.sci\n",
    "\n",
    "    def get_avg(self):\n",
    "        return get_sum()/4\n",
    "\n",
    "    def to_string(self):\n",
    "        return \"{}\\t\\t{}\\t\\t{}\".format(self.name,self.get_sum(),self.get_avg())\n",
    "\n",
    "#학생리스트\n",
    "students = [\n",
    "    Student(\"슈가\",87,97,88,95),\n",
    "    Student(\"진\",90,99,86,97),\n",
    "    Student(\"카리\",99,89,99,99)\n",
    "]\n",
    "\n",
    "print(\"이름\",\"총점\",\"평균\",sep=\"\\t\\t\")\n",
    "for student in students:\n",
    "    print(student.name)"
   ]
  },
  {
   "cell_type": "code",
   "execution_count": null,
   "id": "63d092b9",
   "metadata": {},
   "outputs": [],
   "source": [
    "method  메서드\n",
    "클래스가 가지고있는 함수를 메서드라고 부른다\n",
    "메서드는 첫번째 매개변수로 self를 가져야한다."
   ]
  },
  {
   "cell_type": "code",
   "execution_count": 32,
   "id": "1d34097a",
   "metadata": {},
   "outputs": [
    {
     "name": "stdout",
     "output_type": "stream",
     "text": [
      "3\n",
      "6\n",
      "3\n",
      "6\n"
     ]
    }
   ],
   "source": [
    "result =0\n",
    "result2=0\n",
    "# add함수는 입력받은 값을 이전에 계산한 값에 더한후 돌려주는 함수\n",
    "def add1(num):\n",
    "    global result\n",
    "    result += num\n",
    "    return result\n",
    "\n",
    "def add2(num):\n",
    "    global result2\n",
    "    result2 += num\n",
    "    return result2\n",
    "\n",
    "print(add1(3))\n",
    "print(add1(3))\n",
    "print(add2(3))\n",
    "print(add2(3))"
   ]
  },
  {
   "cell_type": "code",
   "execution_count": 39,
   "id": "15b985b1",
   "metadata": {},
   "outputs": [
    {
     "name": "stdout",
     "output_type": "stream",
     "text": [
      "3\n",
      "7\n",
      "4\n",
      "8\n"
     ]
    }
   ],
   "source": [
    "class Cal:\n",
    "    #생성자\n",
    "    def __init__(self):\n",
    "        self.result=0\n",
    "    def add(self,num):\n",
    "        self.result += num\n",
    "        return self.result\n",
    "    \n",
    "cal1 = Cal()\n",
    "cal2 = Cal()\n",
    "\n",
    "print(cal1.add(3))\n",
    "print(cal1.add(4))\n",
    "print(cal2.add(4))\n",
    "print(cal2.add(4))"
   ]
  },
  {
   "cell_type": "code",
   "execution_count": 43,
   "id": "987a4a93",
   "metadata": {},
   "outputs": [
    {
     "data": {
      "text/plain": [
       "2"
      ]
     },
     "execution_count": 43,
     "metadata": {},
     "output_type": "execute_result"
    }
   ],
   "source": [
    "class Fourcal:\n",
    "    def setdata(self,first,second):\n",
    "        self.first=first\n",
    "        self.second=second\n",
    "a = Fourcal()\n",
    "a.setdata(4,2)\n",
    "a.second"
   ]
  },
  {
   "cell_type": "code",
   "execution_count": 54,
   "id": "6188e255",
   "metadata": {},
   "outputs": [
    {
     "name": "stdout",
     "output_type": "stream",
     "text": [
      "3\n",
      "-1\n",
      "2\n",
      "0.5\n"
     ]
    }
   ],
   "source": [
    "class Fourcal:\n",
    "    def __init__(self,first,second):\n",
    "        self.first = first\n",
    "        self.second = second\n",
    "    def add(self):\n",
    "        res = self.first+self.second\n",
    "        return res\n",
    "    def minus(self):\n",
    "        res = self.first-self.second\n",
    "        return res\n",
    "    def multi(self):\n",
    "        res = self.first*self.second\n",
    "        return res\n",
    "    def div(self):\n",
    "        res = self.first/self.second\n",
    "        return res\n",
    "    \n",
    "f=Fourcal(1,2)\n",
    "\n",
    "\n",
    "print(f.add())\n",
    "print(f.minus())\n",
    "print(f.multi())\n",
    "print(f.div())"
   ]
  },
  {
   "cell_type": "code",
   "execution_count": null,
   "id": "06ca1d1a",
   "metadata": {},
   "outputs": [],
   "source": [
    "상속 inheritance - 어떤 클래스를 만들때 다른 클래스의 기능을 물려받아 사용한다\n",
    "class MoreFourCal(Fourcal):\n",
    "    pass"
   ]
  },
  {
   "cell_type": "code",
   "execution_count": null,
   "id": "2ed1e51f",
   "metadata": {},
   "outputs": [],
   "source": [
    "메서드 오버라이딩 오버로딩"
   ]
  },
  {
   "cell_type": "code",
   "execution_count": 57,
   "id": "d4dd8bb9",
   "metadata": {},
   "outputs": [
    {
     "data": {
      "text/plain": [
       "0"
      ]
     },
     "execution_count": 57,
     "metadata": {},
     "output_type": "execute_result"
    }
   ],
   "source": [
    "#overriding >>>>>>>>메소드 재정의\n",
    "class SafeFourCal(Fourcal):\n",
    "    def div(self):\n",
    "        if self.second ==0:\n",
    "            return 0\n",
    "        else:\n",
    "            return self.first/self.second\n",
    "        \n",
    "f1 = SafeFourCal(4,0)\n",
    "f1.div()"
   ]
  },
  {
   "cell_type": "code",
   "execution_count": 63,
   "id": "d6a3f9af",
   "metadata": {},
   "outputs": [
    {
     "data": {
      "text/plain": [
       "'박'"
      ]
     },
     "execution_count": 63,
     "metadata": {},
     "output_type": "execute_result"
    }
   ],
   "source": [
    "# 클래스변수\n",
    "# 객체변수는 다른 객체들에 영향을 받지 않고 독립적으로 그 값을 유지 한다는 점을\n",
    "# 이미 알아보았다\n",
    "# 이번에는 객체 변수와는 성격이 다른 클래스 변수에 대해 알아보자.\n",
    "class Family:\n",
    "    lastname = '김' #클래스 변수 선언\n",
    "Family.lastname\n",
    "\n",
    "a=Family()\n",
    "b=Family()\n",
    "a.lastname = \"나나\"\n",
    "b.lastname\n",
    "\n",
    "Family.lastname=\"박\"\n",
    "a.lastname\n",
    "b.lastname\n",
    "\n"
   ]
  },
  {
   "cell_type": "code",
   "execution_count": 66,
   "id": "74787a8c",
   "metadata": {},
   "outputs": [
    {
     "name": "stdout",
     "output_type": "stream",
     "text": [
      "3\n"
     ]
    }
   ],
   "source": [
    "class Calculator:\n",
    "    def __init__(self):\n",
    "        self.value =0         ## value 변수 생성\n",
    "    def add(self, val):\n",
    "        self.value += val\n",
    "class UpgradeCalculator(Calculator):\n",
    "    def minus(self,val):\n",
    "        self.value -= val\n",
    "cal = UpgradeCalculator()\n",
    "cal.add(10)           ## value = 0+10\n",
    "cal.minus(7)          ## value = 10-7\n",
    "print(cal.value)      "
   ]
  }
 ],
 "metadata": {
  "kernelspec": {
   "display_name": "Python 3 (ipykernel)",
   "language": "python",
   "name": "python3"
  },
  "language_info": {
   "codemirror_mode": {
    "name": "ipython",
    "version": 3
   },
   "file_extension": ".py",
   "mimetype": "text/x-python",
   "name": "python",
   "nbconvert_exporter": "python",
   "pygments_lexer": "ipython3",
   "version": "3.9.7"
  }
 },
 "nbformat": 4,
 "nbformat_minor": 5
}
