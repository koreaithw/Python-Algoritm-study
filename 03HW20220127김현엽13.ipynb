{
  "nbformat": 4,
  "nbformat_minor": 0,
  "metadata": {
    "colab": {
      "name": "03HW20220127김현엽13",
      "provenance": [],
      "authorship_tag": "ABX9TyOLKMbAH1DFeuDFIK9UHuIi",
      "include_colab_link": true
    },
    "kernelspec": {
      "name": "python3",
      "display_name": "Python 3"
    },
    "language_info": {
      "name": "python"
    }
  },
  "cells": [
    {
      "cell_type": "markdown",
      "metadata": {
        "id": "view-in-github",
        "colab_type": "text"
      },
      "source": [
        "<a href=\"https://colab.research.google.com/github/koreaithw/ai/blob/main/03HW20220127%EA%B9%80%ED%98%84%EC%97%BD13.ipynb\" target=\"_parent\"><img src=\"https://colab.research.google.com/assets/colab-badge.svg\" alt=\"Open In Colab\"/></a>"
      ]
    },
    {
      "cell_type": "code",
      "execution_count": 2,
      "metadata": {
        "colab": {
          "base_uri": "https://localhost:8080/"
        },
        "id": "KxtXPOTvjot1",
        "outputId": "ac71a98c-97c4-4827-8091-fa16f86ad429"
      },
      "outputs": [
        {
          "output_type": "stream",
          "name": "stdout",
          "text": [
            "{'메로나': [300, 20], '비비빅': [400, 3], '죠스바': [250, 100]}\n"
          ]
        }
      ],
      "source": [
        "# 091\n",
        "inventory = {\n",
        "    \"메로나\":[300,20],\n",
        "    \"비비빅\":[400,3],\n",
        "    \"죠스바\":[250,100]\n",
        "}\n",
        "print(inventory)"
      ]
    },
    {
      "cell_type": "code",
      "source": [
        "# 092\n",
        "inventory = {\n",
        "    \"메로나\":[300,20],\n",
        "    \"비비빅\":[400,3],\n",
        "    \"죠스바\":[250,100]\n",
        "}\n",
        "print(f'{inventory[\"메로나\"][0]}원')"
      ],
      "metadata": {
        "colab": {
          "base_uri": "https://localhost:8080/"
        },
        "id": "yyY9QX4gkND3",
        "outputId": "110dd398-1423-497c-d7dd-f24c6aaca16e"
      },
      "execution_count": 7,
      "outputs": [
        {
          "output_type": "stream",
          "name": "stdout",
          "text": [
            "300원\n"
          ]
        }
      ]
    },
    {
      "cell_type": "code",
      "source": [
        "# 093\n",
        "inventory = {\n",
        "    \"메로나\":[300,20],\n",
        "    \"비비빅\":[400,3],\n",
        "    \"죠스바\":[250,100]\n",
        "}\n",
        "print(f'{inventory[\"메로나\"][1]}개')"
      ],
      "metadata": {
        "colab": {
          "base_uri": "https://localhost:8080/"
        },
        "id": "kUel4jWHkjWC",
        "outputId": "70a6f63d-7c88-4451-97dc-6e8ea6ef8172"
      },
      "execution_count": 8,
      "outputs": [
        {
          "output_type": "stream",
          "name": "stdout",
          "text": [
            "20개\n"
          ]
        }
      ]
    },
    {
      "cell_type": "code",
      "source": [
        "# 094\n",
        "inventory = {\n",
        "    \"메로나\":[300,20],\n",
        "    \"비비빅\":[400,3],\n",
        "    \"죠스바\":[250,100]\n",
        "}\n",
        "inventory[\"월드콘\"] = [500,7]\n",
        "print(inventory)"
      ],
      "metadata": {
        "colab": {
          "base_uri": "https://localhost:8080/"
        },
        "id": "kDht8r-1kquJ",
        "outputId": "efe4e247-1e85-4f07-908f-3d803a7dc113"
      },
      "execution_count": 10,
      "outputs": [
        {
          "output_type": "stream",
          "name": "stdout",
          "text": [
            "{'메로나': [300, 20], '비비빅': [400, 3], '죠스바': [250, 100], '월드콘': [500, 7]}\n"
          ]
        }
      ]
    },
    {
      "cell_type": "code",
      "source": [
        "# 095\n",
        "icecream = {'탱크보이': 1200, '폴라포': 1200, '빵빠레': 1800, '월드콘': 1500, '메로나': 1000}\n",
        "icelist = list(icecream.keys())\n",
        "print(icelist)"
      ],
      "metadata": {
        "colab": {
          "base_uri": "https://localhost:8080/"
        },
        "id": "a0OcdzSElNpp",
        "outputId": "b8e6eef2-fa44-4f1d-aa28-3c50581929fe"
      },
      "execution_count": 17,
      "outputs": [
        {
          "output_type": "stream",
          "name": "stdout",
          "text": [
            "['탱크보이', '폴라포', '빵빠레', '월드콘', '메로나']\n"
          ]
        }
      ]
    },
    {
      "cell_type": "code",
      "source": [
        "# 096\n",
        "icecream = {'탱크보이': 1200, '폴라포': 1200, '빵빠레': 1800, '월드콘': 1500, '메로나': 1000}\n",
        "icelist = list(icecream.values())\n",
        "print(icelist)\n"
      ],
      "metadata": {
        "colab": {
          "base_uri": "https://localhost:8080/"
        },
        "id": "NkkbOQH1lgIR",
        "outputId": "8e27e7c0-81f0-4788-f7e5-e03b09012c36"
      },
      "execution_count": 16,
      "outputs": [
        {
          "output_type": "stream",
          "name": "stdout",
          "text": [
            "[1200, 1200, 1800, 1500, 1000]\n"
          ]
        }
      ]
    },
    {
      "cell_type": "code",
      "source": [
        "# 097\n",
        "icecream = {'탱크보이': 1200, '폴라포': 1200, '빵빠레': 1800, '월드콘': 1500, '메로나': 1000}\n",
        "pay = list(icecream.values())\n",
        "sum=0\n",
        "for i in pay:\n",
        " sum = sum+i\n",
        "print(sum)\n"
      ],
      "metadata": {
        "colab": {
          "base_uri": "https://localhost:8080/"
        },
        "id": "sKC9IzdSmDO5",
        "outputId": "facf5026-797d-40f8-8d49-9d150c5ffb64"
      },
      "execution_count": 18,
      "outputs": [
        {
          "output_type": "stream",
          "name": "stdout",
          "text": [
            "6700\n"
          ]
        }
      ]
    },
    {
      "cell_type": "code",
      "source": [
        "# 098\n",
        "icecream = {'탱크보이': 1200, '폴라포': 1200, '빵빠레': 1800, '월드콘': 1500, '메로나': 1000}\n",
        "new_product = {'팥빙수':2700, '아맛나':1000}\n",
        "icecream.update(new_product)\n",
        "print(icecream)\n"
      ],
      "metadata": {
        "colab": {
          "base_uri": "https://localhost:8080/"
        },
        "id": "Wvv1nHXcmEUp",
        "outputId": "ee3aba85-d4bf-4f7f-851b-7300e72a63d8"
      },
      "execution_count": 24,
      "outputs": [
        {
          "output_type": "stream",
          "name": "stdout",
          "text": [
            "{'탱크보이': 1200, '폴라포': 1200, '빵빠레': 1800, '월드콘': 1500, '메로나': 1000, '팥빙수': 2700, '아맛나': 1000}\n"
          ]
        }
      ]
    },
    {
      "cell_type": "code",
      "source": [
        "# 099\n",
        "result={\n",
        "    'apple':300,\n",
        "    'pear':250,\n",
        "    'peach':400\n",
        "}\n",
        "print(result)\n"
      ],
      "metadata": {
        "colab": {
          "base_uri": "https://localhost:8080/"
        },
        "id": "my5rjVNOmEW5",
        "outputId": "e0b8155c-da70-4738-c089-1bea920cc587"
      },
      "execution_count": 25,
      "outputs": [
        {
          "output_type": "stream",
          "name": "stdout",
          "text": [
            "{'apple': 300, 'pear': 250, 'peach': 400}\n"
          ]
        }
      ]
    },
    {
      "cell_type": "code",
      "source": [
        "# 100\n",
        "close_table = {'09/05': 10500, '09/06': 10300, '09/07': 10100, '09/08': 10800,\n",
        "'09/09': 11000    \n",
        "}\n",
        "print(close_table)"
      ],
      "metadata": {
        "colab": {
          "base_uri": "https://localhost:8080/"
        },
        "id": "RAScKYAfmEZj",
        "outputId": "eb0c5264-a25b-408b-ceb5-3047095f3e3c"
      },
      "execution_count": 26,
      "outputs": [
        {
          "output_type": "stream",
          "name": "stdout",
          "text": [
            "{'09/05': 10500, '09/06': 10300, '09/07': 10100, '09/08': 10800, '09/09': 11000}\n"
          ]
        }
      ]
    },
    {
      "cell_type": "code",
      "source": [
        "# 151\n",
        "리스트 = [3, -20, -3, 44]\n",
        "for i in 리스트:\n",
        "  if i<0:\n",
        "    print(i)\n",
        "  \n"
      ],
      "metadata": {
        "colab": {
          "base_uri": "https://localhost:8080/"
        },
        "id": "KNAvQPgfmEbp",
        "outputId": "0f3deb9c-2cf3-4d21-8bc9-a010ed5c3db8"
      },
      "execution_count": 28,
      "outputs": [
        {
          "output_type": "stream",
          "name": "stdout",
          "text": [
            "-20\n",
            "-3\n"
          ]
        }
      ]
    },
    {
      "cell_type": "code",
      "source": [
        "# 152\n",
        "리스트 =  [3, 100, 23, 44]\n",
        "for i in 리스트:\n",
        "  if i%3==0:\n",
        "    print(i)"
      ],
      "metadata": {
        "colab": {
          "base_uri": "https://localhost:8080/"
        },
        "id": "DQe3VIaqmEgZ",
        "outputId": "765a05a8-4b73-4ce6-fbaa-7a7d81087f43"
      },
      "execution_count": 29,
      "outputs": [
        {
          "output_type": "stream",
          "name": "stdout",
          "text": [
            "3\n"
          ]
        }
      ]
    },
    {
      "cell_type": "code",
      "source": [
        "# 153\n",
        "리스트 = [13, 21, 12, 14, 30, 18]\n",
        "for i in 리스트:\n",
        "  if i%3==0 and i<20:\n",
        "    print(i)"
      ],
      "metadata": {
        "colab": {
          "base_uri": "https://localhost:8080/"
        },
        "id": "-3j-ugwhmEjB",
        "outputId": "dd9fa9a3-e60b-4de4-9fe2-e9c5180cd6c8"
      },
      "execution_count": 30,
      "outputs": [
        {
          "output_type": "stream",
          "name": "stdout",
          "text": [
            "12\n",
            "18\n"
          ]
        }
      ]
    },
    {
      "cell_type": "code",
      "source": [
        "# 154\n",
        "리스트 = [\"I\", \"study\", \"python\", \"language\", \"!\"]\n",
        "for i in 리스트:\n",
        "  if len(i)>2:\n",
        "    print(i)"
      ],
      "metadata": {
        "colab": {
          "base_uri": "https://localhost:8080/"
        },
        "id": "p9fVXY0FmErJ",
        "outputId": "a0b0cd94-ec16-4476-f0c6-d6e98f819631"
      },
      "execution_count": 35,
      "outputs": [
        {
          "output_type": "stream",
          "name": "stdout",
          "text": [
            "study\n",
            "python\n",
            "language\n"
          ]
        }
      ]
    },
    {
      "cell_type": "code",
      "source": [
        "# 155\n",
        "리스트 = [\"A\", \"b\", \"c\", \"D\"]\n",
        "for i in 리스트:\n",
        "  if i.isupper():\n",
        "    print(i)"
      ],
      "metadata": {
        "colab": {
          "base_uri": "https://localhost:8080/"
        },
        "id": "CH72gquVmEtn",
        "outputId": "120c7aae-1491-49a1-b23d-c0ff02bcc4f6"
      },
      "execution_count": 36,
      "outputs": [
        {
          "output_type": "stream",
          "name": "stdout",
          "text": [
            "A\n",
            "D\n"
          ]
        }
      ]
    },
    {
      "cell_type": "code",
      "source": [
        "# 156\n",
        "리스트 = [\"A\", \"b\", \"c\", \"D\"]\n",
        "for i in 리스트:\n",
        "  if i.islower():\n",
        "    print(i)"
      ],
      "metadata": {
        "colab": {
          "base_uri": "https://localhost:8080/"
        },
        "id": "TROEZOC9rgRM",
        "outputId": "5422713f-f4d8-41e7-d218-0f32dd70662b"
      },
      "execution_count": 37,
      "outputs": [
        {
          "output_type": "stream",
          "name": "stdout",
          "text": [
            "b\n",
            "c\n"
          ]
        }
      ]
    },
    {
      "cell_type": "code",
      "source": [
        "# 157\n",
        "리스트 = ['dog', 'cat', 'parrot']\n",
        "for i in 리스트:\n",
        "  print(i[0].upper()+i[1:])\n",
        "  "
      ],
      "metadata": {
        "colab": {
          "base_uri": "https://localhost:8080/"
        },
        "id": "2T6gm02mrgOz",
        "outputId": "cc70534b-4fd0-439f-a30e-a1ef8814314f"
      },
      "execution_count": 59,
      "outputs": [
        {
          "output_type": "stream",
          "name": "stdout",
          "text": [
            "Dog\n",
            "Cat\n",
            "Parrot\n"
          ]
        }
      ]
    },
    {
      "cell_type": "code",
      "source": [
        "# 158\n",
        "리스트 = ['hello.py', 'ex01.py', 'intro.hwp']\n",
        "for i in 리스트:\n",
        " a, b = i.split('.')\n",
        " print(a)"
      ],
      "metadata": {
        "colab": {
          "base_uri": "https://localhost:8080/"
        },
        "id": "OsLk4JLSrgLj",
        "outputId": "6080ebff-3c7f-45e8-c184-d7eebc0edaad"
      },
      "execution_count": 62,
      "outputs": [
        {
          "output_type": "stream",
          "name": "stdout",
          "text": [
            "hello\n",
            "ex01\n",
            "intro\n"
          ]
        }
      ]
    },
    {
      "cell_type": "code",
      "source": [
        "# 159\n",
        "리스트 = ['intra.h', 'intra.c', 'define.h', 'run.py']\n",
        "for i in 리스트:\n",
        "  a, b = i.split(\".\")\n",
        "  if b=='h':\n",
        "    print(i)"
      ],
      "metadata": {
        "colab": {
          "base_uri": "https://localhost:8080/"
        },
        "id": "-uvD3RYgrgCj",
        "outputId": "97399354-db52-4e42-f20d-bce103c1efe4"
      },
      "execution_count": 66,
      "outputs": [
        {
          "output_type": "stream",
          "name": "stdout",
          "text": [
            "intra.h\n",
            "define.h\n"
          ]
        }
      ]
    },
    {
      "cell_type": "code",
      "source": [
        "# 160\n",
        "리스트 = ['intra.h', 'intra.c', 'define.h', 'run.py']\n",
        "for i in 리스트:\n",
        "  a, b = i.split(\".\")\n",
        "  if b=='h' or b=='c':\n",
        "    print(i)\n"
      ],
      "metadata": {
        "colab": {
          "base_uri": "https://localhost:8080/"
        },
        "id": "xFFIL45PrfY-",
        "outputId": "8c42c037-a3fe-4e13-aa04-173c6391a854"
      },
      "execution_count": 67,
      "outputs": [
        {
          "output_type": "stream",
          "name": "stdout",
          "text": [
            "intra.h\n",
            "intra.c\n",
            "define.h\n"
          ]
        }
      ]
    }
  ]
}