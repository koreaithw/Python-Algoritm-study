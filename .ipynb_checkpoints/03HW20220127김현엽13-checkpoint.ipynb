{
 "cells": [
  {
   "cell_type": "markdown",
   "metadata": {
    "colab_type": "text",
    "id": "view-in-github"
   },
   "source": [
    "<a href=\"https://colab.research.google.com/github/koreaithw/ai/blob/main/03HW20220127%EA%B9%80%ED%98%84%EC%97%BD13.ipynb\" target=\"_parent\"><img src=\"https://colab.research.google.com/assets/colab-badge.svg\" alt=\"Open In Colab\"/></a>"
   ]
  },
  {
   "cell_type": "code",
   "execution_count": 1,
   "metadata": {
    "colab": {
     "base_uri": "https://localhost:8080/"
    },
    "id": "KxtXPOTvjot1",
    "outputId": "38e1bd08-8983-4100-98f9-8cc0e691f111"
   },
   "outputs": [
    {
     "name": "stdout",
     "output_type": "stream",
     "text": [
      "{'메로나': [300, 20], '비비빅': [400, 3], '죠스바': [250, 100]}\n"
     ]
    }
   ],
   "source": [
    "# 091\n",
    "inventory = {\n",
    "    \"메로나\":[300,20],\n",
    "    \"비비빅\":[400,3],\n",
    "    \"죠스바\":[250,100]\n",
    "}\n",
    "print(inventory)"
   ]
  },
  {
   "cell_type": "code",
   "execution_count": 2,
   "metadata": {
    "colab": {
     "base_uri": "https://localhost:8080/"
    },
    "id": "yyY9QX4gkND3",
    "outputId": "c4ed27fb-d9d7-4e4f-d647-036863ca9fa6"
   },
   "outputs": [
    {
     "name": "stdout",
     "output_type": "stream",
     "text": [
      "300원\n"
     ]
    }
   ],
   "source": [
    "# 092\n",
    "inventory = {\n",
    "    \"메로나\":[300,20],\n",
    "    \"비비빅\":[400,3],\n",
    "    \"죠스바\":[250,100]\n",
    "}\n",
    "print(f'{inventory[\"메로나\"][0]}원')"
   ]
  },
  {
   "cell_type": "code",
   "execution_count": 3,
   "metadata": {
    "colab": {
     "base_uri": "https://localhost:8080/"
    },
    "id": "kUel4jWHkjWC",
    "outputId": "9d149c3f-e556-4ec1-b1cd-dd8bfc46d004"
   },
   "outputs": [
    {
     "name": "stdout",
     "output_type": "stream",
     "text": [
      "20개\n"
     ]
    }
   ],
   "source": [
    "# 093\n",
    "inventory = {\n",
    "    \"메로나\":[300,20],\n",
    "    \"비비빅\":[400,3],\n",
    "    \"죠스바\":[250,100]\n",
    "}\n",
    "print(f'{inventory[\"메로나\"][1]}개')"
   ]
  },
  {
   "cell_type": "code",
   "execution_count": 4,
   "metadata": {
    "colab": {
     "base_uri": "https://localhost:8080/"
    },
    "id": "kDht8r-1kquJ",
    "outputId": "308c058c-3f73-46ca-94dc-69a12b2c4fd9"
   },
   "outputs": [
    {
     "name": "stdout",
     "output_type": "stream",
     "text": [
      "{'메로나': [300, 20], '비비빅': [400, 3], '죠스바': [250, 100], '월드콘': [500, 7]}\n"
     ]
    }
   ],
   "source": [
    "# 094\n",
    "inventory = {\n",
    "    \"메로나\":[300,20],\n",
    "    \"비비빅\":[400,3],\n",
    "    \"죠스바\":[250,100]\n",
    "}\n",
    "inventory[\"월드콘\"] = [500,7]\n",
    "print(inventory)"
   ]
  },
  {
   "cell_type": "code",
   "execution_count": 1,
   "metadata": {
    "colab": {
     "base_uri": "https://localhost:8080/"
    },
    "id": "a0OcdzSElNpp",
    "outputId": "bd213fa2-5afb-4d2c-da26-00e4569a56c1"
   },
   "outputs": [
    {
     "name": "stdout",
     "output_type": "stream",
     "text": [
      "['탱크보이', '폴라포', '빵빠레', '월드콘', '메로나']\n",
      "dict_keys(['탱크보이', '폴라포', '빵빠레', '월드콘', '메로나'])\n"
     ]
    }
   ],
   "source": [
    "# 095\n",
    "icecream = {'탱크보이': 1200, '폴라포': 1200, '빵빠레': 1800, '월드콘': 1500, '메로나': 1000}\n",
    "icelist = list(icecream.keys())\n",
    "print(icelist)"
   ]
  },
  {
   "cell_type": "code",
   "execution_count": 23,
   "metadata": {
    "colab": {
     "base_uri": "https://localhost:8080/"
    },
    "id": "NkkbOQH1lgIR",
    "outputId": "1d392dee-0a29-4b75-ec3c-9ee3816f4347"
   },
   "outputs": [
    {
     "name": "stdout",
     "output_type": "stream",
     "text": [
      "[1200, 1200, 1800, 1500, 1000]\n",
      "dict_values([1200, 1200, 1800, 1500, 1000])\n"
     ]
    }
   ],
   "source": [
    "# 096\n",
    "icecream = {'탱크보이': 1200, '폴라포': 1200, '빵빠레': 1800, '월드콘': 1500, '메로나': 1000}\n",
    "icelist = list(icecream.values())\n",
    "print(icelist)\n",
    "# print(icecream.values())  >>>>>>>dictionary형태\n",
    "\n",
    "\n"
   ]
  },
  {
   "cell_type": "code",
   "execution_count": 4,
   "metadata": {
    "colab": {
     "base_uri": "https://localhost:8080/"
    },
    "id": "sKC9IzdSmDO5",
    "outputId": "e678dc76-4152-426c-9af1-fb5c974fa86c"
   },
   "outputs": [
    {
     "name": "stdout",
     "output_type": "stream",
     "text": [
      "dict_values([1200, 1200, 1800, 1500, 1000])\n",
      "6700\n"
     ]
    }
   ],
   "source": [
    "# 097\n",
    "icecream = {'탱크보이': 1200, '폴라포': 1200, '빵빠레': 1800, '월드콘': 1500, '메로나': 1000}\n",
    "pay = sum(icecream.values())\n",
    "print(pay)\n"
   ]
  },
  {
   "cell_type": "code",
   "execution_count": 8,
   "metadata": {
    "colab": {
     "base_uri": "https://localhost:8080/"
    },
    "id": "Wvv1nHXcmEUp",
    "outputId": "c8d1b430-57f9-4e48-e393-1235b492c127"
   },
   "outputs": [
    {
     "name": "stdout",
     "output_type": "stream",
     "text": [
      "{'탱크보이': 1200, '폴라포': 1200, '빵빠레': 1800, '월드콘': 1500, '메로나': 1000, '팥빙수': 2700, '아맛나': 1000}\n"
     ]
    }
   ],
   "source": [
    "# 098\n",
    "icecream = {'탱크보이': 1200, '폴라포': 1200, '빵빠레': 1800, '월드콘': 1500, '메로나': 1000}\n",
    "new_product = {'팥빙수':2700, '아맛나':1000}\n",
    "icecream.update(new_product)\n",
    "print(icecream)\n"
   ]
  },
  {
   "cell_type": "code",
   "execution_count": 6,
   "metadata": {
    "colab": {
     "base_uri": "https://localhost:8080/"
    },
    "id": "my5rjVNOmEW5",
    "outputId": "62ecd2ad-1016-4856-80d3-f604dc711d1e"
   },
   "outputs": [
    {
     "name": "stdout",
     "output_type": "stream",
     "text": [
      "{'apple': 300, 'pear': 250, 'peach': 400}\n"
     ]
    }
   ],
   "source": [
    "# 099  두개의 tuple>>>>dict   use zip(keys,values)\n",
    "keys = (\"apple\", \"pear\", \"peach\")\n",
    "vals = (300, 250, 400)\n",
    "result = dict(zip(keys, vals))\n",
    "\n",
    "print(result)\n"
   ]
  },
  {
   "cell_type": "code",
   "execution_count": 24,
   "metadata": {
    "colab": {
     "base_uri": "https://localhost:8080/"
    },
    "id": "RAScKYAfmEZj",
    "outputId": "a4cb5c68-8ba2-4fe3-cad3-57de6ce7f45d"
   },
   "outputs": [
    {
     "name": "stdout",
     "output_type": "stream",
     "text": [
      "{'09/05': 10500, '09/06': 10300, '09/07': 10100, '09/08': 10800, '09/09': 11000}\n",
      "{'09/05': 10500, '09/06': 10300, '09/07': 10100, '09/08': 10800, '09/09': 11000, 'name': 1}\n"
     ]
    }
   ],
   "source": [
    "# 100    두개의 list>>>>dict   use zip(keys,values)\n",
    "date = ['09/05', '09/06', '09/07', '09/08', '09/09']\n",
    "close_price = [10500, 10300, 10100, 10800, 11000]\n",
    "\n",
    "close_table = dict(zip(date, close_price))\n",
    "print(close_table)\n",
    "# close_table[\"name\"] = 1  >>>>>>>> dict 추가하는 방법\n",
    "# print(close_table)"
   ]
  },
  {
   "cell_type": "code",
   "execution_count": 7,
   "metadata": {
    "colab": {
     "base_uri": "https://localhost:8080/"
    },
    "id": "KNAvQPgfmEbp",
    "outputId": "32c827d7-c972-4eed-f590-9367df1bd1c6"
   },
   "outputs": [
    {
     "name": "stdout",
     "output_type": "stream",
     "text": [
      "-20\n",
      "-3\n"
     ]
    }
   ],
   "source": [
    "# 151\n",
    "리스트 = [3, -20, -3, 44]\n",
    "for i in 리스트:\n",
    "  if i<0:\n",
    "    print(i)\n",
    "  \n"
   ]
  },
  {
   "cell_type": "code",
   "execution_count": 12,
   "metadata": {
    "colab": {
     "base_uri": "https://localhost:8080/"
    },
    "id": "DQe3VIaqmEgZ",
    "outputId": "e6b28820-ec48-484f-cb84-b61edc483cba"
   },
   "outputs": [
    {
     "name": "stdout",
     "output_type": "stream",
     "text": [
      "3\n"
     ]
    }
   ],
   "source": [
    "# 152\n",
    "리스트 =  [3, 100, 23, 44]\n",
    "for i in 리스트:\n",
    "  if i%3==0:\n",
    "    print(i)"
   ]
  },
  {
   "cell_type": "code",
   "execution_count": 13,
   "metadata": {
    "colab": {
     "base_uri": "https://localhost:8080/"
    },
    "id": "-3j-ugwhmEjB",
    "outputId": "252c8a97-6e4f-4959-a873-0cce0b555713"
   },
   "outputs": [
    {
     "name": "stdout",
     "output_type": "stream",
     "text": [
      "12\n",
      "18\n"
     ]
    }
   ],
   "source": [
    "# 153\n",
    "리스트 = [13, 21, 12, 14, 30, 18]\n",
    "for i in 리스트:\n",
    "  if i%3==0 and i<20:\n",
    "    print(i)"
   ]
  },
  {
   "cell_type": "code",
   "execution_count": 14,
   "metadata": {
    "colab": {
     "base_uri": "https://localhost:8080/"
    },
    "id": "p9fVXY0FmErJ",
    "outputId": "175eaa33-3cbb-4a1a-a5fd-415732d5e370"
   },
   "outputs": [
    {
     "name": "stdout",
     "output_type": "stream",
     "text": [
      "study\n",
      "python\n",
      "language\n"
     ]
    }
   ],
   "source": [
    "# 154\n",
    "리스트 = [\"I\", \"study\", \"python\", \"language\", \"!\"]\n",
    "for i in 리스트:\n",
    "  if len(i)>=3:\n",
    "    print(i)"
   ]
  },
  {
   "cell_type": "code",
   "execution_count": 15,
   "metadata": {
    "colab": {
     "base_uri": "https://localhost:8080/"
    },
    "id": "CH72gquVmEtn",
    "outputId": "704f0e1b-ec5a-44f1-95e7-8458a8e3d046"
   },
   "outputs": [
    {
     "name": "stdout",
     "output_type": "stream",
     "text": [
      "A\n",
      "D\n"
     ]
    }
   ],
   "source": [
    "# 155\n",
    "리스트 = [\"A\", \"b\", \"c\", \"D\"]\n",
    "for i in 리스트:\n",
    "  if i.isupper():\n",
    "    print(i)"
   ]
  },
  {
   "cell_type": "code",
   "execution_count": 16,
   "metadata": {
    "colab": {
     "base_uri": "https://localhost:8080/"
    },
    "id": "TROEZOC9rgRM",
    "outputId": "bc66ee9e-218d-4602-9c2f-d4dc3247ddb7"
   },
   "outputs": [
    {
     "name": "stdout",
     "output_type": "stream",
     "text": [
      "b\n",
      "c\n"
     ]
    }
   ],
   "source": [
    "# 156\n",
    "리스트 = [\"A\", \"b\", \"c\", \"D\"]\n",
    "for i in 리스트:\n",
    "  if i.islower():\n",
    "    print(i)"
   ]
  },
  {
   "cell_type": "code",
   "execution_count": 14,
   "metadata": {
    "colab": {
     "base_uri": "https://localhost:8080/"
    },
    "id": "2T6gm02mrgOz",
    "outputId": "483b5ca7-6e54-46ed-91e4-a35a9102b436"
   },
   "outputs": [
    {
     "name": "stdout",
     "output_type": "stream",
     "text": [
      "Dog\n",
      "Cat\n",
      "Parrot\n"
     ]
    }
   ],
   "source": [
    "# 157\n",
    "리스트 = ['dog', 'cat', 'parrot']\n",
    "for i in 리스트:\n",
    "  print(i[0].upper()+i[1:])\n",
    "\n",
    "  "
   ]
  },
  {
   "cell_type": "code",
   "execution_count": 42,
   "metadata": {
    "colab": {
     "base_uri": "https://localhost:8080/"
    },
    "id": "OsLk4JLSrgLj",
    "outputId": "79857947-4879-4dd0-edc6-220b81a0c7d5"
   },
   "outputs": [
    {
     "name": "stdout",
     "output_type": "stream",
     "text": [
      "hello\n",
      "ex01\n",
      "intro\n",
      "a b c d e\n"
     ]
    }
   ],
   "source": [
    "# 158\n",
    "리스트 = ['hello.py', 'ex01.py', 'intro.hwp']\n",
    "for i in 리스트:\n",
    " a, b = i.split('.')\n",
    " print(a)\n",
    "\n",
    "new_list = 'a;b;c;d;e'\n",
    "split = new_list.split(\";\")  # split 이라는 변수를 만들어서 .을 기준으로 나눠서 하나씩 넣음\n",
    "a,b,c,d,e = new_list.split(\";\")  # a,b,c,d,e 이라는 리스트를 만들어서 .을 기준으로 나눠서 변수 하나당 하나씩 넣음\n",
    "print(a,b,c,d,e)"
   ]
  },
  {
   "cell_type": "code",
   "execution_count": 19,
   "metadata": {
    "colab": {
     "base_uri": "https://localhost:8080/"
    },
    "id": "-uvD3RYgrgCj",
    "outputId": "8581a852-efbe-46f4-b49b-771fb86300be"
   },
   "outputs": [
    {
     "name": "stdout",
     "output_type": "stream",
     "text": [
      "intra.h\n",
      "define.h\n"
     ]
    }
   ],
   "source": [
    "# 159\n",
    "리스트 = ['intra.h', 'intra.c', 'define.h', 'run.py']\n",
    "for i in 리스트:\n",
    "  a, b = i.split(\".\")\n",
    "  if b=='h':\n",
    "    print(i)"
   ]
  },
  {
   "cell_type": "code",
   "execution_count": 20,
   "metadata": {
    "colab": {
     "base_uri": "https://localhost:8080/"
    },
    "id": "xFFIL45PrfY-",
    "outputId": "1735de0b-e13b-460b-8d3f-494aa21a169a"
   },
   "outputs": [
    {
     "name": "stdout",
     "output_type": "stream",
     "text": [
      "intra.h\n",
      "intra.c\n",
      "define.h\n"
     ]
    }
   ],
   "source": [
    "# 160\n",
    "리스트 = ['intra.h', 'intra.c', 'define.h', 'run.py']\n",
    "for i in 리스트:\n",
    "  a, b = i.split(\".\")\n",
    "  if b=='h' or b=='c':\n",
    "    print(i)\n"
   ]
  },
  {
   "cell_type": "code",
   "execution_count": 71,
   "metadata": {
    "colab": {
     "base_uri": "https://localhost:8080/"
    },
    "id": "8qv8rkXGv1lF",
    "outputId": "56a2adce-fe43-4518-bd65-ae176552a9c4"
   },
   "outputs": [
    {
     "name": "stdout",
     "output_type": "stream",
     "text": [
      "*\n",
      "**\n",
      "***\n",
      "****\n",
      "*****\n",
      "*\n",
      "**\n",
      "***\n",
      "****\n",
      "*****\n",
      "*\n",
      "**\n",
      "***\n",
      "****\n",
      "*****\n"
     ]
    }
   ],
   "source": [
    "#별만들기\n",
    "# *\n",
    "# **\n",
    "# ***\n",
    "# ****\n",
    "# *****\n",
    "#while문사용\n",
    "i=1\n",
    "while i<=5:\n",
    "  j=1\n",
    "  while j<=i:\n",
    "    print(\"*\",end=\"\")\n",
    "    j+=1\n",
    "  i+=1  \n",
    "  print(\"\")\n",
    "\n",
    " #for문 사용\n",
    "\n",
    "for a in range(1,6):\n",
    "      print(a*\"*\")\n",
    "\n",
    "#for문 중첩\n",
    "for a in range(1,6):\n",
    "  for b in range(1,6):\n",
    "    if b<=a:\n",
    "      print(\"*\",end=\"\")\n",
    "  print(\"\")  \n",
    "\n",
    "\n",
    "\n",
    "\n",
    "\n",
    "\n"
   ]
  }
 ],
 "metadata": {
  "colab": {
   "authorship_tag": "ABX9TyM7k0QmSYef0mZ9xB85H4wx",
   "collapsed_sections": [],
   "include_colab_link": true,
   "name": "03HW20220127김현엽13",
   "provenance": []
  },
  "kernelspec": {
   "display_name": "Python 3 (ipykernel)",
   "language": "python",
   "name": "python3"
  },
  "language_info": {
   "codemirror_mode": {
    "name": "ipython",
    "version": 3
   },
   "file_extension": ".py",
   "mimetype": "text/x-python",
   "name": "python",
   "nbconvert_exporter": "python",
   "pygments_lexer": "ipython3",
   "version": "3.9.7"
  }
 },
 "nbformat": 4,
 "nbformat_minor": 1
}
