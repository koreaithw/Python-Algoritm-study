{
 "cells": [
  {
   "cell_type": "code",
   "execution_count": null,
   "id": "86f52ca6",
   "metadata": {},
   "outputs": [],
   "source": [
    "# #프로그래밍!\n",
    "\n",
    "# pro + gram\n",
    "# 미리+작성된것\n",
    "\n",
    "# 사전적 의미는 '진행 계획' 이나 '순서'\n",
    "\n",
    "# 컴퓨터 프로그램이란\n",
    "# '컴퓨터가 무엇을 해야 할 지 미리 작성한 계획'\n",
    "\n",
    "# 카카오톡 프로그램\n",
    "# 1. 친구지정\n",
    "# 2. 메세지 입력\n",
    "# 3. 전송버튼 클릭\n",
    "\n",
    "# 프로그래밍 언어, 파이썬 ,C, 베이직, 자바..등등200개가 넘음\n",
    "\n",
    "# 파이썬(python)\n",
    "# 1.문법간단\n",
    "# 2.다양한분야 활용가능\n",
    "# 3.대부분 운영체제에서 사용가능\n",
    "# -----------------------------\n",
    "# 1.느리다 (C언어 보다 100~300배)\n",
    "\n",
    "\n",
    "# 파이썬에서 어떤 값을 만들어 내는 간단한 코드를 표현식(expression)이라고 부른다.\n",
    "# 273\n",
    "# 1+2+3\n",
    "# \"hello world\"\n",
    "\n",
    "# 이러한 표현식들이 모여 프로그램이 된다."
   ]
  },
  {
   "cell_type": "code",
   "execution_count": 17,
   "id": "922d6a9a",
   "metadata": {},
   "outputs": [
    {
     "name": "stdout",
     "output_type": "stream",
     "text": [
      "안\n",
      "녕\n",
      "하\n",
      "세\n",
      "요\n"
     ]
    }
   ],
   "source": [
    "# 문자열에서 인덱싱(문자 하나를 선택)\n",
    "print(\"안녕하세요\"[0]) # 파이썬은 인덱싱 0 에서 시작\n",
    "print(\"안녕하세요\"[1])\n",
    "print(\"안녕하세요\"[2])\n",
    "print(\"안녕하세요\"[3])\n",
    "print(\"안녕하세요\"[4])"
   ]
  },
  {
   "cell_type": "code",
   "execution_count": 4,
   "id": "52d903ff",
   "metadata": {},
   "outputs": [
    {
     "name": "stdout",
     "output_type": "stream",
     "text": [
      "Hello Python Programming~~~\n",
      "52\n"
     ]
    }
   ],
   "source": [
    "#print()\n",
    "print('Hello Python Programming~~~')\n",
    "print(52)"
   ]
  },
  {
   "cell_type": "code",
   "execution_count": 5,
   "id": "ffc1830f",
   "metadata": {},
   "outputs": [
    {
     "name": "stdout",
     "output_type": "stream",
     "text": [
      "52 11 world\n"
     ]
    }
   ],
   "source": [
    "print(52,11,\"world\")"
   ]
  },
  {
   "cell_type": "code",
   "execution_count": 6,
   "id": "860df477",
   "metadata": {},
   "outputs": [
    {
     "name": "stdout",
     "output_type": "stream",
     "text": [
      "Hello world\n",
      "\n",
      "1 2 3 4 5\n"
     ]
    }
   ],
   "source": [
    "print(\"Hello world\")\n",
    "print()\n",
    "print(1,2,3,4,5)"
   ]
  },
  {
   "cell_type": "code",
   "execution_count": 9,
   "id": "0af27dfc",
   "metadata": {},
   "outputs": [
    {
     "name": "stdout",
     "output_type": "stream",
     "text": [
      "한글사용\n"
     ]
    }
   ],
   "source": [
    "#주석은 컴퓨터는 읽지 않는다.\n",
    "print(\"한글사용\") #주석은 코드에 대한 설명을 표현한다."
   ]
  },
  {
   "cell_type": "code",
   "execution_count": 10,
   "id": "7ec36ef3",
   "metadata": {},
   "outputs": [
    {
     "name": "stdout",
     "output_type": "stream",
     "text": [
      "<class 'str'>\n"
     ]
    }
   ],
   "source": [
    "# 기본 자료형\n",
    "# 문자열 String        '안녕',\"hello\"\n",
    "# 숫자 int             1,2,3,4,5\n",
    "# 논리(불)boolean      True,False\n",
    "\n",
    "print(type(\"안녕\"))\n",
    "# \\ >> escape character 이스케이프 문자"
   ]
  },
  {
   "cell_type": "code",
   "execution_count": 14,
   "id": "0932c146",
   "metadata": {},
   "outputs": [
    {
     "name": "stdout",
     "output_type": "stream",
     "text": [
      "이름\t나이\t지역\n",
      "홍길동\t20\t강남구\n",
      "한석봉\t30\t강북구\n",
      "안녕 하세요\n",
      "안녕하세요\n"
     ]
    }
   ],
   "source": [
    "print('이름\\t나이\\t지역')\n",
    "print('홍길동\\t20\\t강남구')\n",
    "print('한석봉\\t30\\t강북구')\n",
    "print(\"안녕\",\"하세요\")\n",
    "print(\"안녕\"+\"하세요\")"
   ]
  },
  {
   "cell_type": "code",
   "execution_count": 16,
   "id": "bb300fe2",
   "metadata": {},
   "outputs": [
    {
     "name": "stdout",
     "output_type": "stream",
     "text": [
      "------------\n"
     ]
    }
   ],
   "source": [
    "print(\"-\"*12)\n",
    "# print(\"-\"+5) >> Error"
   ]
  },
  {
   "cell_type": "code",
   "execution_count": 17,
   "id": "cedfc892",
   "metadata": {},
   "outputs": [
    {
     "name": "stdout",
     "output_type": "stream",
     "text": [
      "안\n",
      "녕\n",
      "하\n",
      "세\n",
      "요\n"
     ]
    }
   ],
   "source": [
    "# 문자열에서 인덱싱(문자 하나를 선택)\n",
    "print(\"안녕하세요\"[0]) # 파이썬은 인덱싱 0 에서 시작\n",
    "print(\"안녕하세요\"[1])\n",
    "print(\"안녕하세요\"[2])\n",
    "print(\"안녕하세요\"[3])\n",
    "print(\"안녕하세요\"[4])"
   ]
  },
  {
   "cell_type": "code",
   "execution_count": 19,
   "id": "dbf94bc6",
   "metadata": {},
   "outputs": [
    {
     "name": "stdout",
     "output_type": "stream",
     "text": [
      "요\n",
      "세\n",
      "하\n",
      "녕\n",
      "안\n"
     ]
    }
   ],
   "source": [
    "print(\"안녕하세요\"[-1])\n",
    "print(\"안녕하세요\"[-2])\n",
    "print(\"안녕하세요\"[-3])\n",
    "print(\"안녕하세요\"[-4])\n",
    "print(\"안녕하세요\"[-5])"
   ]
  },
  {
   "cell_type": "code",
   "execution_count": 22,
   "id": "04293af8",
   "metadata": {},
   "outputs": [
    {
     "name": "stdout",
     "output_type": "stream",
     "text": [
      "녕하세\n",
      "녕하세요\n",
      "안녕하세\n",
      "안녕하세요\n"
     ]
    }
   ],
   "source": [
    "# 문자열에서의 슬라이싱(slicing) 문자열에서 여러글자\n",
    "\n",
    "print(\"안녕하세요\"[1:4])\n",
    "print(\"안녕하세요\"[1:])\n",
    "print(\"안녕하세요\"[:4])\n",
    "print(\"안녕하세요\"[:])\n"
   ]
  },
  {
   "cell_type": "code",
   "execution_count": 1,
   "id": "cf629023",
   "metadata": {},
   "outputs": [
    {
     "name": "stdout",
     "output_type": "stream",
     "text": [
      "5\n"
     ]
    }
   ],
   "source": [
    "# 문자열의 길이 구하기\n",
    "print(len(\"안녕하세요\"))  #길이는 1에서 시작"
   ]
  },
  {
   "cell_type": "code",
   "execution_count": 3,
   "id": "ec817bc7",
   "metadata": {},
   "outputs": [
    {
     "name": "stdout",
     "output_type": "stream",
     "text": [
      "True\n"
     ]
    }
   ],
   "source": [
    "#########조건문\n",
    "\n",
    "# bool & if\n",
    "\n",
    "print(True)"
   ]
  },
  {
   "cell_type": "code",
   "execution_count": 6,
   "id": "77e88f0e",
   "metadata": {},
   "outputs": [
    {
     "name": "stdout",
     "output_type": "stream",
     "text": [
      "False\n",
      "True\n",
      "True\n",
      "False\n",
      "False\n"
     ]
    }
   ],
   "source": [
    "print(10==100)\n",
    "print(10!=100)\n",
    "print(10<100)\n",
    "print(10>100)\n",
    "print(10>=100)\n"
   ]
  },
  {
   "cell_type": "code",
   "execution_count": 9,
   "id": "83b30fa2",
   "metadata": {},
   "outputs": [
    {
     "name": "stdout",
     "output_type": "stream",
     "text": [
      "True\n",
      "False\n",
      "True\n",
      "False\n",
      "True\n"
     ]
    }
   ],
   "source": [
    "print(\"가방\"==\"가방\")\n",
    "print(\"가방\"==\"백\")\n",
    "print(\"가방\"!=\"백\")\n",
    "print(\"가방\">\"백\")        ## 한글은 사전순서로(가<나<다<라<마...)\n",
    "print(\"가방\"<\"백\")"
   ]
  },
  {
   "cell_type": "code",
   "execution_count": 12,
   "id": "7579ac3f",
   "metadata": {},
   "outputs": [
    {
     "name": "stdout",
     "output_type": "stream",
     "text": [
      "정수를 입력하세요>>>10\n",
      "양수입니다\n"
     ]
    }
   ],
   "source": [
    "# if 조건문..........\n",
    "# 조건에 따라 특정 코드를 실행하거나 특정 코드를 실행하지 않게 만들고 싶을때\n",
    "# 코드의 실행 흐름을 변경시키는 것을 조건 분기 라고 부른다\n",
    "\n",
    "num = int(input(\"정수를 입력하세요>>>\"))\n",
    "\n",
    "if num>0:\n",
    "    print(\"양수입니다\")\n",
    "if num<0:\n",
    "    print(\"음수입니다\")\n",
    "if num==0:\n",
    "    print(\"0입니다\")\n"
   ]
  },
  {
   "cell_type": "code",
   "execution_count": 1,
   "id": "fffe3488",
   "metadata": {},
   "outputs": [
    {
     "name": "stdout",
     "output_type": "stream",
     "text": [
      "2022-01-28 15:20:59.046858\n",
      "2022\n",
      "1\n",
      "28\n",
      "15\n",
      "20\n",
      "59\n"
     ]
    }
   ],
   "source": [
    "#import\n",
    "#날짜/시간과 관련된 기능을 가져온다.\n",
    "\n",
    "import datetime\n",
    "# 현재의 날짜와 시간을 구하는 함수\n",
    "now = datetime.datetime.now()\n",
    "\n",
    "print(now)\n",
    "print(now.year)\n",
    "print(now.month)\n",
    "print(now.day)\n",
    "print(now.hour)\n",
    "print(now.minute)\n",
    "print(now.second)\n"
   ]
  },
  {
   "cell_type": "code",
   "execution_count": 2,
   "id": "8a91e9eb",
   "metadata": {},
   "outputs": [
    {
     "name": "stdout",
     "output_type": "stream",
     "text": [
      "현재시각은 15시 21분으로 오후입니다.\n"
     ]
    }
   ],
   "source": [
    "# 현재시각은 14시로 오후입니다\n",
    "import datetime\n",
    "now = datetime.datetime.now()\n",
    "\n",
    "if now.hour <12:\n",
    "    a = \"오전\"\n",
    "else:\n",
    "    a= \"오후\"\n",
    "print(f\"현재시각은 {now.hour}시 {now.minute}분으로 {a}입니다.\")\n"
   ]
  },
  {
   "cell_type": "code",
   "execution_count": 3,
   "id": "c8b2e3a1",
   "metadata": {},
   "outputs": [
    {
     "name": "stdout",
     "output_type": "stream",
     "text": [
      "이번달은 1월로 가을입니다.\n"
     ]
    }
   ],
   "source": [
    "# 이번달은 1월로 겨울입니다.\n",
    "if now.month==12 or 1 or 2:\n",
    "    a = \"겨울\"\n",
    "if now.month==3 or 4 or 5:\n",
    "    a = \"봄\"\n",
    "if now.month==6 or 7 or 8:\n",
    "    a = \"여름\"\n",
    "if now.month==9 or 10 or 11:\n",
    "    a = \"가을\"\n",
    "print(f\"이번달은 {now.month}월로 {a}입니다.\")"
   ]
  },
  {
   "cell_type": "code",
   "execution_count": 24,
   "id": "3e2ea7cf",
   "metadata": {},
   "outputs": [
    {
     "name": "stdout",
     "output_type": "stream",
     "text": [
      "정수를 입력하세요>>>65132\n",
      "짝수\n"
     ]
    }
   ],
   "source": [
    "#나머지연산자를 사용하지않고\n",
    "num = input(\"정수를 입력하세요>>>\")\n",
    "if num[-1] in \"02468\":\n",
    "    print(\"짝수\")\n",
    "if num[-1] in \"13579\":\n",
    "    print(\"홀수\")\n"
   ]
  },
  {
   "cell_type": "code",
   "execution_count": null,
   "id": "98851a39",
   "metadata": {},
   "outputs": [],
   "source": [
    "#pass\n",
    "num = int(input(\"정수입력\"))\n",
    "\n",
    "if num > 0:\n",
    "    pass\n",
    "else:\n",
    "    pass"
   ]
  },
  {
   "cell_type": "code",
   "execution_count": 25,
   "id": "783b994b",
   "metadata": {},
   "outputs": [
    {
     "name": "stdout",
     "output_type": "stream",
     "text": [
      "3\n",
      "4\n",
      "5\n"
     ]
    }
   ],
   "source": [
    "#리스트와 반복문\n",
    "li = [1,2,3,4,5] #여러개의 데이터를 저장하여 사용한다.\n",
    "for i in li:\n",
    "    if i>=3:\n",
    "        print(i)"
   ]
  },
  {
   "cell_type": "code",
   "execution_count": 38,
   "id": "cd19efa4",
   "metadata": {},
   "outputs": [
    {
     "name": "stdout",
     "output_type": "stream",
     "text": [
      "1 홍길동\n",
      "2 이몽룡\n"
     ]
    }
   ],
   "source": [
    "# 딕셔너리와 반복문\n",
    "dict={\n",
    "    1:\"홍길동\",\n",
    "    2:\"이몽룡\"\n",
    "}\n",
    "# print(dict)\n",
    "# print(dict[2])\n",
    "# print(dict.keys())\n",
    "# print(dict.values())\n",
    "\n",
    "for i in dict:\n",
    " #       key값, value값\n",
    "    print(i,dict[i])"
   ]
  },
  {
   "cell_type": "code",
   "execution_count": 40,
   "id": "619a3af8",
   "metadata": {},
   "outputs": [
    {
     "data": {
      "text/plain": [
       "[0, 1, 2, 3, 4]"
      ]
     },
     "execution_count": 40,
     "metadata": {},
     "output_type": "execute_result"
    }
   ],
   "source": [
    "list(range(5)) #시작을 생략하면 0부터 5미만 까지 ,  증감값을 생략하면 1씩증가\n"
   ]
  },
  {
   "cell_type": "code",
   "execution_count": 50,
   "id": "a936d413",
   "metadata": {},
   "outputs": [
    {
     "name": "stdout",
     "output_type": "stream",
     "text": [
      "0번째 반복\n",
      "1번째 반복\n",
      "2번째 반복\n",
      "2번째 반복\n",
      "1번째 반복\n",
      "0번째 반복\n"
     ]
    }
   ],
   "source": [
    "# for : 반복횟수를 정확히 알고 있을 때 주로 사용\n",
    "# while : 반복횟수를 정확히 알 수 없을때 주로 사용\n",
    "i=0\n",
    "while i<3:\n",
    "    print(f\"{i}번째 반복\")\n",
    "    i+=1\n",
    "# for문 역순으로 찍기-----------------------------------------------------------    \n",
    "for i in range(2,-1,-1):\n",
    "    print(f'{i}번째 반복')\n"
   ]
  },
  {
   "cell_type": "code",
   "execution_count": 62,
   "id": "a9bd5b3e",
   "metadata": {},
   "outputs": [
    {
     "name": "stdout",
     "output_type": "stream",
     "text": [
      "0번째 반복입니다\n",
      "종료할까요? y or ny\n",
      "반복을 종료합니다\n"
     ]
    }
   ],
   "source": [
    "# break / continue\n",
    "\n",
    "# break 만나는 순간 반복문 종료\n",
    "i=0\n",
    "while True:\n",
    "    print(f'{i}번째 반복입니다')\n",
    "    i+=1\n",
    "    \n",
    "    esc = input(\"종료할까요? y or n\")\n",
    "    if esc in ['y','Y']: #공백도 넘어가게 하려면 []리스트로 써줘야함 기본적으로\n",
    "                          #            \"\" in \"aslkdjf\"에서 True 이기 때문에\n",
    "        print(\"반복을 종료합니다\")\n",
    "        break\n",
    "    else:\n",
    "        pass\n",
    "    "
   ]
  },
  {
   "cell_type": "code",
   "execution_count": 67,
   "id": "93812427",
   "metadata": {},
   "outputs": [
    {
     "name": "stdout",
     "output_type": "stream",
     "text": [
      "1\n",
      "3\n",
      "5\n",
      "7\n",
      "9\n"
     ]
    }
   ],
   "source": [
    "# continue 현재 반복을 중지하고 다음반복으로 넘어 갈때 사용\n",
    "for num in range(1,11):\n",
    "    if num %2 ==0:\n",
    "        continue        \n",
    "    print(num)"
   ]
  },
  {
   "cell_type": "code",
   "execution_count": 79,
   "id": "02168a1c",
   "metadata": {},
   "outputs": [
    {
     "name": "stdout",
     "output_type": "stream",
     "text": [
      "0번 진구 입니다\n",
      "1번 철구 입니다\n",
      "2번 미애 입니다\n",
      "3번 형구 입니다\n",
      "4번 진수 입니다\n"
     ]
    }
   ],
   "source": [
    "# enumerate()  >>>>>>>>>>>>>열거형\n",
    "\n",
    "student = ['진구','철구','미애','형구','진수']\n",
    "# for i in range(5):\n",
    "#     print(f'{i}번 {student[i]}')\n",
    "\n",
    "for no, name in enumerate(student):\n",
    "    print(f\"{no}번 {name} 입니다\")\n",
    "    "
   ]
  },
  {
   "cell_type": "code",
   "execution_count": 86,
   "id": "52249f72",
   "metadata": {},
   "outputs": [
    {
     "name": "stdout",
     "output_type": "stream",
     "text": [
      "홍길동의 키는 185 입니다\n",
      "이몽룡의 키는 189 입니다\n",
      "성춘향의 키는 168 입니다\n"
     ]
    }
   ],
   "source": [
    "# items() 딕셔너리는 items()함수를 사용하여 key와 value 값을 한번에 추출 할 수 있다.\n",
    "\n",
    "dict = {\n",
    "    \"홍길동\":185,\n",
    "    \"이몽룡\":189,\n",
    "    \"성춘향\":168\n",
    "}\n",
    "# for i in dict:\n",
    "#     print(f\"{i}의 키는 {dict[i]}입니다\")\n",
    "\n",
    "for n,h in dict.items():    #쌍으로 뽑아서 쌍으로 줌\n",
    "    print(f\"{n}의 키는 {h} 입니다\")\n",
    "    "
   ]
  },
  {
   "cell_type": "code",
   "execution_count": 91,
   "id": "785d4f16",
   "metadata": {},
   "outputs": [
    {
     "name": "stdout",
     "output_type": "stream",
     "text": [
      "[0, 2, 4, 6, 8, 10, 12, 14, 16, 18]\n"
     ]
    }
   ],
   "source": [
    "# 리스트 내포(list comprehensions)----------------------------------파이썬에만 있음\n",
    "arr=[]\n",
    "for i in range(0,20,2):\n",
    "    arr.append(i)\n",
    "print(arr)"
   ]
  },
  {
   "cell_type": "code",
   "execution_count": 98,
   "id": "dd3637bf",
   "metadata": {},
   "outputs": [
    {
     "name": "stdout",
     "output_type": "stream",
     "text": [
      "[0, 2, 4, 6, 8, 10, 12, 14, 16, 18]\n"
     ]
    }
   ],
   "source": [
    "arr=[i for i in range(0,20,2)]\n",
    "print(arr)"
   ]
  },
  {
   "cell_type": "code",
   "execution_count": 115,
   "id": "331fd95a",
   "metadata": {},
   "outputs": [
    {
     "name": "stdout",
     "output_type": "stream",
     "text": [
      "['사과', '바나나', '체리']\n"
     ]
    }
   ],
   "source": [
    "arr = [\"사과\",\"바나나\",\"체리\",\"과자\"]\n",
    "output=[i \n",
    "        for i in arr\n",
    "        if i!=\"과자\"\n",
    "       ]\n",
    "print(output)"
   ]
  },
  {
   "cell_type": "code",
   "execution_count": null,
   "id": "9ffc7ee9",
   "metadata": {},
   "outputs": [],
   "source": []
  }
 ],
 "metadata": {
  "kernelspec": {
   "display_name": "Python 3 (ipykernel)",
   "language": "python",
   "name": "python3"
  },
  "language_info": {
   "codemirror_mode": {
    "name": "ipython",
    "version": 3
   },
   "file_extension": ".py",
   "mimetype": "text/x-python",
   "name": "python",
   "nbconvert_exporter": "python",
   "pygments_lexer": "ipython3",
   "version": "3.9.7"
  }
 },
 "nbformat": 4,
 "nbformat_minor": 5
}
