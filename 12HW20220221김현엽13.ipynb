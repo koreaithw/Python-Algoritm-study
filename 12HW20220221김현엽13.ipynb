{
 "cells": [
  {
   "cell_type": "code",
   "execution_count": null,
   "id": "81b9cf71",
   "metadata": {},
   "outputs": [],
   "source": [
    "# 556\n",
    "x = 'Python Jobs' \n",
    "if x.lower() == 'python jobs': \n",
    "    print('Python jobs') \n",
    "else: \n",
    "    print('python 3 jobs') \n",
    "#b"
   ]
  },
  {
   "cell_type": "code",
   "execution_count": null,
   "id": "95217c60",
   "metadata": {},
   "outputs": [],
   "source": [
    "# 557\n",
    "x = 'Python Jobs' \n",
    "if x.isupper(): \n",
    "    print('Python jobs') \n",
    "else: \n",
    "    print('python 3 jobs') \n",
    "#a"
   ]
  },
  {
   "cell_type": "code",
   "execution_count": null,
   "id": "f0cf7494",
   "metadata": {},
   "outputs": [],
   "source": [
    "# 558\n",
    "x = 'Python Jobs' \n",
    "y = x.upper().lower().upper() \n",
    "print(y) \n",
    "#b"
   ]
  },
  {
   "cell_type": "code",
   "execution_count": null,
   "id": "8f0f345b",
   "metadata": {},
   "outputs": [],
   "source": [
    "# 559\n",
    "x = 'Python Jobs' \n",
    "y = x.upper().lower().isupper() \n",
    "print(y) \n",
    "#c"
   ]
  },
  {
   "cell_type": "code",
   "execution_count": null,
   "id": "f45cc2c0",
   "metadata": {},
   "outputs": [],
   "source": [
    "# 560\n",
    "x = ['Python', 'is', 'interesting'] \n",
    "y = ' '.join(x)         # list X안의 요소들을 \" \"로 모두 조인해준다\n",
    "print(y) \n",
    "#b"
   ]
  },
  {
   "cell_type": "code",
   "execution_count": null,
   "id": "597e57dd",
   "metadata": {},
   "outputs": [],
   "source": [
    "# 561\n",
    "x = 'Python is interesting' \n",
    "y = x.split()\n",
    "print(y) \n",
    "#d"
   ]
  },
  {
   "cell_type": "code",
   "execution_count": null,
   "id": "bba2ed5c",
   "metadata": {},
   "outputs": [],
   "source": [
    "# 562\n",
    "x = '''Today is a nice day. \n",
    "Let's go for a walk. \n",
    "We'll also go to the park.''' \n",
    "y = x.split('\\n') \n",
    "print(y) \n",
    "#a"
   ]
  },
  {
   "cell_type": "code",
   "execution_count": null,
   "id": "9a70fb10",
   "metadata": {},
   "outputs": [],
   "source": [
    "# 563\n",
    "x = 'Python 2 and Python 3' \n",
    "print(x.strip('and')) \n",
    "#c"
   ]
  },
  {
   "cell_type": "code",
   "execution_count": null,
   "id": "c4706f27",
   "metadata": {},
   "outputs": [],
   "source": [
    "# 564\n",
    "x = 'Python 2 and Python 3' \n",
    "print(x.strip('thon 3')) \n",
    "#b"
   ]
  },
  {
   "cell_type": "code",
   "execution_count": 3,
   "id": "0bff58b2",
   "metadata": {},
   "outputs": [],
   "source": [
    "# 565\n",
    "#! python3 \n",
    "x = 'Python 3' \n",
    "#c"
   ]
  },
  {
   "cell_type": "code",
   "execution_count": null,
   "id": "fbd12663",
   "metadata": {},
   "outputs": [],
   "source": [
    "# 566\n",
    "import re \n",
    "x = re.compile(r'\\d\\d\\d-\\d\\d\\d\\d') \n",
    "y = x.search('The phone number is 444-4444') \n",
    "print(y.group())\n",
    "#c"
   ]
  },
  {
   "cell_type": "code",
   "execution_count": null,
   "id": "80d0f643",
   "metadata": {},
   "outputs": [],
   "source": [
    "# 567\n",
    "import re \n",
    "x = re.compile(r'(\\d\\d\\d)-(\\d\\d\\d\\d)') \n",
    "y = x.search('The phone number is 444-4444') \n",
    "print(y.group(2)) \n",
    "#b"
   ]
  },
  {
   "cell_type": "code",
   "execution_count": null,
   "id": "163e40e0",
   "metadata": {},
   "outputs": [],
   "source": [
    "# 568\n",
    "import re \n",
    "x = re.compile(r'(\\d\\d\\d)-(\\d\\d\\d\\d)') \n",
    "y = x.search('The phone number is 444-4444') \n",
    "print(y.group(1)) \n",
    "#d"
   ]
  },
  {
   "cell_type": "code",
   "execution_count": null,
   "id": "660bb21f",
   "metadata": {},
   "outputs": [],
   "source": [
    "# 569\n",
    "import re \n",
    "x = re.compile(r'(\\d\\d\\d)-(\\d\\d\\d\\d)') \n",
    "y = x.search('The phone number is 444-4444') \n",
    "print(y.group(0)) \n",
    "#c"
   ]
  },
  {
   "cell_type": "code",
   "execution_count": null,
   "id": "07345ba7",
   "metadata": {},
   "outputs": [],
   "source": [
    "# 570\n",
    "import re \n",
    "x = re.compile(r'(\\d\\d\\d)-(\\d\\d\\d\\d)')\n",
    "y = x.search('The phone number is 444-4444') \n",
    "print(y.groups()) \n",
    "#a"
   ]
  },
  {
   "cell_type": "code",
   "execution_count": null,
   "id": "b0e26ce0",
   "metadata": {},
   "outputs": [],
   "source": [
    "# 571\n",
    "import re \n",
    "x = re.compile(r'(\\(\\d\\d\\d\\))-(\\d\\d\\d\\d)')\n",
    "y = x.search('The phone number is (444)-4444') \n",
    "print(y.group(1)) \n",
    "#d"
   ]
  },
  {
   "cell_type": "code",
   "execution_count": null,
   "id": "3839b8d6",
   "metadata": {},
   "outputs": [],
   "source": [
    "# 572\n",
    "import re \n",
    "x = re.compile(r'Python 2|Python 3')\n",
    "y = x.search('Python 3 MCQ') \n",
    "print(y.group()) \n",
    "#c"
   ]
  },
  {
   "cell_type": "code",
   "execution_count": null,
   "id": "553382b2",
   "metadata": {},
   "outputs": [],
   "source": [
    "# 573\n",
    "import re \n",
    "x = re.compile(r'Python 2|Python 3') \n",
    "y = x.search('Python 2.7') \n",
    "print(y.group()) \n",
    "#b"
   ]
  },
  {
   "cell_type": "code",
   "execution_count": null,
   "id": "309abbf6",
   "metadata": {},
   "outputs": [],
   "source": [
    "# 574\n",
    "import re\n",
    "x = re.compile(r'day') \n",
    "y = x.search('Today is a nice day and a Sunday') \n",
    "print(y.group()) \n",
    "#a"
   ]
  },
  {
   "cell_type": "code",
   "execution_count": null,
   "id": "7d31ef59",
   "metadata": {},
   "outputs": [],
   "source": [
    "# 575\n",
    "import re \n",
    "x = re.compile(r'(Sun)?day') \n",
    "y = x.search('Today is a nice day and a Sunday') \n",
    "print(y.group()) \n",
    "#a"
   ]
  },
  {
   "cell_type": "code",
   "execution_count": null,
   "id": "50ce4bbe",
   "metadata": {},
   "outputs": [],
   "source": [
    "Algorithm Homework(#32)\n",
    "주어진  문자열(공백  없이  쉼표로  구분되어  있음)을  가지고  아래 문제에  대한  프로그램을  작성하세요.\n",
    "이유덕,이재영,권종표,이재영,박민호,강상희,이재영,김지완,최승혁,이 성연,박영서,박민호,전경헌,송정환,김재성,이유덕,전경헌\n",
    "①   김씨와  이씨는  각각  몇  명  인가요?\n",
    "②   \"이재영\"이란  이름이  몇  번  반복되나요?\n",
    "③   중복을  제거한  이름을  출력하세요.\n",
    "④   중복을  제거한  이름을  오름차순으로  정렬하여  출력하세요."
   ]
  },
  {
   "cell_type": "code",
   "execution_count": 45,
   "id": "3db1d370",
   "metadata": {},
   "outputs": [
    {
     "name": "stdout",
     "output_type": "stream",
     "text": [
      "how many kim and lee ? :\n",
      "김씨 2 명, 이씨 6 명\n",
      "3\n",
      "{'최승혁', '송정환', '강상희', '김재성', '박영서', '김지완', '전경헌', '권종표', '전경헌 ', '이재영', '이유덕', '박민호', '이성연'}\n",
      "['강상희', '권종표', '김재성', '김지완', '박민호', '박영서', '송정환', '이성연', '이유덕', '이재영', '전경헌', '전경헌 ', '최승혁']\n"
     ]
    }
   ],
   "source": [
    "names = '''이유덕,이재영,권종표,이재영,박민호,강상희,이재영,김지완,최승혁,이성연,박영서,박민호,전경헌,송정환,김재성,이유덕,전경헌 '''.split(\",\")\n",
    "print(\"how many kim and lee ? :\")\n",
    "count_kim=0\n",
    "count_lee=0\n",
    "for name in names:\n",
    "    if name[0]==\"김\":\n",
    "        count_kim+=1\n",
    "    elif name[0]==\"이\":\n",
    "        count_lee+=1\n",
    "print(f'김씨 {count_kim} 명, 이씨 {count_lee} 명')\n",
    "print(names.count(\"이재영\"))\n",
    "print(set(names))\n",
    "print(sorted(set(names)))\n",
    "\n"
   ]
  }
 ],
 "metadata": {
  "kernelspec": {
   "display_name": "Python 3 (ipykernel)",
   "language": "python",
   "name": "python3"
  },
  "language_info": {
   "codemirror_mode": {
    "name": "ipython",
    "version": 3
   },
   "file_extension": ".py",
   "mimetype": "text/x-python",
   "name": "python",
   "nbconvert_exporter": "python",
   "pygments_lexer": "ipython3",
   "version": "3.9.7"
  }
 },
 "nbformat": 4,
 "nbformat_minor": 5
}
