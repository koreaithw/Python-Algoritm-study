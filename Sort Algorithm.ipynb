{
 "cells": [
  {
   "cell_type": "code",
   "execution_count": null,
   "id": "ab60bb31",
   "metadata": {},
   "outputs": [],
   "source": [
    "정렬_단순 선택법"
   ]
  },
  {
   "cell_type": "code",
   "execution_count": 23,
   "id": "5fe3a01d",
   "metadata": {},
   "outputs": [
    {
     "name": "stdout",
     "output_type": "stream",
     "text": [
      "[10, 11, 12, 13, 14]\n"
     ]
    }
   ],
   "source": [
    "arr=[12,13,11,14,10] \n",
    "for i in range(len(arr)-1): #i=0~len(arr)-1까지 마지막은 자동적으로 배열됨\n",
    "    indexMin=i               #i가 하나씩 올라가면서 잠정적최소값의 인덱스 번호로 indexMin에 저장\n",
    "    for k in range(i+1,len(arr)):#비교할 인덱스번호 i+1부터 비교하면됨\n",
    "        if arr[k]<arr[indexMin]: #잠정적최소값과 비교해서 k가 작으면 인덱스값 교체 \n",
    "            indexMin = k         # 진짜 최소값의 인덱스를 indexMin에 저장         \n",
    "    w=arr[i]                  #정렬되지않은 상태의 리스트들중 제일 앞에값과 데이터 교환\n",
    "    arr[i]=arr[indexMin]\n",
    "    arr[indexMin]=w\n",
    "print(arr)"
   ]
  },
  {
   "cell_type": "markdown",
   "id": "105fc782",
   "metadata": {},
   "source": [
    "정렬_단순교환법 Bubble Sort"
   ]
  },
  {
   "cell_type": "code",
   "execution_count": 28,
   "id": "05368e02",
   "metadata": {},
   "outputs": [
    {
     "name": "stdout",
     "output_type": "stream",
     "text": [
      "[1, 2, 3, 4, 5]\n"
     ]
    }
   ],
   "source": [
    "arr=[5,3,4,1,2]\n",
    "for k in range(len(arr)-1): #고정된후 변하지 않을 인덱스번호0~3까지, 마지막은 자동배열\n",
    "    for i in range(len(arr)-1,k,-1): #i는 맨 오른쪽부터 고정된인덱스 전까지\n",
    "        if arr[i-1]>arr[i]:          #인접한 두값 비교해서 왼쪽이 크면 바꿈\n",
    "            w=arr[i-1]\n",
    "            arr[i-1]=arr[i]\n",
    "            arr[i]=w     \n",
    "print(arr)\n",
    "    "
   ]
  }
 ],
 "metadata": {
  "kernelspec": {
   "display_name": "Python 3 (ipykernel)",
   "language": "python",
   "name": "python3"
  },
  "language_info": {
   "codemirror_mode": {
    "name": "ipython",
    "version": 3
   },
   "file_extension": ".py",
   "mimetype": "text/x-python",
   "name": "python",
   "nbconvert_exporter": "python",
   "pygments_lexer": "ipython3",
   "version": "3.9.7"
  }
 },
 "nbformat": 4,
 "nbformat_minor": 5
}
